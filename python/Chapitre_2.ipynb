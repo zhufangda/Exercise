{
 "cells": [
  {
   "cell_type": "markdown",
   "metadata": {},
   "source": []
  },
  {
   "cell_type": "markdown",
   "metadata": {},
   "source": [
    "Chapitre 2 Python Labnguage Basics, IPython, and Jupyter Notebooks"
   ]
  },
  {
   "cell_type": "code",
   "execution_count": 1,
   "metadata": {
    "ExecuteTime": {
     "end_time": "2018-09-19T18:15:30.828191Z",
     "start_time": "2018-09-19T18:15:30.824165Z"
    }
   },
   "outputs": [],
   "source": [
    "import numpy as np"
   ]
  },
  {
   "cell_type": "markdown",
   "metadata": {},
   "source": [
    "## IPython Basics"
   ]
  },
  {
   "cell_type": "markdown",
   "metadata": {},
   "source": [
    "### Introspection"
   ]
  },
  {
   "cell_type": "code",
   "execution_count": 68,
   "metadata": {
    "ExecuteTime": {
     "end_time": "2018-09-19T19:08:42.427351Z",
     "start_time": "2018-09-19T19:08:42.422366Z"
    }
   },
   "outputs": [],
   "source": [
    "PI = 3.1415926\n",
    "\n",
    "\n",
    "def f(x):\n",
    "    \"\"\"\n",
    "    This is a test function.\n",
    "\n",
    "    Parameters\n",
    "    -------\n",
    "    x: the input value\n",
    "    yxx: test\n",
    "\n",
    "    Returns\n",
    "    -------\n",
    "    Z : ndrray or float\n",
    "    \"\"\"\n",
    "\n",
    "    return x + 2"
   ]
  },
  {
   "cell_type": "markdown",
   "metadata": {},
   "source": [
    "### About Magic Commands"
   ]
  },
  {
   "cell_type": "code",
   "execution_count": 4,
   "metadata": {
    "ExecuteTime": {
     "end_time": "2018-09-19T18:18:40.900774Z",
     "start_time": "2018-09-19T18:18:35.040880Z"
    }
   },
   "outputs": [
    {
     "name": "stdout",
     "output_type": "stream",
     "text": [
      "32.8 µs ± 1.53 µs per loop (mean ± std. dev. of 7 runs, 10000 loops each)\n",
      "39.6 µs ± 1.64 µs per loop (mean ± std. dev. of 7 runs, 10000 loops each)\n"
     ]
    }
   ],
   "source": [
    " a = np.random.randn(100, 100)\n",
    "%timeit np.dot(a,a)\n",
    "%timeit a.dot(a,a)"
   ]
  },
  {
   "cell_type": "code",
   "execution_count": 7,
   "metadata": {
    "ExecuteTime": {
     "end_time": "2018-09-19T18:22:59.181925Z",
     "start_time": "2018-09-19T18:22:59.175907Z"
    }
   },
   "outputs": [
    {
     "data": {
      "application/javascript": [
       "IPython.notebook.set_autosave_interval(1000)"
      ]
     },
     "metadata": {},
     "output_type": "display_data"
    },
    {
     "name": "stdout",
     "output_type": "stream",
     "text": [
      "Autosaving every 1 seconds\n"
     ]
    }
   ],
   "source": [
    "%autosave 1"
   ]
  },
  {
   "cell_type": "markdown",
   "metadata": {
    "ExecuteTime": {
     "end_time": "2018-09-19T18:28:20.517530Z",
     "start_time": "2018-09-19T18:28:20.513540Z"
    }
   },
   "source": [
    "### Matplotlib Integration"
   ]
  },
  {
   "cell_type": "code",
   "execution_count": 32,
   "metadata": {
    "ExecuteTime": {
     "end_time": "2018-09-19T18:38:40.636283Z",
     "start_time": "2018-09-19T18:38:40.629293Z"
    }
   },
   "outputs": [],
   "source": [
    "%matplotlib inline"
   ]
  },
  {
   "cell_type": "code",
   "execution_count": 33,
   "metadata": {
    "ExecuteTime": {
     "end_time": "2018-09-19T18:38:41.512418Z",
     "start_time": "2018-09-19T18:38:41.408658Z"
    }
   },
   "outputs": [
    {
     "data": {
      "text/plain": [
       "[<matplotlib.lines.Line2D at 0x1d3450c0320>]"
      ]
     },
     "execution_count": 33,
     "metadata": {},
     "output_type": "execute_result"
    },
    {
     "data": {
      "image/png": "[encoded data removed]",
      "text/plain": [
       "<matplotlib.figure.Figure at 0x1d34510be48>"
      ]
     },
     "metadata": {
      "needs_background": "light"
     },
     "output_type": "display_data"
    }
   ],
   "source": [
    "import matplotlib.pyplot as plt\n",
    "plt.plot(np.random.randn(50).cumsum())"
   ]
  },
  {
   "cell_type": "markdown",
   "metadata": {
    "ExecuteTime": {
     "end_time": "2018-09-19T18:39:03.205543Z",
     "start_time": "2018-09-19T18:39:03.202527Z"
    }
   },
   "source": [
    "## Python Language Basics\n",
    "\n",
    "### Language Semantics\n",
    "####  Variable and argument passing"
   ]
  },
  {
   "cell_type": "code",
   "execution_count": 89,
   "metadata": {
    "ExecuteTime": {
     "end_time": "2018-09-19T19:26:27.162315Z",
     "start_time": "2018-09-19T19:26:27.156319Z"
    }
   },
   "outputs": [
    {
     "data": {
      "text/plain": [
       "[1, 2, 3, 4]"
      ]
     },
     "execution_count": 89,
     "metadata": {},
     "output_type": "execute_result"
    }
   ],
   "source": [
    "a = [1, 2, 3]\n",
    "b = a\n",
    "a.append(4)\n",
    "b"
   ]
  },
  {
   "cell_type": "code",
   "execution_count": 90,
   "metadata": {
    "ExecuteTime": {
     "end_time": "2018-09-19T19:26:29.715090Z",
     "start_time": "2018-09-19T19:26:29.710103Z"
    }
   },
   "outputs": [
    {
     "data": {
      "text/plain": [
       "[1, 2, 3, 4, 115]"
      ]
     },
     "execution_count": 90,
     "metadata": {},
     "output_type": "execute_result"
    }
   ],
   "source": [
    "def append_element(some_list, element):\n",
    "    some_list.append(element)\n",
    "append_element(a, 115)\n",
    "a\n",
    "b"
   ]
  },
  {
   "cell_type": "markdown",
   "metadata": {
    "ExecuteTime": {
     "end_time": "2018-09-19T19:19:32.999676Z",
     "start_time": "2018-09-19T19:19:32.995685Z"
    }
   },
   "source": [
    "#### Dynamic references, strong types"
   ]
  },
  {
   "cell_type": "code",
   "execution_count": 39,
   "metadata": {
    "ExecuteTime": {
     "end_time": "2018-09-19T18:46:25.062648Z",
     "start_time": "2018-09-19T18:46:25.057623Z"
    }
   },
   "outputs": [
    {
     "name": "stdout",
     "output_type": "stream",
     "text": [
      "<class 'int'>\n",
      "<class 'str'>\n"
     ]
    }
   ],
   "source": [
    "a = 5\n",
    "print(type(a))\n",
    "a = 'foo'\n",
    "print(type(a))\n"
   ]
  },
  {
   "cell_type": "code",
   "execution_count": 42,
   "metadata": {
    "ExecuteTime": {
     "end_time": "2018-09-19T18:48:27.774823Z",
     "start_time": "2018-09-19T18:48:27.770832Z"
    }
   },
   "outputs": [
    {
     "name": "stdout",
     "output_type": "stream",
     "text": [
      "a is <class 'int'>, b is <class 'float'>\n"
     ]
    }
   ],
   "source": [
    "a = 4\n",
    "b = 2.5\n",
    "print(\"a is {0}, b is {1}\".format(type(a), type(b)))"
   ]
  },
  {
   "cell_type": "code",
   "execution_count": 43,
   "metadata": {
    "ExecuteTime": {
     "end_time": "2018-09-19T18:48:56.351467Z",
     "start_time": "2018-09-19T18:48:56.346481Z"
    }
   },
   "outputs": [
    {
     "data": {
      "text/plain": [
       "True"
      ]
     },
     "execution_count": 43,
     "metadata": {},
     "output_type": "execute_result"
    }
   ],
   "source": [
    "a = 5\n",
    "isinstance(a, int)"
   ]
  },
  {
   "cell_type": "code",
   "execution_count": 87,
   "metadata": {
    "ExecuteTime": {
     "end_time": "2018-09-19T19:24:34.388046Z",
     "start_time": "2018-09-19T19:24:34.383061Z"
    }
   },
   "outputs": [
    {
     "name": "stdout",
     "output_type": "stream",
     "text": [
      "True\n",
      "True\n"
     ]
    }
   ],
   "source": [
    "a = 5; b = 4.5\n",
    "print(isinstance(a, (int, float)))\n",
    "print(isinstance(b, (int, float)))"
   ]
  },
  {
   "cell_type": "markdown",
   "metadata": {
    "ExecuteTime": {
     "end_time": "2018-09-19T19:24:13.795887Z",
     "start_time": "2018-09-19T19:24:13.791899Z"
    }
   },
   "source": [
    "#### Attributes and methods"
   ]
  },
  {
   "cell_type": "code",
   "execution_count": 88,
   "metadata": {
    "ExecuteTime": {
     "end_time": "2018-09-19T19:25:08.740594Z",
     "start_time": "2018-09-19T19:24:43.780198Z"
    }
   },
   "outputs": [
    {
     "name": "stdout",
     "output_type": "stream",
     "text": [
      "190 ns ± 2.37 ns per loop (mean ± std. dev. of 7 runs, 10000000 loops each)\n",
      "118 ns ± 3.54 ns per loop (mean ± std. dev. of 7 runs, 10000000 loops each)\n"
     ]
    }
   ],
   "source": [
    "import sys\n",
    "sys.getdefaultencoding()\n",
    "%timeit getattr('foo', 'encode')()\n",
    "%timeit 'foo'.encode()"
   ]
  },
  {
   "cell_type": "markdown",
   "metadata": {},
   "source": [
    "#### Duck typing"
   ]
  },
  {
   "cell_type": "code",
   "execution_count": 61,
   "metadata": {
    "ExecuteTime": {
     "end_time": "2018-09-19T19:01:32.568189Z",
     "start_time": "2018-09-19T19:01:32.561207Z"
    }
   },
   "outputs": [
    {
     "name": "stdout",
     "output_type": "stream",
     "text": [
      "True\n",
      "True\n",
      "False\n"
     ]
    }
   ],
   "source": [
    "def isiterable(obj):\n",
    "    try:\n",
    "        iter(obj)\n",
    "        return True\n",
    "    except TypeError:\n",
    "        return False\n",
    "\n",
    "print(isiterable('a string'))\n",
    "print(isiterable([1, 2, 3]))\n",
    "print(isiterable(5))"
   ]
  },
  {
   "cell_type": "markdown",
   "metadata": {
    "ExecuteTime": {
     "end_time": "2018-09-19T19:23:56.680777Z",
     "start_time": "2018-09-19T19:23:56.677786Z"
    }
   },
   "source": [
    "#### import"
   ]
  },
  {
   "cell_type": "code",
   "execution_count": 82,
   "metadata": {
    "ExecuteTime": {
     "end_time": "2018-09-19T19:20:44.994641Z",
     "start_time": "2018-09-19T19:20:44.991649Z"
    }
   },
   "outputs": [],
   "source": [
    "# %load test_module.py\n",
    "PI = 3.1415926\n",
    "\n",
    "def f(x):\n",
    "    return x + 2\n",
    "\n",
    "def g(a, b):\n",
    "    return a + b"
   ]
  },
  {
   "cell_type": "code",
   "execution_count": 74,
   "metadata": {
    "ExecuteTime": {
     "end_time": "2018-09-19T19:13:11.094323Z",
     "start_time": "2018-09-19T19:13:11.076353Z"
    }
   },
   "outputs": [],
   "source": [
    "import test_module\n",
    "test_module.f??"
   ]
  },
  {
   "cell_type": "markdown",
   "metadata": {},
   "source": [
    "#### Binary operators and comparisons"
   ]
  },
  {
   "cell_type": "code",
   "execution_count": 78,
   "metadata": {
    "ExecuteTime": {
     "end_time": "2018-09-19T19:15:52.249757Z",
     "start_time": "2018-09-19T19:15:52.244771Z"
    }
   },
   "outputs": [
    {
     "name": "stdout",
     "output_type": "stream",
     "text": [
      "a is b: True\n",
      "a is not c: True\n",
      "a == c: True\n"
     ]
    }
   ],
   "source": [
    "a = [1, 2, 3]\n",
    "b = a\n",
    "c = list(a)\n",
    "print (\"a is b: {0}\".format(a is b))\n",
    "print(\"a is not c: {0}\".format(a is not c))\n",
    "print(\"a == c: {}\".format(a == c))"
   ]
  },
  {
   "cell_type": "markdown",
   "metadata": {},
   "source": [
    "#### Mutable and immutable objects"
   ]
  },
  {
   "cell_type": "code",
   "execution_count": 80,
   "metadata": {
    "ExecuteTime": {
     "end_time": "2018-09-19T19:17:10.536984Z",
     "start_time": "2018-09-19T19:17:10.531999Z"
    }
   },
   "outputs": [
    {
     "data": {
      "text/plain": [
       "['foo', [1, 2, 3], (3, 6)]"
      ]
     },
     "execution_count": 80,
     "metadata": {},
     "output_type": "execute_result"
    }
   ],
   "source": [
    "a_list = ['foo', a, [4,5]]\n",
    "a_list[2] = (3,6)\n",
    "a_list"
   ]
  },
  {
   "cell_type": "markdown",
   "metadata": {},
   "source": [
    "### Scalar Types\n",
    "#### Numeric types"
   ]
  },
  {
   "cell_type": "code",
   "execution_count": 91,
   "metadata": {
    "ExecuteTime": {
     "end_time": "2018-09-19T19:28:27.458845Z",
     "start_time": "2018-09-19T19:28:27.453877Z"
    }
   },
   "outputs": [
    {
     "data": {
      "text/plain": [
       "26093669616193617286781232648294658774181427019776"
      ]
     },
     "execution_count": 91,
     "metadata": {},
     "output_type": "execute_result"
    }
   ],
   "source": [
    "ival = 172222224\n",
    "ival ** 6"
   ]
  },
  {
   "cell_type": "code",
   "execution_count": 102,
   "metadata": {
    "ExecuteTime": {
     "end_time": "2018-09-19T19:31:19.156077Z",
     "start_time": "2018-09-19T19:31:19.151088Z"
    }
   },
   "outputs": [
    {
     "name": "stdout",
     "output_type": "stream",
     "text": [
      "fval : 7.243 \t fval2 : 6.78e-05\n",
      "3 / 2 : 1.5 \t 3 // 2 : 1\n"
     ]
    }
   ],
   "source": [
    "fval = 7.243\n",
    "fval2 = 6.78e-5\n",
    "print(\"fval : {} \\t fval2 : {}\".format(fval, fval2))\n",
    "print(\"3 / 2 : {} \\t 3 // 2 : {}\".format(3 / 2, 3 // 2))"
   ]
  },
  {
   "cell_type": "code",
   "execution_count": 98,
   "metadata": {
    "ExecuteTime": {
     "end_time": "2018-09-19T19:30:31.265263Z",
     "start_time": "2018-09-19T19:30:31.260277Z"
    }
   },
   "outputs": [
    {
     "data": {
      "text/plain": [
       "1.5"
      ]
     },
     "execution_count": 98,
     "metadata": {},
     "output_type": "execute_result"
    }
   ],
   "source": [
    "3/2"
   ]
  },
  {
   "cell_type": "markdown",
   "metadata": {},
   "source": [
    "#### String"
   ]
  },
  {
   "cell_type": "code",
   "execution_count": 108,
   "metadata": {
    "ExecuteTime": {
     "end_time": "2018-09-19T19:34:16.459744Z",
     "start_time": "2018-09-19T19:34:16.454757Z"
    }
   },
   "outputs": [
    {
     "name": "stdout",
     "output_type": "stream",
     "text": [
      "a : one way of writing a string \n",
      "b : another way \n",
      "c : \n",
      "This is a longer  string that\n",
      "spans multuple lines\n",
      "\n",
      "3\n"
     ]
    }
   ],
   "source": [
    "a = 'one way of writing a string'\n",
    "b = \"another way\"\n",
    "c = \"\"\"\n",
    "This is a longer  string that\n",
    "spans multuple lines\n",
    "\"\"\"\n",
    "print(\"a : {} \\nb : {} \\nc : {}\".format(a, b, c))\n",
    "\n",
    "print(c.count('\\n'))"
   ]
  },
  {
   "cell_type": "code",
   "execution_count": 110,
   "metadata": {
    "ExecuteTime": {
     "end_time": "2018-09-19T19:35:36.084431Z",
     "start_time": "2018-09-19T19:35:36.078434Z"
    }
   },
   "outputs": [
    {
     "data": {
      "text/plain": [
       "'one way of writing a long string'"
      ]
     },
     "execution_count": 110,
     "metadata": {},
     "output_type": "execute_result"
    }
   ],
   "source": [
    "b = a.replace('string', 'long string')\n",
    "b"
   ]
  },
  {
   "cell_type": "code",
   "execution_count": 113,
   "metadata": {
    "ExecuteTime": {
     "end_time": "2018-09-19T19:37:27.235613Z",
     "start_time": "2018-09-19T19:37:27.230643Z"
    }
   },
   "outputs": [
    {
     "name": "stdout",
     "output_type": "stream",
     "text": [
      "list(s) : ['p', 'y', 't', 'h', 'o', 'n']\n"
     ]
    }
   ],
   "source": [
    "s = 'python'\n",
    "print(\"list(s) : {}\".format(list(s)))"
   ]
  },
  {
   "cell_type": "code",
   "execution_count": 116,
   "metadata": {
    "ExecuteTime": {
     "end_time": "2018-09-19T19:40:03.426532Z",
     "start_time": "2018-09-19T19:40:03.422532Z"
    }
   },
   "outputs": [
    {
     "data": {
      "text/plain": [
       "'\\nThis is a very dangerous things.\\nSometimes I can not control myself.\\n'"
      ]
     },
     "execution_count": 116,
     "metadata": {},
     "output_type": "execute_result"
    }
   ],
   "source": [
    "s = r\"\"\"\n",
    "This is a very dangerous things.\n",
    "Sometimes I can not control myself.\n",
    "\"\"\"\n",
    "s"
   ]
  },
  {
   "cell_type": "code",
   "execution_count": 118,
   "metadata": {
    "ExecuteTime": {
     "end_time": "2018-09-19T19:42:00.717519Z",
     "start_time": "2018-09-19T19:42:00.711536Z"
    }
   },
   "outputs": [
    {
     "data": {
      "text/plain": [
       "'The time is 02:05'"
      ]
     },
     "execution_count": 118,
     "metadata": {},
     "output_type": "execute_result"
    }
   ],
   "source": [
    "template = 'The time is {:02d}:{:02d}'\n",
    "template.format(2,5)"
   ]
  },
  {
   "cell_type": "markdown",
   "metadata": {},
   "source": [
    "#### Bytes and Unicode"
   ]
  },
  {
   "cell_type": "code",
   "execution_count": 122,
   "metadata": {
    "ExecuteTime": {
     "end_time": "2018-09-19T19:46:59.211075Z",
     "start_time": "2018-09-19T19:46:59.207104Z"
    }
   },
   "outputs": [
    {
     "name": "stdout",
     "output_type": "stream",
     "text": [
      "val : électricity\n",
      "val_utf-8 : b'\\xc3\\xa9lectricity'\n",
      "type(val_utf8) : <class 'bytes'>\n",
      "électricity\n"
     ]
    }
   ],
   "source": [
    "val = \"électricity\"\n",
    "val_utf8 = val.encode('utf-8')\n",
    "print(\"val : {}\\nval_utf-8 : {}\\ntype(val_utf8) : {}\".format(\n",
    "    val, val_utf8, type(val_utf8)))\n",
    "\n",
    "print(val_utf8.decode())"
   ]
  },
  {
   "cell_type": "markdown",
   "metadata": {},
   "source": [
    "#### Booleans"
   ]
  },
  {
   "cell_type": "code",
   "execution_count": 123,
   "metadata": {
    "ExecuteTime": {
     "end_time": "2018-09-19T19:48:52.261996Z",
     "start_time": "2018-09-19T19:48:52.257040Z"
    }
   },
   "outputs": [
    {
     "name": "stdout",
     "output_type": "stream",
     "text": [
      "True\n",
      "True\n"
     ]
    }
   ],
   "source": [
    "print(True and True)\n",
    "print(False or True)"
   ]
  },
  {
   "cell_type": "markdown",
   "metadata": {},
   "source": [
    "#### Type casting"
   ]
  },
  {
   "cell_type": "code",
   "execution_count": 124,
   "metadata": {
    "ExecuteTime": {
     "end_time": "2018-09-19T19:50:59.772775Z",
     "start_time": "2018-09-19T19:50:59.767787Z"
    }
   },
   "outputs": [
    {
     "name": "stdout",
     "output_type": "stream",
     "text": [
      "<class 'float'>\n",
      "3\n",
      "True\n",
      "False\n"
     ]
    }
   ],
   "source": [
    "s = \"3.1415\"\n",
    "fval = float(s)\n",
    "print(type(fval))\n",
    "print(int(fval))\n",
    "print(bool(fval))\n",
    "print(bool(0))"
   ]
  },
  {
   "cell_type": "markdown",
   "metadata": {
    "ExecuteTime": {
     "end_time": "2018-09-19T19:51:14.065106Z",
     "start_time": "2018-09-19T19:51:14.062090Z"
    }
   },
   "source": [
    "#### None"
   ]
  },
  {
   "cell_type": "code",
   "execution_count": 127,
   "metadata": {
    "ExecuteTime": {
     "end_time": "2018-09-19T19:51:39.174097Z",
     "start_time": "2018-09-19T19:51:39.169086Z"
    }
   },
   "outputs": [
    {
     "data": {
      "text/plain": [
       "True"
      ]
     },
     "execution_count": 127,
     "metadata": {},
     "output_type": "execute_result"
    }
   ],
   "source": [
    "a = None\n",
    "a is None\n",
    "b = 5\n",
    "b is not None"
   ]
  },
  {
   "cell_type": "markdown",
   "metadata": {},
   "source": [
    "#### Dates and times"
   ]
  },
  {
   "cell_type": "code",
   "execution_count": 129,
   "metadata": {
    "ExecuteTime": {
     "end_time": "2018-09-19T19:52:53.468474Z",
     "start_time": "2018-09-19T19:52:53.464497Z"
    }
   },
   "outputs": [],
   "source": [
    "from datetime import datetime, date, time"
   ]
  },
  {
   "cell_type": "code",
   "execution_count": 155,
   "metadata": {
    "ExecuteTime": {
     "end_time": "2018-09-19T19:56:46.510121Z",
     "start_time": "2018-09-19T19:56:46.505116Z"
    }
   },
   "outputs": [
    {
     "data": {
      "text/plain": [
       "datetime.datetime(2011, 10, 29, 20, 30, 21, 25, tzinfo=datetime.timezone(datetime.timedelta(0, 7200), 'Paris, Madrid (heure d?¡¥¡§|t¡§|)'))"
      ]
     },
     "execution_count": 155,
     "metadata": {},
     "output_type": "execute_result"
    }
   ],
   "source": [
    "dt = datetime(2011, 10, 29, 20, 30, 21,25)\n",
    "dt.astimezone()"
   ]
  },
  {
   "cell_type": "code",
   "execution_count": 175,
   "metadata": {
    "ExecuteTime": {
     "end_time": "2018-09-19T20:04:31.750744Z",
     "start_time": "2018-09-19T20:04:31.745757Z"
    }
   },
   "outputs": [
    {
     "data": {
      "text/plain": [
       "'2011 20:30:21 '"
      ]
     },
     "execution_count": 175,
     "metadata": {},
     "output_type": "execute_result"
    }
   ],
   "source": [
    "dt.strftime(\"%Y %T %z\")"
   ]
  },
  {
   "cell_type": "code",
   "execution_count": 173,
   "metadata": {
    "ExecuteTime": {
     "end_time": "2018-09-19T20:02:42.129090Z",
     "start_time": "2018-09-19T20:02:42.122133Z"
    }
   },
   "outputs": [
    {
     "name": "stdout",
     "output_type": "stream",
     "text": [
      "2556 days, 1:00:00.000019\n",
      "3600\n",
      "19\n"
     ]
    },
    {
     "data": {
      "text/plain": [
       "datetime.timedelta(2556, 3600, 19)"
      ]
     },
     "execution_count": 173,
     "metadata": {},
     "output_type": "execute_result"
    }
   ],
   "source": [
    "dt1 = datetime(2019, 9, 18, 18, 4, 25, 33)\n",
    "dt2 = datetime(2012, 9, 18, 17, 4, 25, 14)\n",
    "delta = dt1 - dt2\n",
    "print(delta)\n",
    "delta.days\n",
    "print(delta.seconds)\n",
    "print(delta.microseconds)\n",
    "delta"
   ]
  },
  {
   "cell_type": "markdown",
   "metadata": {
    "ExecuteTime": {
     "end_time": "2018-09-19T20:04:48.486350Z",
     "start_time": "2018-09-19T20:04:48.483333Z"
    }
   },
   "source": [
    "### Control Flow"
   ]
  },
  {
   "cell_type": "code",
   "execution_count": null,
   "metadata": {},
   "outputs": [],
   "source": []
  }
 ],
 "metadata": {
  "kernelspec": {
   "display_name": "Python 3",
   "language": "python",
   "name": "python3"
  },
  "language_info": {
   "codemirror_mode": {
    "name": "ipython",
    "version": 3
   },
   "file_extension": ".py",
   "mimetype": "text/x-python",
   "name": "python",
   "nbconvert_exporter": "python",
   "pygments_lexer": "ipython3",
   "version": "3.6.6"
  },
  "toc": {
   "base_numbering": 1,
   "nav_menu": {},
   "number_sections": true,
   "sideBar": true,
   "skip_h1_title": false,
   "title_cell": "Table of Contents",
   "title_sidebar": "Contents",
   "toc_cell": false,
   "toc_position": {},
   "toc_section_display": true,
   "toc_window_display": true
  },
  "varInspector": {
   "cols": {
    "lenName": 16,
    "lenType": 16,
    "lenVar": 40
   },
   "kernels_config": {
    "python": {
     "delete_cmd_postfix": "",
     "delete_cmd_prefix": "del ",
     "library": "var_list.py",
     "varRefreshCmd": "print(var_dic_list())"
    },
    "r": {
     "delete_cmd_postfix": ") ",
     "delete_cmd_prefix": "rm(",
     "library": "var_list.r",
     "varRefreshCmd": "cat(var_dic_list()) "
    }
   },
   "types_to_exclude": [
    "module",
    "function",
    "builtin_function_or_method",
    "instance",
    "_Feature"
   ],
   "window_display": false
  },
  "widgets": {
   "application/vnd.jupyter.widget-state+json": {
    "state": {},
    "version_major": 2,
    "version_minor": 0
   }
  }
 },
 "nbformat": 4,
 "nbformat_minor": 2
}
