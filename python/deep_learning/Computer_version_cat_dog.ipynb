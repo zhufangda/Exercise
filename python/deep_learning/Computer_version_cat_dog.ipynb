{
 "cells": [
  {
   "cell_type": "code",
   "execution_count": 4,
   "metadata": {
    "ExecuteTime": {
     "end_time": "2019-07-14T09:46:07.224477Z",
     "start_time": "2019-07-14T09:46:06.480922Z"
    }
   },
   "outputs": [],
   "source": [
    "import sys, os, shutil\n",
    "import glob2\n",
    "import numpy as np\n",
    "from tqdm import tqdm_notebook as tqdm\n",
    "from sklearn.model_selection import train_test_split"
   ]
  },
  {
   "cell_type": "markdown",
   "metadata": {},
   "source": [
    "# Download file"
   ]
  },
  {
   "cell_type": "code",
   "execution_count": 5,
   "metadata": {
    "ExecuteTime": {
     "end_time": "2019-07-14T09:46:07.273997Z",
     "start_time": "2019-07-14T09:46:07.259483Z"
    }
   },
   "outputs": [],
   "source": [
    "ori_train_base = 'dogs-vs-cats/origianl/train/'\n",
    "ori_test_base = 'dogs-vs-cats/origianl/test1/'\n",
    "\n",
    "base_dir = 'dogs-vs-cats/'\n",
    "\n",
    "train_dir = os.path.join(base_dir, 'train')\n",
    "val_dir = os.path.join(base_dir, 'validation')\n",
    "test_dir = os.path.join(base_dir, 'test')\n",
    "os.makedirs(train_dir, exist_ok=True)\n",
    "os.makedirs(val_dir, exist_ok=True)\n",
    "os.makedirs(test_dir, exist_ok=True)\n",
    "\n",
    "train_cats_dir = os.path.join(train_dir, 'cats')\n",
    "train_dogs_dir = os.path.join(train_dir, 'dogs')\n",
    "os.makedirs(train_cats_dir, exist_ok=True)\n",
    "os.makedirs(train_dogs_dir, exist_ok=True)\n",
    "\n",
    "val_cats_dir = os.path.join(val_dir, 'cats')\n",
    "val_dogs_dir = os.path.join(val_dir, 'dogs')\n",
    "os.makedirs(val_cats_dir, exist_ok=True)\n",
    "os.makedirs(val_dogs_dir, exist_ok=True)\n"
   ]
  },
  {
   "cell_type": "code",
   "execution_count": 6,
   "metadata": {
    "ExecuteTime": {
     "end_time": "2019-07-14T09:46:08.421323Z",
     "start_time": "2019-07-14T09:46:07.964362Z"
    }
   },
   "outputs": [
    {
     "name": "stdout",
     "output_type": "stream",
     "text": [
      "Cat images numbers:12500\n",
      "Dog images numbers:12500\n",
      "Test images numbers:12500\n",
      "Cat train : 10000, Cat val : 2500\n",
      "Dog train : 10000, Dog val : 2500\n"
     ]
    }
   ],
   "source": [
    "\n",
    "paths = glob2.glob(ori_train_base + '*.*', norm_paths=True)\n",
    "\n",
    "test_paths = glob2.glob(ori_test_base + '*.*', norm_paths=True)\n",
    "\n",
    "cat_paths = [path for path in paths if 'cat.' in path]\n",
    "dog_paths = [path for path in paths if 'dog.' in path]\n",
    "\n",
    "print(f'Cat images numbers:{len(cat_paths)}')\n",
    "print(f'Dog images numbers:{len(dog_paths)}')\n",
    "print(f'Test images numbers:{len(test_paths)}')\n",
    "\n",
    "train_cat_paths, val_cat_paths, train_dog_paths, val_dog_paths = train_test_split(cat_paths, dog_paths, test_size=0.2, shuffle=True)\n",
    "print(f'Cat train : {len(train_cat_paths)}, Cat val : {len(val_cat_paths)}')\n",
    "print(f'Dog train : {len(train_dog_paths)}, Dog val : {len(val_dog_paths)}')\n"
   ]
  },
  {
   "cell_type": "code",
   "execution_count": 7,
   "metadata": {
    "ExecuteTime": {
     "end_time": "2019-07-14T09:46:09.468403Z",
     "start_time": "2019-07-14T09:46:09.457407Z"
    }
   },
   "outputs": [
    {
     "data": {
      "text/plain": [
       "['dogs-vs-cats/origianl/train\\\\cat.9990.jpg',\n",
       " 'dogs-vs-cats/origianl/train\\\\cat.9991.jpg',\n",
       " 'dogs-vs-cats/origianl/train\\\\cat.9992.jpg',\n",
       " 'dogs-vs-cats/origianl/train\\\\cat.9993.jpg',\n",
       " 'dogs-vs-cats/origianl/train\\\\cat.9994.jpg',\n",
       " 'dogs-vs-cats/origianl/train\\\\cat.9995.jpg',\n",
       " 'dogs-vs-cats/origianl/train\\\\cat.9996.jpg',\n",
       " 'dogs-vs-cats/origianl/train\\\\cat.9997.jpg',\n",
       " 'dogs-vs-cats/origianl/train\\\\cat.9998.jpg',\n",
       " 'dogs-vs-cats/origianl/train\\\\cat.9999.jpg']"
      ]
     },
     "execution_count": 7,
     "metadata": {},
     "output_type": "execute_result"
    }
   ],
   "source": [
    "cat_paths[-10:]"
   ]
  },
  {
   "cell_type": "code",
   "execution_count": 7,
   "metadata": {
    "ExecuteTime": {
     "end_time": "2019-07-12T20:10:13.943776Z",
     "start_time": "2019-07-12T20:09:06.967208Z"
    }
   },
   "outputs": [
    {
     "data": {
      "application/vnd.jupyter.widget-view+json": {
       "model_id": "e48a77c89391469a89dc25e1ac148d56",
       "version_major": 2,
       "version_minor": 0
      },
      "text/plain": [
       "HBox(children=(IntProgress(value=0, max=10000), HTML(value='')))"
      ]
     },
     "metadata": {},
     "output_type": "display_data"
    },
    {
     "name": "stdout",
     "output_type": "stream",
     "text": [
      "\n"
     ]
    },
    {
     "data": {
      "application/vnd.jupyter.widget-view+json": {
       "model_id": "e61985e7f0134e318def33d2a6048db2",
       "version_major": 2,
       "version_minor": 0
      },
      "text/plain": [
       "HBox(children=(IntProgress(value=0, max=2500), HTML(value='')))"
      ]
     },
     "metadata": {},
     "output_type": "display_data"
    },
    {
     "name": "stdout",
     "output_type": "stream",
     "text": [
      "\n"
     ]
    },
    {
     "data": {
      "application/vnd.jupyter.widget-view+json": {
       "model_id": "e16457a0341843fbb43f1c1eb4b5f6b3",
       "version_major": 2,
       "version_minor": 0
      },
      "text/plain": [
       "HBox(children=(IntProgress(value=0, max=10000), HTML(value='')))"
      ]
     },
     "metadata": {},
     "output_type": "display_data"
    },
    {
     "name": "stdout",
     "output_type": "stream",
     "text": [
      "\n"
     ]
    },
    {
     "data": {
      "application/vnd.jupyter.widget-view+json": {
       "model_id": "772bd963ba4b437193d6b8fe7f607292",
       "version_major": 2,
       "version_minor": 0
      },
      "text/plain": [
       "HBox(children=(IntProgress(value=0, max=2500), HTML(value='')))"
      ]
     },
     "metadata": {},
     "output_type": "display_data"
    },
    {
     "name": "stdout",
     "output_type": "stream",
     "text": [
      "\n"
     ]
    }
   ],
   "source": [
    "# for path in tqdm(train_cat_paths):\n",
    "#     base_name, fname = path.split('\\\\')\n",
    "#     src = path\n",
    "#     dst = os.path.join(train_cats_dir, fname)\n",
    "#     shutil.copyfile(src, dst)\n",
    "\n",
    "# for path in tqdm(val_cat_paths):\n",
    "#     base_name, fname = path.split('\\\\')\n",
    "#     src = path\n",
    "#     dst = os.path.join(val_cats_dir, fname)\n",
    "#     shutil.copyfile(src, dst)\n",
    "    \n",
    "# for path in tqdm(train_dog_paths):\n",
    "#     base_name, fname = path.split('\\\\')\n",
    "#     src = path\n",
    "#     dst = os.path.join(train_dogs_dir, fname)\n",
    "#     shutil.copyfile(src, dst)\n",
    "\n",
    "# for path in tqdm(val_dog_paths):\n",
    "#     base_name, fname = path.split('\\\\')\n",
    "#     src = path\n",
    "#     dst = os.path.join(val_dogs_dir, fname)\n",
    "#     shutil.copyfile(src, dst)"
   ]
  },
  {
   "cell_type": "markdown",
   "metadata": {},
   "source": [
    "# Train model"
   ]
  },
  {
   "cell_type": "code",
   "execution_count": 8,
   "metadata": {
    "ExecuteTime": {
     "end_time": "2019-07-14T09:46:12.944524Z",
     "start_time": "2019-07-14T09:46:12.938525Z"
    }
   },
   "outputs": [],
   "source": [
    "from keras import layers\n",
    "from keras import models\n",
    "from keras import optimizers\n",
    "from keras.preprocessing.image import ImageDataGenerator\n",
    "from keras.models import load_model"
   ]
  },
  {
   "cell_type": "code",
   "execution_count": 9,
   "metadata": {
    "ExecuteTime": {
     "end_time": "2019-07-14T09:46:14.442535Z",
     "start_time": "2019-07-14T09:46:13.314728Z"
    }
   },
   "outputs": [],
   "source": [
    "from keras.backend.tensorflow_backend import set_session\n",
    "import tensorflow as tf\n",
    "config = tf.ConfigProto()\n",
    "config.gpu_options.allow_growth = True  # dynamically grow the memory used on the GPU\n",
    "sess = tf.Session(config=config)\n",
    "set_session(sess)"
   ]
  },
  {
   "cell_type": "code",
   "execution_count": 12,
   "metadata": {
    "ExecuteTime": {
     "end_time": "2019-07-14T09:46:25.644781Z",
     "start_time": "2019-07-14T09:46:25.632765Z"
    }
   },
   "outputs": [],
   "source": [
    "def build_model():\n",
    "    model = models.Sequential()\n",
    "    model.add(layers.Conv2D(32, (3, 3), activation='relu',input_shape=(150, 150, 3)))\n",
    "    model.add(layers.MaxPool2D((2,2)))\n",
    "    model.add(layers.Conv2D(64, (3, 3), activation='relu',input_shape=(150, 150, 3)))\n",
    "    model.add(layers.MaxPool2D((2,2)))\n",
    "    model.add(layers.Conv2D(128, (3, 3), activation='relu',input_shape=(150, 150, 3)))\n",
    "    model.add(layers.MaxPool2D((2,2)))\n",
    "    model.add(layers.Conv2D(128, (3, 3), activation='relu',input_shape=(150, 150, 3)))\n",
    "    model.add(layers.MaxPool2D((2,2)))\n",
    "    model.add(layers.Flatten())\n",
    "    model.add(layers.Dense(512, activation='relu'))\n",
    "    model.add(layers.Dense(1, activation='sigmoid'))\n",
    "    \n",
    "    model.compile(loss='binary_crossentropy', optimizer=optimizers.RMSprop(lr=1e-4), metrics=['acc'])\n",
    "    \n",
    "    return model"
   ]
  },
  {
   "cell_type": "code",
   "execution_count": 13,
   "metadata": {
    "ExecuteTime": {
     "end_time": "2019-07-14T09:46:26.347923Z",
     "start_time": "2019-07-14T09:46:26.210665Z"
    }
   },
   "outputs": [],
   "source": [
    "model = build_model()"
   ]
  },
  {
   "cell_type": "code",
   "execution_count": 14,
   "metadata": {
    "ExecuteTime": {
     "end_time": "2019-07-14T09:46:27.395595Z",
     "start_time": "2019-07-14T09:46:27.337591Z"
    }
   },
   "outputs": [
    {
     "name": "stdout",
     "output_type": "stream",
     "text": [
      "_________________________________________________________________\n",
      "Layer (type)                 Output Shape              Param #   \n",
      "=================================================================\n",
      "conv2d_5 (Conv2D)            (None, 148, 148, 32)      896       \n",
      "_________________________________________________________________\n",
      "max_pooling2d_5 (MaxPooling2 (None, 74, 74, 32)        0         \n",
      "_________________________________________________________________\n",
      "conv2d_6 (Conv2D)            (None, 72, 72, 64)        18496     \n",
      "_________________________________________________________________\n",
      "max_pooling2d_6 (MaxPooling2 (None, 36, 36, 64)        0         \n",
      "_________________________________________________________________\n",
      "conv2d_7 (Conv2D)            (None, 34, 34, 128)       73856     \n",
      "_________________________________________________________________\n",
      "max_pooling2d_7 (MaxPooling2 (None, 17, 17, 128)       0         \n",
      "_________________________________________________________________\n",
      "conv2d_8 (Conv2D)            (None, 15, 15, 128)       147584    \n",
      "_________________________________________________________________\n",
      "max_pooling2d_8 (MaxPooling2 (None, 7, 7, 128)         0         \n",
      "_________________________________________________________________\n",
      "flatten_2 (Flatten)          (None, 6272)              0         \n",
      "_________________________________________________________________\n",
      "dense_3 (Dense)              (None, 512)               3211776   \n",
      "_________________________________________________________________\n",
      "dense_4 (Dense)              (None, 1)                 513       \n",
      "=================================================================\n",
      "Total params: 3,453,121\n",
      "Trainable params: 3,453,121\n",
      "Non-trainable params: 0\n",
      "_________________________________________________________________\n"
     ]
    }
   ],
   "source": [
    "model.summary()"
   ]
  },
  {
   "cell_type": "code",
   "execution_count": 15,
   "metadata": {
    "ExecuteTime": {
     "end_time": "2019-07-14T09:46:30.700614Z",
     "start_time": "2019-07-14T09:46:28.682441Z"
    }
   },
   "outputs": [
    {
     "name": "stdout",
     "output_type": "stream",
     "text": [
      "Found 24038 images belonging to 2 classes.\n",
      "Found 9038 images belonging to 2 classes.\n",
      "Found 12500 images belonging to 1 classes.\n"
     ]
    }
   ],
   "source": [
    "train_datagen = ImageDataGenerator(rescale=1./255)\n",
    "test_datagen = ImageDataGenerator(rescale=1./255)\n",
    "\n",
    "\n",
    "train_generator = train_datagen.flow_from_directory(\n",
    "    train_dir,\n",
    "    target_size=(150, 150),\n",
    "    batch_size=100,\n",
    "    class_mode='binary')\n",
    "\n",
    "validate_generator = train_datagen.flow_from_directory(\n",
    "    val_dir,\n",
    "    target_size=(150, 150),\n",
    "    batch_size=100,\n",
    "    class_mode='binary')\n",
    "\n",
    "test_generator = train_datagen.flow_from_directory(\n",
    "    test_dir,\n",
    "    target_size=(150, 150),\n",
    "    batch_size=125,\n",
    "    class_mode='binary' , shuffle=False)"
   ]
  },
  {
   "cell_type": "code",
   "execution_count": 16,
   "metadata": {
    "ExecuteTime": {
     "end_time": "2019-07-14T09:46:30.842438Z",
     "start_time": "2019-07-14T09:46:30.837439Z"
    }
   },
   "outputs": [],
   "source": [
    "from keras import callbacks\n",
    "import os"
   ]
  },
  {
   "cell_type": "code",
   "execution_count": 18,
   "metadata": {
    "ExecuteTime": {
     "end_time": "2019-07-14T11:01:43.071305Z",
     "start_time": "2019-07-14T09:47:43.738151Z"
    }
   },
   "outputs": [
    {
     "name": "stdout",
     "output_type": "stream",
     "text": [
      "Epoch 1/100\n",
      " - 47s - loss: 0.6069 - acc: 0.6707 - val_loss: 0.5804 - val_acc: 0.6896\n",
      "Epoch 2/100\n",
      " - 43s - loss: 0.5649 - acc: 0.7050 - val_loss: 0.5362 - val_acc: 0.7352\n",
      "Epoch 3/100\n",
      " - 42s - loss: 0.5331 - acc: 0.7332 - val_loss: 0.5475 - val_acc: 0.7067\n",
      "Epoch 4/100\n",
      " - 42s - loss: 0.5230 - acc: 0.7354 - val_loss: 0.5615 - val_acc: 0.7036\n",
      "Epoch 5/100\n",
      " - 42s - loss: 0.4955 - acc: 0.7555 - val_loss: 0.4711 - val_acc: 0.7824\n",
      "Epoch 6/100\n",
      " - 42s - loss: 0.4794 - acc: 0.7704 - val_loss: 0.4571 - val_acc: 0.7892\n",
      "Epoch 7/100\n",
      " - 42s - loss: 0.4650 - acc: 0.7760 - val_loss: 0.4521 - val_acc: 0.7961\n",
      "Epoch 8/100\n",
      " - 42s - loss: 0.4478 - acc: 0.7908 - val_loss: 0.4225 - val_acc: 0.8084\n",
      "Epoch 9/100\n",
      " - 42s - loss: 0.4397 - acc: 0.7963 - val_loss: 0.4306 - val_acc: 0.7952\n",
      "Epoch 10/100\n",
      " - 42s - loss: 0.4215 - acc: 0.8081 - val_loss: 0.4277 - val_acc: 0.8072\n",
      "Epoch 11/100\n",
      " - 42s - loss: 0.4132 - acc: 0.8112 - val_loss: 0.4081 - val_acc: 0.8208\n",
      "Epoch 12/100\n",
      " - 42s - loss: 0.4008 - acc: 0.8200 - val_loss: 0.4112 - val_acc: 0.8056\n",
      "Epoch 13/100\n",
      " - 44s - loss: 0.3960 - acc: 0.8229 - val_loss: 0.4502 - val_acc: 0.7844\n",
      "Epoch 14/100\n",
      " - 42s - loss: 0.3915 - acc: 0.8224 - val_loss: 0.3975 - val_acc: 0.8285\n",
      "Epoch 15/100\n",
      " - 42s - loss: 0.3783 - acc: 0.8345 - val_loss: 0.3407 - val_acc: 0.8600\n",
      "Epoch 16/100\n",
      " - 41s - loss: 0.3717 - acc: 0.8339 - val_loss: 0.3546 - val_acc: 0.8440\n",
      "Epoch 17/100\n",
      " - 42s - loss: 0.3566 - acc: 0.8380 - val_loss: 0.3436 - val_acc: 0.8524\n",
      "Epoch 18/100\n",
      " - 42s - loss: 0.3658 - acc: 0.8383 - val_loss: 0.3446 - val_acc: 0.8519\n",
      "Epoch 19/100\n",
      " - 43s - loss: 0.3426 - acc: 0.8488 - val_loss: 0.3483 - val_acc: 0.8492\n",
      "Epoch 20/100\n",
      " - 42s - loss: 0.3438 - acc: 0.8503 - val_loss: 0.3395 - val_acc: 0.8428\n",
      "Epoch 21/100\n",
      " - 42s - loss: 0.3386 - acc: 0.8520 - val_loss: 0.3126 - val_acc: 0.8724\n",
      "Epoch 22/100\n",
      " - 42s - loss: 0.3283 - acc: 0.8572 - val_loss: 0.3543 - val_acc: 0.8424\n",
      "Epoch 23/100\n",
      " - 42s - loss: 0.3228 - acc: 0.8590 - val_loss: 0.2975 - val_acc: 0.8796\n",
      "Epoch 24/100\n",
      " - 43s - loss: 0.3158 - acc: 0.8617 - val_loss: 0.2955 - val_acc: 0.8724\n",
      "Epoch 25/100\n",
      " - 42s - loss: 0.3108 - acc: 0.8668 - val_loss: 0.3260 - val_acc: 0.8552\n",
      "Epoch 26/100\n",
      " - 42s - loss: 0.3035 - acc: 0.8741 - val_loss: 0.2826 - val_acc: 0.8832\n",
      "Epoch 27/100\n",
      " - 42s - loss: 0.2902 - acc: 0.8727 - val_loss: 0.2815 - val_acc: 0.8816\n",
      "Epoch 28/100\n",
      " - 42s - loss: 0.2933 - acc: 0.8750 - val_loss: 0.2826 - val_acc: 0.8844\n",
      "Epoch 29/100\n",
      " - 44s - loss: 0.2864 - acc: 0.8800 - val_loss: 0.2833 - val_acc: 0.8753\n",
      "Epoch 30/100\n",
      " - 45s - loss: 0.2822 - acc: 0.8787 - val_loss: 0.2556 - val_acc: 0.9000\n",
      "Epoch 31/100\n",
      " - 42s - loss: 0.2597 - acc: 0.8917 - val_loss: 0.2782 - val_acc: 0.8768\n",
      "Epoch 32/100\n",
      " - 42s - loss: 0.2718 - acc: 0.8836 - val_loss: 0.2498 - val_acc: 0.8975\n",
      "Epoch 33/100\n",
      " - 44s - loss: 0.2648 - acc: 0.8856 - val_loss: 0.2545 - val_acc: 0.8980\n",
      "Epoch 34/100\n",
      " - 48s - loss: 0.2602 - acc: 0.8900 - val_loss: 0.2292 - val_acc: 0.9032\n",
      "Epoch 35/100\n",
      " - 50s - loss: 0.2483 - acc: 0.8975 - val_loss: 0.2578 - val_acc: 0.8908\n",
      "Epoch 36/100\n",
      " - 45s - loss: 0.2355 - acc: 0.9041 - val_loss: 0.2475 - val_acc: 0.8991\n",
      "Epoch 37/100\n",
      " - 46s - loss: 0.2439 - acc: 0.9003 - val_loss: 0.2247 - val_acc: 0.9108\n",
      "Epoch 38/100\n",
      " - 45s - loss: 0.2361 - acc: 0.9020 - val_loss: 0.2047 - val_acc: 0.9252\n",
      "Epoch 39/100\n",
      " - 45s - loss: 0.2204 - acc: 0.9088 - val_loss: 0.2044 - val_acc: 0.9184\n",
      "Epoch 40/100\n",
      " - 47s - loss: 0.2223 - acc: 0.9083 - val_loss: 0.2179 - val_acc: 0.9172\n",
      "Epoch 41/100\n",
      " - 47s - loss: 0.2160 - acc: 0.9109 - val_loss: 0.2184 - val_acc: 0.9128\n",
      "Epoch 42/100\n",
      " - 46s - loss: 0.2117 - acc: 0.9102 - val_loss: 0.1979 - val_acc: 0.9244\n",
      "Epoch 43/100\n",
      " - 46s - loss: 0.2022 - acc: 0.9165 - val_loss: 0.1878 - val_acc: 0.9237\n",
      "Epoch 44/100\n",
      " - 48s - loss: 0.1911 - acc: 0.9212 - val_loss: 0.2269 - val_acc: 0.9080\n",
      "Epoch 45/100\n",
      " - 46s - loss: 0.1984 - acc: 0.9186 - val_loss: 0.1771 - val_acc: 0.9312\n",
      "Epoch 46/100\n",
      " - 46s - loss: 0.1847 - acc: 0.9264 - val_loss: 0.1780 - val_acc: 0.9332\n",
      "Epoch 47/100\n",
      " - 46s - loss: 0.1826 - acc: 0.9271 - val_loss: 0.1674 - val_acc: 0.9360\n",
      "Epoch 48/100\n",
      " - 44s - loss: 0.1739 - acc: 0.9320 - val_loss: 0.1671 - val_acc: 0.9420\n",
      "Epoch 49/100\n",
      " - 44s - loss: 0.1724 - acc: 0.9304 - val_loss: 0.2109 - val_acc: 0.9144\n",
      "Epoch 50/100\n",
      " - 43s - loss: 0.1649 - acc: 0.9343 - val_loss: 0.1539 - val_acc: 0.9434\n",
      "Epoch 51/100\n",
      " - 46s - loss: 0.1582 - acc: 0.9389 - val_loss: 0.1417 - val_acc: 0.9524\n",
      "Epoch 52/100\n",
      " - 45s - loss: 0.1595 - acc: 0.9365 - val_loss: 0.1386 - val_acc: 0.9496\n",
      "Epoch 53/100\n",
      " - 45s - loss: 0.1496 - acc: 0.9431 - val_loss: 0.1546 - val_acc: 0.9436\n",
      "Epoch 54/100\n",
      " - 47s - loss: 0.1446 - acc: 0.9419 - val_loss: 0.1458 - val_acc: 0.9467\n",
      "Epoch 55/100\n",
      " - 45s - loss: 0.1345 - acc: 0.9510 - val_loss: 0.1443 - val_acc: 0.9472\n",
      "Epoch 56/100\n",
      " - 45s - loss: 0.1342 - acc: 0.9484 - val_loss: 0.1546 - val_acc: 0.9380\n",
      "Epoch 57/100\n",
      " - 44s - loss: 0.1288 - acc: 0.9479 - val_loss: 0.1244 - val_acc: 0.9540\n",
      "Epoch 58/100\n",
      " - 44s - loss: 0.1203 - acc: 0.9574 - val_loss: 0.1150 - val_acc: 0.9623\n",
      "Epoch 59/100\n",
      " - 44s - loss: 0.1203 - acc: 0.9547 - val_loss: 0.1106 - val_acc: 0.9624\n",
      "Epoch 60/100\n",
      " - 44s - loss: 0.1094 - acc: 0.9609 - val_loss: 0.1521 - val_acc: 0.9396\n",
      "Epoch 61/100\n",
      " - 44s - loss: 0.1125 - acc: 0.9588 - val_loss: 0.1338 - val_acc: 0.9483\n",
      "Epoch 62/100\n",
      " - 44s - loss: 0.1047 - acc: 0.9602 - val_loss: 0.0968 - val_acc: 0.9664\n",
      "Epoch 63/100\n",
      " - 44s - loss: 0.1003 - acc: 0.9635 - val_loss: 0.1502 - val_acc: 0.9448\n",
      "Epoch 64/100\n",
      " - 44s - loss: 0.1040 - acc: 0.9619 - val_loss: 0.0937 - val_acc: 0.9704\n",
      "Epoch 65/100\n",
      " - 44s - loss: 0.0871 - acc: 0.9706 - val_loss: 0.1380 - val_acc: 0.9528\n",
      "Epoch 66/100\n",
      " - 44s - loss: 0.0904 - acc: 0.9683 - val_loss: 0.1490 - val_acc: 0.9428\n",
      "Epoch 67/100\n",
      " - 44s - loss: 0.0891 - acc: 0.9677 - val_loss: 0.0938 - val_acc: 0.9732\n",
      "Epoch 68/100\n",
      " - 44s - loss: 0.0820 - acc: 0.9726 - val_loss: 0.0750 - val_acc: 0.9744\n",
      "Epoch 69/100\n",
      " - 45s - loss: 0.0814 - acc: 0.9719 - val_loss: 0.0869 - val_acc: 0.9737\n",
      "Epoch 70/100\n",
      " - 45s - loss: 0.0741 - acc: 0.9738 - val_loss: 0.0967 - val_acc: 0.9732\n",
      "Epoch 71/100\n",
      " - 44s - loss: 0.0711 - acc: 0.9753 - val_loss: 0.0824 - val_acc: 0.9760\n",
      "Epoch 72/100\n",
      " - 45s - loss: 0.0676 - acc: 0.9762 - val_loss: 0.0650 - val_acc: 0.9828\n",
      "Epoch 73/100\n",
      " - 45s - loss: 0.0665 - acc: 0.9765 - val_loss: 0.0802 - val_acc: 0.9800\n",
      "Epoch 74/100\n",
      " - 45s - loss: 0.0634 - acc: 0.9797 - val_loss: 0.0825 - val_acc: 0.9788\n",
      "Epoch 75/100\n",
      " - 45s - loss: 0.0547 - acc: 0.9820 - val_loss: 0.0743 - val_acc: 0.9768\n",
      "Epoch 76/100\n",
      " - 45s - loss: 0.0603 - acc: 0.9799 - val_loss: 0.0696 - val_acc: 0.9820\n",
      "Epoch 77/100\n",
      " - 45s - loss: 0.0521 - acc: 0.9813 - val_loss: 0.0723 - val_acc: 0.9788\n",
      "Epoch 78/100\n",
      " - 44s - loss: 0.0513 - acc: 0.9835 - val_loss: 0.1026 - val_acc: 0.9700\n",
      "Epoch 79/100\n",
      " - 46s - loss: 0.0493 - acc: 0.9845 - val_loss: 0.0607 - val_acc: 0.9844\n",
      "Epoch 80/100\n",
      " - 46s - loss: 0.0453 - acc: 0.9869 - val_loss: 0.1812 - val_acc: 0.9278\n",
      "Epoch 81/100\n",
      " - 46s - loss: 0.0453 - acc: 0.9859 - val_loss: 0.0773 - val_acc: 0.9788\n",
      "Epoch 82/100\n",
      " - 48s - loss: 0.0402 - acc: 0.9878 - val_loss: 0.0599 - val_acc: 0.9824\n",
      "Epoch 83/100\n",
      " - 48s - loss: 0.0419 - acc: 0.9864 - val_loss: 0.0683 - val_acc: 0.9832\n",
      "Epoch 84/100\n",
      " - 45s - loss: 0.0414 - acc: 0.9874 - val_loss: 0.0412 - val_acc: 0.9892\n",
      "Epoch 85/100\n",
      " - 46s - loss: 0.0413 - acc: 0.9868 - val_loss: 0.0606 - val_acc: 0.9848\n",
      "Epoch 86/100\n",
      " - 46s - loss: 0.0399 - acc: 0.9874 - val_loss: 0.0791 - val_acc: 0.9780\n",
      "Epoch 87/100\n",
      " - 44s - loss: 0.0319 - acc: 0.9906 - val_loss: 0.0854 - val_acc: 0.9832\n",
      "Epoch 88/100\n",
      " - 44s - loss: 0.0337 - acc: 0.9903 - val_loss: 0.0514 - val_acc: 0.9868\n",
      "Epoch 89/100\n",
      " - 44s - loss: 0.0303 - acc: 0.9912 - val_loss: 0.1249 - val_acc: 0.9556\n",
      "Epoch 90/100\n",
      " - 45s - loss: 0.0343 - acc: 0.9897 - val_loss: 0.0934 - val_acc: 0.9737\n",
      "Epoch 91/100\n",
      " - 46s - loss: 0.0278 - acc: 0.9918 - val_loss: 0.0574 - val_acc: 0.9884\n",
      "Epoch 92/100\n",
      " - 43s - loss: 0.0294 - acc: 0.9911 - val_loss: 0.0701 - val_acc: 0.9828\n",
      "Epoch 93/100\n",
      " - 45s - loss: 0.0255 - acc: 0.9921 - val_loss: 0.0770 - val_acc: 0.9792\n",
      "Epoch 94/100\n",
      " - 46s - loss: 0.0250 - acc: 0.9932 - val_loss: 0.0723 - val_acc: 0.9820\n",
      "Epoch 95/100\n",
      " - 46s - loss: 0.0368 - acc: 0.9884 - val_loss: 0.0759 - val_acc: 0.9840\n",
      "Epoch 96/100\n",
      " - 45s - loss: 0.0222 - acc: 0.9936 - val_loss: 0.0549 - val_acc: 0.9860\n"
     ]
    },
    {
     "name": "stdout",
     "output_type": "stream",
     "text": [
      "Epoch 97/100\n",
      " - 48s - loss: 0.0216 - acc: 0.9939 - val_loss: 0.0680 - val_acc: 0.9844\n",
      "Epoch 98/100\n",
      " - 44s - loss: 0.0237 - acc: 0.9935 - val_loss: 0.0629 - val_acc: 0.9852\n",
      "Epoch 99/100\n",
      " - 45s - loss: 0.0247 - acc: 0.9934 - val_loss: 0.0611 - val_acc: 0.9836\n",
      "Epoch 100/100\n",
      " - 45s - loss: 0.0233 - acc: 0.9933 - val_loss: 0.0788 - val_acc: 0.9832\n"
     ]
    }
   ],
   "source": [
    "filename = \"model_{epoch:02d}-{val_acc:.2f}.hdf5\"\n",
    "history = model.fit_generator( train_generator, \n",
    "                              steps_per_epoch=100, \n",
    "                              epochs=100, \n",
    "                              validation_data=validate_generator, \n",
    "                              validation_steps=25,\n",
    "                             verbose=2,\n",
    "                             callbacks= [callbacks.ModelCheckpoint(os.path.join('checkpoints', filename), monitor='val_loss', verbose=0, save_best_only=False, save_weights_only=False, mode='auto', period=1)])\n",
    "model.save('cats_and_dogs_baseline.h5')"
   ]
  },
  {
   "cell_type": "code",
   "execution_count": 13,
   "metadata": {
    "ExecuteTime": {
     "end_time": "2019-07-14T08:06:33.034380Z",
     "start_time": "2019-07-14T08:06:31.784349Z"
    }
   },
   "outputs": [],
   "source": [
    "model = load_model('cats_and_dogs_baseline.h5')"
   ]
  },
  {
   "cell_type": "code",
   "execution_count": 19,
   "metadata": {
    "ExecuteTime": {
     "end_time": "2019-07-14T11:21:09.199163Z",
     "start_time": "2019-07-14T11:20:23.430811Z"
    }
   },
   "outputs": [],
   "source": [
    "test_generator.reset()\n",
    "labels = model.predict_generator(test_generator, steps=100).ravel()"
   ]
  },
  {
   "cell_type": "code",
   "execution_count": 20,
   "metadata": {
    "ExecuteTime": {
     "end_time": "2019-07-14T11:21:09.361160Z",
     "start_time": "2019-07-14T11:21:09.357159Z"
    }
   },
   "outputs": [],
   "source": [
    "import re"
   ]
  },
  {
   "cell_type": "code",
   "execution_count": 21,
   "metadata": {
    "ExecuteTime": {
     "end_time": "2019-07-14T11:21:09.540176Z",
     "start_time": "2019-07-14T11:21:09.513177Z"
    }
   },
   "outputs": [],
   "source": [
    "_ids = []\n",
    "for fname in test_generator.filenames:\n",
    "    _ids.append(re.findall(r'\\\\(\\d+).jpg', fname)[0])\n",
    "    "
   ]
  },
  {
   "cell_type": "code",
   "execution_count": 22,
   "metadata": {
    "ExecuteTime": {
     "end_time": "2019-07-14T11:21:09.687181Z",
     "start_time": "2019-07-14T11:21:09.681171Z"
    }
   },
   "outputs": [],
   "source": [
    "import pandas as pd"
   ]
  },
  {
   "cell_type": "code",
   "execution_count": 23,
   "metadata": {
    "ExecuteTime": {
     "end_time": "2019-07-14T11:21:09.915161Z",
     "start_time": "2019-07-14T11:21:09.833202Z"
    }
   },
   "outputs": [
    {
     "ename": "NameError",
     "evalue": "name 'result' is not defined",
     "output_type": "error",
     "traceback": [
      "\u001b[1;31m---------------------------------------------------------------------------\u001b[0m",
      "\u001b[1;31mNameError\u001b[0m                                 Traceback (most recent call last)",
      "\u001b[1;32m<ipython-input-23-8ffbe7e531c7>\u001b[0m in \u001b[0;36m<module>\u001b[1;34m\u001b[0m\n\u001b[1;32m----> 1\u001b[1;33m \u001b[0mlen\u001b[0m\u001b[1;33m(\u001b[0m\u001b[0mlabels\u001b[0m\u001b[1;33m)\u001b[0m\u001b[1;33m,\u001b[0m \u001b[0mlen\u001b[0m\u001b[1;33m(\u001b[0m\u001b[0mresult\u001b[0m\u001b[1;33m)\u001b[0m\u001b[1;33m\u001b[0m\u001b[1;33m\u001b[0m\u001b[0m\n\u001b[0m",
      "\u001b[1;31mNameError\u001b[0m: name 'result' is not defined"
     ]
    }
   ],
   "source": [
    "len(labels), len(result)"
   ]
  },
  {
   "cell_type": "code",
   "execution_count": null,
   "metadata": {
    "ExecuteTime": {
     "end_time": "2019-07-14T11:21:09.933161Z",
     "start_time": "2019-07-14T11:20:27.609Z"
    }
   },
   "outputs": [],
   "source": [
    "len(labels[0]), len(_ids)"
   ]
  },
  {
   "cell_type": "code",
   "execution_count": null,
   "metadata": {
    "ExecuteTime": {
     "end_time": "2019-07-14T11:21:09.943186Z",
     "start_time": "2019-07-14T11:20:28.414Z"
    }
   },
   "outputs": [],
   "source": [
    "df = pd.DataFrame.from_dict({'id': _ids, 'label':labels} )"
   ]
  },
  {
   "cell_type": "code",
   "execution_count": null,
   "metadata": {
    "ExecuteTime": {
     "end_time": "2019-07-14T11:21:09.954159Z",
     "start_time": "2019-07-14T11:20:28.815Z"
    }
   },
   "outputs": [],
   "source": [
    "df.to_csv('test_result.csv', index=False)"
   ]
  },
  {
   "cell_type": "code",
   "execution_count": null,
   "metadata": {
    "ExecuteTime": {
     "end_time": "2019-07-14T11:21:09.964158Z",
     "start_time": "2019-07-14T11:20:30.123Z"
    }
   },
   "outputs": [],
   "source": [
    "!kaggle competitions submit -c dogs-vs-cats-redux-kernels-edition -f test_result.csv -m \"Testing submissiion\""
   ]
  },
  {
   "cell_type": "code",
   "execution_count": null,
   "metadata": {},
   "outputs": [],
   "source": []
  }
 ],
 "metadata": {
  "kernelspec": {
   "display_name": "Python 3",
   "language": "python",
   "name": "python3"
  },
  "language_info": {
   "codemirror_mode": {
    "name": "ipython",
    "version": 3
   },
   "file_extension": ".py",
   "mimetype": "text/x-python",
   "name": "python",
   "nbconvert_exporter": "python",
   "pygments_lexer": "ipython3",
   "version": "3.7.1"
  },
  "toc": {
   "base_numbering": 1,
   "nav_menu": {},
   "number_sections": true,
   "sideBar": true,
   "skip_h1_title": false,
   "title_cell": "Table of Contents",
   "title_sidebar": "Contents",
   "toc_cell": false,
   "toc_position": {},
   "toc_section_display": true,
   "toc_window_display": false
  },
  "varInspector": {
   "cols": {
    "lenName": 16,
    "lenType": 16,
    "lenVar": 40
   },
   "kernels_config": {
    "python": {
     "delete_cmd_postfix": "",
     "delete_cmd_prefix": "del ",
     "library": "var_list.py",
     "varRefreshCmd": "print(var_dic_list())"
    },
    "r": {
     "delete_cmd_postfix": ") ",
     "delete_cmd_prefix": "rm(",
     "library": "var_list.r",
     "varRefreshCmd": "cat(var_dic_list()) "
    }
   },
   "types_to_exclude": [
    "module",
    "function",
    "builtin_function_or_method",
    "instance",
    "_Feature"
   ],
   "window_display": false
  }
 },
 "nbformat": 4,
 "nbformat_minor": 2
}
