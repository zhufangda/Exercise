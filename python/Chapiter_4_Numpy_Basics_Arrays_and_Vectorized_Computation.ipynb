{
 "cells": [
  {
   "cell_type": "markdown",
   "metadata": {
    "toc": true
   },
   "source": [
    "<h1>Table of Contents<span class=\"tocSkip\"></span></h1>\n",
    "<div class=\"toc\"><ul class=\"toc-item\"><li><span><a href=\"#The-Numpy-ndarray:-A-Multidimesional-Array-Object\" data-toc-modified-id=\"The-Numpy-ndarray:-A-Multidimesional-Array-Object-1\"><span class=\"toc-item-num\">1&nbsp;&nbsp;</span>The Numpy ndarray: A Multidimesional Array Object</a></span><ul class=\"toc-item\"><li><span><a href=\"#Creating-ndarrays\" data-toc-modified-id=\"Creating-ndarrays-1.1\"><span class=\"toc-item-num\">1.1&nbsp;&nbsp;</span>Creating ndarrays</a></span></li><li><span><a href=\"#Data-Types-for-ndarrays\" data-toc-modified-id=\"Data-Types-for-ndarrays-1.2\"><span class=\"toc-item-num\">1.2&nbsp;&nbsp;</span>Data Types for ndarrays</a></span></li><li><span><a href=\"#Arithmetic-with-Numpy-Arrays\" data-toc-modified-id=\"Arithmetic-with-Numpy-Arrays-1.3\"><span class=\"toc-item-num\">1.3&nbsp;&nbsp;</span>Arithmetic with Numpy Arrays</a></span></li><li><span><a href=\"#Basic-Indexing-and-Slicing\" data-toc-modified-id=\"Basic-Indexing-and-Slicing-1.4\"><span class=\"toc-item-num\">1.4&nbsp;&nbsp;</span>Basic Indexing and Slicing</a></span><ul class=\"toc-item\"><li><span><a href=\"#Indexing-with-slices\" data-toc-modified-id=\"Indexing-with-slices-1.4.1\"><span class=\"toc-item-num\">1.4.1&nbsp;&nbsp;</span>Indexing with slices</a></span></li></ul></li><li><span><a href=\"#Boolean-Indexing\" data-toc-modified-id=\"Boolean-Indexing-1.5\"><span class=\"toc-item-num\">1.5&nbsp;&nbsp;</span>Boolean Indexing</a></span></li><li><span><a href=\"#Fancy-Indexing\" data-toc-modified-id=\"Fancy-Indexing-1.6\"><span class=\"toc-item-num\">1.6&nbsp;&nbsp;</span>Fancy Indexing</a></span></li><li><span><a href=\"#Transposing-Arays-and-Swapping-Axes\" data-toc-modified-id=\"Transposing-Arays-and-Swapping-Axes-1.7\"><span class=\"toc-item-num\">1.7&nbsp;&nbsp;</span>Transposing Arays and Swapping Axes</a></span></li></ul></li><li><span><a href=\"#Universal-Functions:-Fast-Element-Wise-Array-Functions\" data-toc-modified-id=\"Universal-Functions:-Fast-Element-Wise-Array-Functions-2\"><span class=\"toc-item-num\">2&nbsp;&nbsp;</span>Universal Functions: Fast Element-Wise Array Functions</a></span></li><li><span><a href=\"#Array-Oriented-Programming-with-Arrays\" data-toc-modified-id=\"Array-Oriented-Programming-with-Arrays-3\"><span class=\"toc-item-num\">3&nbsp;&nbsp;</span>Array-Oriented Programming with Arrays</a></span><ul class=\"toc-item\"><li><ul class=\"toc-item\"><li><span><a href=\"#Expressing-Conditional-Logic-as-Array-Operations\" data-toc-modified-id=\"Expressing-Conditional-Logic-as-Array-Operations-3.0.1\"><span class=\"toc-item-num\">3.0.1&nbsp;&nbsp;</span>Expressing Conditional Logic as Array Operations</a></span></li><li><span><a href=\"#Mathematical-and-Statistical-Methods\" data-toc-modified-id=\"Mathematical-and-Statistical-Methods-3.0.2\"><span class=\"toc-item-num\">3.0.2&nbsp;&nbsp;</span>Mathematical and Statistical Methods</a></span></li><li><span><a href=\"#Method-for-Boolean-Arrays\" data-toc-modified-id=\"Method-for-Boolean-Arrays-3.0.3\"><span class=\"toc-item-num\">3.0.3&nbsp;&nbsp;</span>Method for Boolean Arrays</a></span></li><li><span><a href=\"#Sorting\" data-toc-modified-id=\"Sorting-3.0.4\"><span class=\"toc-item-num\">3.0.4&nbsp;&nbsp;</span>Sorting</a></span></li><li><span><a href=\"#Unique-and-Other-Set-Logic\" data-toc-modified-id=\"Unique-and-Other-Set-Logic-3.0.5\"><span class=\"toc-item-num\">3.0.5&nbsp;&nbsp;</span>Unique and Other Set Logic</a></span></li></ul></li></ul></li><li><span><a href=\"#File-Input-and-Output-with-Array\" data-toc-modified-id=\"File-Input-and-Output-with-Array-4\"><span class=\"toc-item-num\">4&nbsp;&nbsp;</span>File Input and Output with Array</a></span></li><li><span><a href=\"#Linear-Algebra\" data-toc-modified-id=\"Linear-Algebra-5\"><span class=\"toc-item-num\">5&nbsp;&nbsp;</span>Linear Algebra</a></span></li><li><span><a href=\"#Pseudorandom-Number-Generation\" data-toc-modified-id=\"Pseudorandom-Number-Generation-6\"><span class=\"toc-item-num\">6&nbsp;&nbsp;</span>Pseudorandom Number Generation</a></span></li><li><span><a href=\"#Example:-Random-Walks\" data-toc-modified-id=\"Example:-Random-Walks-7\"><span class=\"toc-item-num\">7&nbsp;&nbsp;</span>Example: Random Walks</a></span><ul class=\"toc-item\"><li><span><a href=\"#Simulating-Many-Random-Walks-at-Once\" data-toc-modified-id=\"Simulating-Many-Random-Walks-at-Once-7.1\"><span class=\"toc-item-num\">7.1&nbsp;&nbsp;</span>Simulating Many Random Walks at Once</a></span></li></ul></li></ul></div>"
   ]
  },
  {
   "cell_type": "code",
   "execution_count": 4,
   "metadata": {
    "ExecuteTime": {
     "end_time": "2018-09-22T13:30:55.390303Z",
     "start_time": "2018-09-22T13:30:53.579361Z"
    }
   },
   "outputs": [
    {
     "name": "stdout",
     "output_type": "stream",
     "text": [
      "21.9 ms ± 251 µs per loop (mean ± std. dev. of 7 runs, 10 loops each)\n"
     ]
    }
   ],
   "source": [
    "import numpy as np\n",
    "my_arr = np.arange(1000000)\n",
    "my_list = list(range(1000000))\n",
    "%timeit for _ in range(10): my_arr2 = my_arr * 2"
   ]
  },
  {
   "cell_type": "code",
   "execution_count": 5,
   "metadata": {
    "ExecuteTime": {
     "end_time": "2018-09-22T13:31:04.988585Z",
     "start_time": "2018-09-22T13:30:57.612049Z"
    }
   },
   "outputs": [
    {
     "name": "stdout",
     "output_type": "stream",
     "text": [
      "907 ms ± 10.2 ms per loop (mean ± std. dev. of 7 runs, 1 loop each)\n"
     ]
    }
   ],
   "source": [
    "%timeit for _ in range(10): my_list2 = [x*2 for x in my_list]"
   ]
  },
  {
   "cell_type": "markdown",
   "metadata": {},
   "source": [
    "# The Numpy ndarray: A Multidimesional Array Object"
   ]
  },
  {
   "cell_type": "code",
   "execution_count": 6,
   "metadata": {
    "ExecuteTime": {
     "end_time": "2018-09-22T13:33:01.399463Z",
     "start_time": "2018-09-22T13:33:01.371098Z"
    }
   },
   "outputs": [
    {
     "data": {
      "text/plain": [
       "array([[ 0.02325098, -0.43251407,  0.1863689 ],\n",
       "       [ 0.36754831,  0.72814399, -0.27099182]])"
      ]
     },
     "execution_count": 6,
     "metadata": {},
     "output_type": "execute_result"
    }
   ],
   "source": [
    "import numpy as np\n",
    "data = np.random.randn(2, 3)\n",
    "data"
   ]
  },
  {
   "cell_type": "code",
   "execution_count": 7,
   "metadata": {
    "ExecuteTime": {
     "end_time": "2018-09-22T13:33:13.240371Z",
     "start_time": "2018-09-22T13:33:13.234380Z"
    }
   },
   "outputs": [
    {
     "data": {
      "text/plain": [
       "array([[ 0.23250982, -4.32514074,  1.86368899],\n",
       "       [ 3.67548311,  7.28143992, -2.70991819]])"
      ]
     },
     "execution_count": 7,
     "metadata": {},
     "output_type": "execute_result"
    }
   ],
   "source": [
    "data * 10"
   ]
  },
  {
   "cell_type": "code",
   "execution_count": 8,
   "metadata": {
    "ExecuteTime": {
     "end_time": "2018-09-22T13:33:25.984427Z",
     "start_time": "2018-09-22T13:33:25.979339Z"
    }
   },
   "outputs": [
    {
     "data": {
      "text/plain": [
       "array([[ 0.04650196, -0.86502815,  0.3727378 ],\n",
       "       [ 0.73509662,  1.45628798, -0.54198364]])"
      ]
     },
     "execution_count": 8,
     "metadata": {},
     "output_type": "execute_result"
    }
   ],
   "source": [
    "data + data"
   ]
  },
  {
   "cell_type": "markdown",
   "metadata": {},
   "source": [
    "## Creating ndarrays"
   ]
  },
  {
   "cell_type": "code",
   "execution_count": 15,
   "metadata": {
    "ExecuteTime": {
     "end_time": "2018-09-22T13:42:46.211459Z",
     "start_time": "2018-09-22T13:42:31.723779Z"
    }
   },
   "outputs": [
    {
     "name": "stdout",
     "output_type": "stream",
     "text": [
      "999 ns ± 5.06 ns per loop (mean ± std. dev. of 7 runs, 1000000 loops each)\n",
      "785 ns ± 7.31 ns per loop (mean ± std. dev. of 7 runs, 1000000 loops each)\n"
     ]
    },
    {
     "data": {
      "text/plain": [
       "dtype('float64')"
      ]
     },
     "execution_count": 15,
     "metadata": {},
     "output_type": "execute_result"
    }
   ],
   "source": [
    "data1 = [6, 7.5, 8, 0, 1]\n",
    "%timeit arr1 = np.array(data1)\n",
    "data2 = [6.0, 7.5, 8.0, 0.0, 1.0]\n",
    "%timeit arr2 = np.array(data2)\n",
    "arr1.dtype"
   ]
  },
  {
   "cell_type": "code",
   "execution_count": 23,
   "metadata": {
    "ExecuteTime": {
     "end_time": "2018-09-22T13:45:50.074538Z",
     "start_time": "2018-09-22T13:45:50.069125Z"
    }
   },
   "outputs": [
    {
     "name": "stdout",
     "output_type": "stream",
     "text": [
      "2 (3, 4)\n"
     ]
    },
    {
     "data": {
      "text/plain": [
       "array([['1', '2', '3', '4'],\n",
       "       ['5', '6', '7', '8'],\n",
       "       ['2', '5', '8', '6']], dtype='<U11')"
      ]
     },
     "execution_count": 23,
     "metadata": {},
     "output_type": "execute_result"
    }
   ],
   "source": [
    "data2 = [[1, 2, \"3\", 4],[5,6,7,8], [2,5,8,6]]\n",
    "arr2 = np.array(data2)\n",
    "print(arr2.ndim, arr2.shape)\n",
    "arr2"
   ]
  },
  {
   "cell_type": "code",
   "execution_count": 30,
   "metadata": {
    "ExecuteTime": {
     "end_time": "2018-09-22T13:48:14.306494Z",
     "start_time": "2018-09-22T13:48:14.300509Z"
    }
   },
   "outputs": [
    {
     "data": {
      "text/plain": [
       "array([0., 0., 0., 0., 0., 0., 0., 0., 0., 0.])"
      ]
     },
     "execution_count": 30,
     "metadata": {},
     "output_type": "execute_result"
    }
   ],
   "source": [
    "np.zeros((10))"
   ]
  },
  {
   "cell_type": "code",
   "execution_count": 31,
   "metadata": {
    "ExecuteTime": {
     "end_time": "2018-09-22T13:48:33.426449Z",
     "start_time": "2018-09-22T13:48:33.421413Z"
    }
   },
   "outputs": [
    {
     "data": {
      "text/plain": [
       "array([[0., 0., 0., 0., 0., 0.],\n",
       "       [0., 0., 0., 0., 0., 0.],\n",
       "       [0., 0., 0., 0., 0., 0.]])"
      ]
     },
     "execution_count": 31,
     "metadata": {},
     "output_type": "execute_result"
    }
   ],
   "source": [
    "np.zeros((3,6))"
   ]
  },
  {
   "cell_type": "code",
   "execution_count": 36,
   "metadata": {
    "ExecuteTime": {
     "end_time": "2018-09-22T13:50:11.281768Z",
     "start_time": "2018-09-22T13:50:04.892543Z"
    }
   },
   "outputs": [
    {
     "name": "stdout",
     "output_type": "stream",
     "text": [
      "491 ns ± 5.95 ns per loop (mean ± std. dev. of 7 runs, 1000000 loops each)\n",
      "2.95 µs ± 51.3 ns per loop (mean ± std. dev. of 7 runs, 100000 loops each)\n"
     ]
    }
   ],
   "source": [
    "%timeit np.empty((100,100))\n",
    "%timeit np.zeros((100,100))\n",
    "# Empty is more faster"
   ]
  },
  {
   "cell_type": "code",
   "execution_count": 40,
   "metadata": {
    "ExecuteTime": {
     "end_time": "2018-09-22T13:52:39.321484Z",
     "start_time": "2018-09-22T13:52:32.214134Z"
    }
   },
   "outputs": [
    {
     "name": "stdout",
     "output_type": "stream",
     "text": [
      "215 ns ± 2.55 ns per loop (mean ± std. dev. of 7 runs, 1000000 loops each)\n",
      "661 ns ± 5.73 ns per loop (mean ± std. dev. of 7 runs, 1000000 loops each)\n"
     ]
    }
   ],
   "source": [
    "%timeit range(100)\n",
    "%timeit np.arange(100)\n",
    "# 如果用于循环， range效率更高"
   ]
  },
  {
   "cell_type": "markdown",
   "metadata": {},
   "source": [
    "## Data Types for ndarrays"
   ]
  },
  {
   "cell_type": "code",
   "execution_count": 45,
   "metadata": {
    "ExecuteTime": {
     "end_time": "2018-09-22T14:05:04.377799Z",
     "start_time": "2018-09-22T14:05:04.372641Z"
    }
   },
   "outputs": [
    {
     "name": "stdout",
     "output_type": "stream",
     "text": [
      "float64 int32\n"
     ]
    }
   ],
   "source": [
    "arr1 = np.array([1, 2, 3], dtype = np.float64)\n",
    "arr2 = np.array([1, 2, 3], dtype = np.int32)\n",
    "print(arr1.dtype, arr2.dtype)"
   ]
  },
  {
   "cell_type": "code",
   "execution_count": 49,
   "metadata": {
    "ExecuteTime": {
     "end_time": "2018-09-22T14:07:01.146610Z",
     "start_time": "2018-09-22T14:07:01.140592Z"
    }
   },
   "outputs": [
    {
     "data": {
      "text/plain": [
       "array([1., 2., 3., 4., 5.], dtype=float32)"
      ]
     },
     "execution_count": 49,
     "metadata": {},
     "output_type": "execute_result"
    }
   ],
   "source": [
    "arr = np.array([1, 2, 3, 4, 5])\n",
    "arr.dtype\n",
    "float_arr = arr.astype(np.float32)\n",
    "float_arr"
   ]
  },
  {
   "cell_type": "markdown",
   "metadata": {},
   "source": [
    "## Arithmetic with Numpy Arrays"
   ]
  },
  {
   "cell_type": "code",
   "execution_count": 56,
   "metadata": {
    "ExecuteTime": {
     "end_time": "2018-09-22T14:12:20.995556Z",
     "start_time": "2018-09-22T14:12:04.989247Z"
    }
   },
   "outputs": [
    {
     "name": "stdout",
     "output_type": "stream",
     "text": [
      "[[ 1.  4.  9.]\n",
      " [16. 25. 36.]]\n",
      "[[0. 0. 0.]\n",
      " [0. 0. 0.]]\n",
      "1.14 µs ± 10.3 ns per loop (mean ± std. dev. of 7 runs, 1000000 loops each)\n",
      "831 ns ± 6.2 ns per loop (mean ± std. dev. of 7 runs, 1000000 loops each)\n"
     ]
    }
   ],
   "source": [
    "arr = np.array([[1., 2., 3.], [4., 5., 6.]])\n",
    "print(arr * arr)\n",
    "print(arr - arr)\n",
    "%timeit 1/arr\n",
    "%timeit 1./arr"
   ]
  },
  {
   "cell_type": "code",
   "execution_count": 57,
   "metadata": {
    "ExecuteTime": {
     "end_time": "2018-09-22T14:12:46.626632Z",
     "start_time": "2018-09-22T14:12:46.620603Z"
    }
   },
   "outputs": [
    {
     "data": {
      "text/plain": [
       "array([[1.000e+00, 3.200e+01, 2.430e+02],\n",
       "       [1.024e+03, 3.125e+03, 7.776e+03]])"
      ]
     },
     "execution_count": 57,
     "metadata": {},
     "output_type": "execute_result"
    }
   ],
   "source": [
    "arr ** 5"
   ]
  },
  {
   "cell_type": "code",
   "execution_count": 62,
   "metadata": {
    "ExecuteTime": {
     "end_time": "2018-09-22T14:13:52.396009Z",
     "start_time": "2018-09-22T14:13:52.389017Z"
    }
   },
   "outputs": [
    {
     "data": {
      "text/plain": [
       "array([[False,  True, False],\n",
       "       [ True, False,  True]])"
      ]
     },
     "execution_count": 62,
     "metadata": {},
     "output_type": "execute_result"
    }
   ],
   "source": [
    "arr2 = np.array([[0., 4., 1.],[7., 2., 12.]])\n",
    "arr2 > arr"
   ]
  },
  {
   "cell_type": "markdown",
   "metadata": {},
   "source": [
    "## Basic Indexing and Slicing"
   ]
  },
  {
   "cell_type": "code",
   "execution_count": 66,
   "metadata": {
    "ExecuteTime": {
     "end_time": "2018-09-22T14:33:07.971535Z",
     "start_time": "2018-09-22T14:33:07.965438Z"
    }
   },
   "outputs": [
    {
     "name": "stdout",
     "output_type": "stream",
     "text": [
      "arr [0 1 2 3 4 5 6 7 8 9]\n",
      "arr [  0   1 102 102 102 102   6   7   8   9]\n"
     ]
    }
   ],
   "source": [
    "arr = np.arange(10)\n",
    "print(\"arr\", arr)\n",
    "arr[2:6] = 102\n",
    "print(\"arr\", arr)"
   ]
  },
  {
   "cell_type": "code",
   "execution_count": 70,
   "metadata": {
    "ExecuteTime": {
     "end_time": "2018-09-22T14:34:27.787486Z",
     "start_time": "2018-09-22T14:34:27.781465Z"
    }
   },
   "outputs": [
    {
     "data": {
      "text/plain": [
       "array([  0,   1, 102, 102, 102, 102,  25,   7,   8,   9])"
      ]
     },
     "execution_count": 70,
     "metadata": {},
     "output_type": "execute_result"
    }
   ],
   "source": [
    "arr_slice = arr[5:8]\n",
    "arr_slice[1] = 2"
   ]
  },
  {
   "cell_type": "code",
   "execution_count": 71,
   "metadata": {
    "ExecuteTime": {
     "end_time": "2018-09-22T14:35:50.267542Z",
     "start_time": "2018-09-22T14:35:50.261863Z"
    }
   },
   "outputs": [
    {
     "data": {
      "text/plain": [
       "array([7, 8, 9])"
      ]
     },
     "execution_count": 71,
     "metadata": {},
     "output_type": "execute_result"
    }
   ],
   "source": [
    "arr2d = np.array([[1, 2, 3], [4, 5, 6], [7, 8, 9]])\n",
    "arr2d[2]"
   ]
  },
  {
   "cell_type": "code",
   "execution_count": 75,
   "metadata": {
    "ExecuteTime": {
     "end_time": "2018-09-22T14:58:59.004268Z",
     "start_time": "2018-09-22T14:58:58.998232Z"
    }
   },
   "outputs": [
    {
     "data": {
      "text/plain": [
       "array([[[ 1,  2,  3],\n",
       "        [ 4,  5,  6]],\n",
       "\n",
       "       [[ 7,  8,  9],\n",
       "        [10, 11, 12]]])"
      ]
     },
     "execution_count": 75,
     "metadata": {},
     "output_type": "execute_result"
    }
   ],
   "source": [
    "arr3d = np.array([[[1, 2, 3], [4, 5, 6]], [[7, 8, 9], [10, 11, 12]]])\n",
    "arr3d"
   ]
  },
  {
   "cell_type": "code",
   "execution_count": 78,
   "metadata": {
    "ExecuteTime": {
     "end_time": "2018-09-22T15:00:02.610429Z",
     "start_time": "2018-09-22T15:00:02.605417Z"
    }
   },
   "outputs": [
    {
     "data": {
      "text/plain": [
       "array([[[42, 42, 42],\n",
       "        [42, 42, 42]],\n",
       "\n",
       "       [[ 7,  8,  9],\n",
       "        [10, 11, 12]]])"
      ]
     },
     "execution_count": 78,
     "metadata": {},
     "output_type": "execute_result"
    }
   ],
   "source": [
    "arr3d[0] = 42\n",
    "arr3d"
   ]
  },
  {
   "cell_type": "markdown",
   "metadata": {},
   "source": [
    "### Indexing with slices"
   ]
  },
  {
   "cell_type": "code",
   "execution_count": 80,
   "metadata": {
    "ExecuteTime": {
     "end_time": "2018-09-22T15:05:24.860884Z",
     "start_time": "2018-09-22T15:05:24.855871Z"
    }
   },
   "outputs": [
    {
     "data": {
      "text/plain": [
       "array([ 1,  2,  3,  4, 64])"
      ]
     },
     "execution_count": 80,
     "metadata": {},
     "output_type": "execute_result"
    }
   ],
   "source": [
    "arr = np.array([0, 1, 2, 3, 4, 64, 64, 64, 8, 9])\n",
    "arr[1:6]"
   ]
  },
  {
   "cell_type": "code",
   "execution_count": 90,
   "metadata": {
    "ExecuteTime": {
     "end_time": "2018-09-22T15:11:52.949170Z",
     "start_time": "2018-09-22T15:11:52.943193Z"
    }
   },
   "outputs": [
    {
     "data": {
      "text/plain": [
       "array([[ 1,  2,  3],\n",
       "       [ 3,  4,  5],\n",
       "       [ 6,  7,  8],\n",
       "       [ 9, 10, 11]])"
      ]
     },
     "execution_count": 90,
     "metadata": {},
     "output_type": "execute_result"
    }
   ],
   "source": [
    "arr2d = np.array([[1,2,3], [3,4,5], [6,7,8], [9,10,11]])\n",
    "arr2d"
   ]
  },
  {
   "cell_type": "code",
   "execution_count": 96,
   "metadata": {
    "ExecuteTime": {
     "end_time": "2018-09-22T15:18:03.772193Z",
     "start_time": "2018-09-22T15:18:03.766537Z"
    }
   },
   "outputs": [
    {
     "data": {
      "text/plain": [
       "array([[ 9, 10, 11]])"
      ]
     },
     "execution_count": 96,
     "metadata": {},
     "output_type": "execute_result"
    }
   ],
   "source": [
    "arr2d[3:, :]"
   ]
  },
  {
   "cell_type": "code",
   "execution_count": 107,
   "metadata": {
    "ExecuteTime": {
     "end_time": "2018-09-22T15:26:53.859541Z",
     "start_time": "2018-09-22T15:26:53.854521Z"
    }
   },
   "outputs": [
    {
     "data": {
      "text/plain": [
       "array([1, 2])"
      ]
     },
     "execution_count": 107,
     "metadata": {},
     "output_type": "execute_result"
    }
   ],
   "source": [
    "x = np.array([1, 2])\n",
    "x.T"
   ]
  },
  {
   "cell_type": "markdown",
   "metadata": {},
   "source": [
    "## Boolean Indexing"
   ]
  },
  {
   "cell_type": "code",
   "execution_count": 136,
   "metadata": {
    "ExecuteTime": {
     "end_time": "2018-09-22T20:32:56.797626Z",
     "start_time": "2018-09-22T20:32:56.791631Z"
    }
   },
   "outputs": [
    {
     "name": "stdout",
     "output_type": "stream",
     "text": [
      "['Bob' 'Joe' 'Will' 'Bob' 'Will' 'Joe' 'Joe']\n",
      "[[ 1.614442    1.13947949  0.68326433 -2.55914869]\n",
      " [-0.4807243  -0.29288407 -0.6061266   0.56134764]\n",
      " [ 0.7457706  -0.67538601 -0.72560915  0.44244156]\n",
      " [ 0.89939637 -0.21818426 -0.89141747 -0.3439064 ]\n",
      " [ 0.55551838 -1.82490214  0.94666401 -0.2004022 ]\n",
      " [-3.24289153 -0.96683512 -1.24123062  2.40016807]\n",
      " [-0.21289151 -0.29819749 -0.53063639  0.00528255]]\n"
     ]
    }
   ],
   "source": [
    "names = np.array(['Bob', 'Joe', 'Will', 'Bob', 'Will', 'Joe', 'Joe'])\n",
    "data = np.random.randn(7,4)\n",
    "print(names)\n",
    "print(data)"
   ]
  },
  {
   "cell_type": "code",
   "execution_count": 137,
   "metadata": {
    "ExecuteTime": {
     "end_time": "2018-09-22T20:32:57.061894Z",
     "start_time": "2018-09-22T20:32:57.055910Z"
    }
   },
   "outputs": [
    {
     "data": {
      "text/plain": [
       "array([[ 1.614442  ,  1.13947949,  0.68326433, -2.55914869],\n",
       "       [ 0.89939637, -0.21818426, -0.89141747, -0.3439064 ]])"
      ]
     },
     "execution_count": 137,
     "metadata": {},
     "output_type": "execute_result"
    }
   ],
   "source": [
    "data[names == 'Bob']"
   ]
  },
  {
   "cell_type": "code",
   "execution_count": 138,
   "metadata": {
    "ExecuteTime": {
     "end_time": "2018-09-22T20:33:04.827326Z",
     "start_time": "2018-09-22T20:33:04.821344Z"
    }
   },
   "outputs": [
    {
     "data": {
      "text/plain": [
       "array([[ 1.13947949,  0.68326433, -2.55914869],\n",
       "       [-0.21818426, -0.89141747, -0.3439064 ]])"
      ]
     },
     "execution_count": 138,
     "metadata": {},
     "output_type": "execute_result"
    }
   ],
   "source": [
    "data[names == 'Bob', 1:]"
   ]
  },
  {
   "cell_type": "code",
   "execution_count": 139,
   "metadata": {
    "ExecuteTime": {
     "end_time": "2018-09-22T20:33:25.987695Z",
     "start_time": "2018-09-22T20:33:25.981717Z"
    }
   },
   "outputs": [
    {
     "data": {
      "text/plain": [
       "array([[-0.4807243 , -0.29288407, -0.6061266 ,  0.56134764],\n",
       "       [ 0.7457706 , -0.67538601, -0.72560915,  0.44244156],\n",
       "       [ 0.55551838, -1.82490214,  0.94666401, -0.2004022 ],\n",
       "       [-3.24289153, -0.96683512, -1.24123062,  2.40016807],\n",
       "       [-0.21289151, -0.29819749, -0.53063639,  0.00528255]])"
      ]
     },
     "execution_count": 139,
     "metadata": {},
     "output_type": "execute_result"
    }
   ],
   "source": [
    "data[names != 'Bob']"
   ]
  },
  {
   "cell_type": "code",
   "execution_count": 141,
   "metadata": {
    "ExecuteTime": {
     "end_time": "2018-09-22T20:34:03.843687Z",
     "start_time": "2018-09-22T20:34:03.837703Z"
    }
   },
   "outputs": [
    {
     "data": {
      "text/plain": [
       "array([[ 1.614442  ,  1.13947949,  0.68326433, -2.55914869],\n",
       "       [ 0.7457706 , -0.67538601, -0.72560915,  0.44244156],\n",
       "       [ 0.89939637, -0.21818426, -0.89141747, -0.3439064 ],\n",
       "       [ 0.55551838, -1.82490214,  0.94666401, -0.2004022 ]])"
      ]
     },
     "execution_count": 141,
     "metadata": {},
     "output_type": "execute_result"
    }
   ],
   "source": [
    "mask = (names == 'Bob') | (names == 'Will')\n",
    "data[mask]"
   ]
  },
  {
   "cell_type": "markdown",
   "metadata": {},
   "source": [
    "## Fancy Indexing"
   ]
  },
  {
   "cell_type": "code",
   "execution_count": 156,
   "metadata": {
    "ExecuteTime": {
     "end_time": "2018-09-22T21:03:18.515375Z",
     "start_time": "2018-09-22T21:03:18.509366Z"
    }
   },
   "outputs": [
    {
     "data": {
      "text/plain": [
       "array([[4., 4., 4., 4.],\n",
       "       [3., 3., 3., 3.],\n",
       "       [0., 0., 0., 0.],\n",
       "       [6., 6., 6., 6.]])"
      ]
     },
     "execution_count": 156,
     "metadata": {},
     "output_type": "execute_result"
    }
   ],
   "source": [
    "arr = np.empty((8, 4))\n",
    "for i in range(8):\n",
    "    arr[i] = i\n",
    "arr[[4, 3, 0, 6]]"
   ]
  },
  {
   "cell_type": "code",
   "execution_count": 157,
   "metadata": {
    "ExecuteTime": {
     "end_time": "2018-09-22T21:03:18.795605Z",
     "start_time": "2018-09-22T21:03:18.789607Z"
    }
   },
   "outputs": [
    {
     "data": {
      "text/plain": [
       "array([[ 0,  1,  2,  3],\n",
       "       [ 4,  5,  6,  7],\n",
       "       [ 8,  9, 10, 11],\n",
       "       [12, 13, 14, 15],\n",
       "       [16, 17, 18, 19],\n",
       "       [20, 21, 22, 23],\n",
       "       [24, 25, 26, 27],\n",
       "       [28, 29, 30, 31]])"
      ]
     },
     "execution_count": 157,
     "metadata": {},
     "output_type": "execute_result"
    }
   ],
   "source": [
    "arr = np.arange(32).reshape((8,4))\n",
    "arr"
   ]
  },
  {
   "cell_type": "code",
   "execution_count": 161,
   "metadata": {
    "ExecuteTime": {
     "end_time": "2018-09-22T21:03:54.773112Z",
     "start_time": "2018-09-22T21:03:54.768717Z"
    }
   },
   "outputs": [
    {
     "data": {
      "text/plain": [
       "array([[ 4,  5,  6,  7],\n",
       "       [20, 21, 22, 23],\n",
       "       [28, 29, 30, 31],\n",
       "       [ 8,  9, 10, 11]])"
      ]
     },
     "execution_count": 161,
     "metadata": {},
     "output_type": "execute_result"
    }
   ],
   "source": [
    "arr[[1, 5, 7, 2], [0, 3, 1, 2]]\n",
    "arr[[1,5,7,2]]"
   ]
  },
  {
   "cell_type": "code",
   "execution_count": 163,
   "metadata": {
    "ExecuteTime": {
     "end_time": "2018-09-22T21:04:18.341864Z",
     "start_time": "2018-09-22T21:04:18.335881Z"
    }
   },
   "outputs": [
    {
     "data": {
      "text/plain": [
       "array([[ 4,  6,  5,  6],\n",
       "       [20, 22, 21, 22],\n",
       "       [28, 30, 29, 30],\n",
       "       [ 8, 10,  9, 10]])"
      ]
     },
     "execution_count": 163,
     "metadata": {},
     "output_type": "execute_result"
    }
   ],
   "source": [
    "arr[[1, 5, 7, 2]][:, [0,2,1,2]]"
   ]
  },
  {
   "cell_type": "code",
   "execution_count": 149,
   "metadata": {
    "ExecuteTime": {
     "end_time": "2018-09-22T21:00:59.989917Z",
     "start_time": "2018-09-22T21:00:59.984919Z"
    }
   },
   "outputs": [
    {
     "data": {
      "text/plain": [
       "array([[[  0,   1,   2,   3,   4],\n",
       "        [  5,   6,   7,   8,   9],\n",
       "        [ 10,  11,  12,  13,  14],\n",
       "        [ 15,  16,  17,  18,  19],\n",
       "        [ 20,  21,  22,  23,  24]],\n",
       "\n",
       "       [[ 25,  26,  27,  28,  29],\n",
       "        [ 30,  31,  32,  33,  34],\n",
       "        [ 35,  36,  37,  38,  39],\n",
       "        [ 40,  41,  42,  43,  44],\n",
       "        [ 45,  46,  47,  48,  49]],\n",
       "\n",
       "       [[ 50,  51,  52,  53,  54],\n",
       "        [ 55,  56,  57,  58,  59],\n",
       "        [ 60,  61,  62,  63,  64],\n",
       "        [ 65,  66,  67,  68,  69],\n",
       "        [ 70,  71,  72,  73,  74]],\n",
       "\n",
       "       [[ 75,  76,  77,  78,  79],\n",
       "        [ 80,  81,  82,  83,  84],\n",
       "        [ 85,  86,  87,  88,  89],\n",
       "        [ 90,  91,  92,  93,  94],\n",
       "        [ 95,  96,  97,  98,  99]],\n",
       "\n",
       "       [[100, 101, 102, 103, 104],\n",
       "        [105, 106, 107, 108, 109],\n",
       "        [110, 111, 112, 113, 114],\n",
       "        [115, 116, 117, 118, 119],\n",
       "        [120, 121, 122, 123, 124]]])"
      ]
     },
     "execution_count": 149,
     "metadata": {},
     "output_type": "execute_result"
    }
   ],
   "source": [
    "arr = np.arange(125).reshape((5,5,5))\n",
    "arr"
   ]
  },
  {
   "cell_type": "code",
   "execution_count": 152,
   "metadata": {
    "ExecuteTime": {
     "end_time": "2018-09-22T21:01:26.021409Z",
     "start_time": "2018-09-22T21:01:26.015389Z"
    }
   },
   "outputs": [
    {
     "data": {
      "text/plain": [
       "array([[ 25,  26,  27,  28,  29],\n",
       "       [115, 116, 117, 118, 119],\n",
       "       [ 55,  56,  57,  58,  59],\n",
       "       [ 85,  86,  87,  88,  89]])"
      ]
     },
     "execution_count": 152,
     "metadata": {},
     "output_type": "execute_result"
    }
   ],
   "source": [
    "arr[[1, 4, 2, 3], [0, 3, 1, 2]]"
   ]
  },
  {
   "cell_type": "code",
   "execution_count": 154,
   "metadata": {
    "ExecuteTime": {
     "end_time": "2018-09-22T21:01:50.140155Z",
     "start_time": "2018-09-22T21:01:50.135169Z"
    }
   },
   "outputs": [
    {
     "data": {
      "text/plain": [
       "array([115, 116, 117, 118, 119])"
      ]
     },
     "execution_count": 154,
     "metadata": {},
     "output_type": "execute_result"
    }
   ],
   "source": [
    "arr[4,3]"
   ]
  },
  {
   "cell_type": "markdown",
   "metadata": {},
   "source": [
    "## Transposing Arays and Swapping Axes"
   ]
  },
  {
   "cell_type": "code",
   "execution_count": 165,
   "metadata": {
    "ExecuteTime": {
     "end_time": "2018-09-22T21:05:26.725090Z",
     "start_time": "2018-09-22T21:05:26.719000Z"
    }
   },
   "outputs": [
    {
     "data": {
      "text/plain": [
       "array([[ 0,  1,  2,  3,  4],\n",
       "       [ 5,  6,  7,  8,  9],\n",
       "       [10, 11, 12, 13, 14]])"
      ]
     },
     "execution_count": 165,
     "metadata": {},
     "output_type": "execute_result"
    }
   ],
   "source": [
    "arr = np.arange(15).reshape((3,5))\n",
    "arr"
   ]
  },
  {
   "cell_type": "code",
   "execution_count": 168,
   "metadata": {
    "ExecuteTime": {
     "end_time": "2018-09-22T21:05:56.612678Z",
     "start_time": "2018-09-22T21:05:56.606642Z"
    }
   },
   "outputs": [
    {
     "data": {
      "text/plain": [
       "array([[  0,   1,   2,   3,   4],\n",
       "       [125, 125, 125, 125, 125],\n",
       "       [ 10,  11,  12,  13,  14]])"
      ]
     },
     "execution_count": 168,
     "metadata": {},
     "output_type": "execute_result"
    }
   ],
   "source": [
    "arr2 = arr.T\n",
    "arr2[:, 1] = 125\n",
    "arr2\n",
    "arr"
   ]
  },
  {
   "cell_type": "markdown",
   "metadata": {
    "ExecuteTime": {
     "end_time": "2018-09-22T21:26:34.862019Z",
     "start_time": "2018-09-22T21:26:34.856497Z"
    }
   },
   "source": [
    "# Universal Functions: Fast Element-Wise Array Functions"
   ]
  },
  {
   "cell_type": "code",
   "execution_count": 2,
   "metadata": {
    "ExecuteTime": {
     "end_time": "2018-09-23T19:54:33.117548Z",
     "start_time": "2018-09-23T19:54:33.111565Z"
    }
   },
   "outputs": [
    {
     "name": "stdout",
     "output_type": "stream",
     "text": [
      "arr [0 1 2 3 4 5 6 7 8 9]\n",
      "sqrt [0.         1.         1.41421356 1.73205081 2.         2.23606798\n",
      " 2.44948974 2.64575131 2.82842712 3.        ]\n",
      "sart [1.00000000e+00 2.71828183e+00 7.38905610e+00 2.00855369e+01\n",
      " 5.45981500e+01 1.48413159e+02 4.03428793e+02 1.09663316e+03\n",
      " 2.98095799e+03 8.10308393e+03]\n"
     ]
    }
   ],
   "source": [
    "arr = np.arange(10)\n",
    "print(\"arr\", arr)\n",
    "print(\"sqrt\", np.sqrt(arr))\n",
    "print(\"sart\", np.exp(arr))"
   ]
  },
  {
   "cell_type": "code",
   "execution_count": 6,
   "metadata": {
    "ExecuteTime": {
     "end_time": "2018-09-23T19:56:53.871918Z",
     "start_time": "2018-09-23T19:56:53.865012Z"
    }
   },
   "outputs": [
    {
     "name": "stdout",
     "output_type": "stream",
     "text": [
      "x [ 1.02629086  1.12080252 -1.85372845  0.71007528  0.20145629 -0.49500417\n",
      " -0.32064276 -1.61213019]\n",
      "y [-1.65991698  1.41889815 -1.80054142  1.60439092  0.97680534  0.17715428\n",
      " -1.02221429 -0.39396457]\n"
     ]
    },
    {
     "data": {
      "text/plain": [
       "array([ 1.02629086,  1.41889815, -1.80054142,  1.60439092,  0.97680534,\n",
       "        0.17715428, -0.32064276, -0.39396457])"
      ]
     },
     "execution_count": 6,
     "metadata": {},
     "output_type": "execute_result"
    }
   ],
   "source": [
    "x = np.random.randn(8)\n",
    "y = np.random.randn(8)\n",
    "print(\"x\",x)\n",
    "print('y', y)\n",
    "np.maximum(x, y)"
   ]
  },
  {
   "cell_type": "code",
   "execution_count": 8,
   "metadata": {
    "ExecuteTime": {
     "end_time": "2018-09-23T19:59:54.425357Z",
     "start_time": "2018-09-23T19:59:54.419248Z"
    }
   },
   "outputs": [
    {
     "name": "stdout",
     "output_type": "stream",
     "text": [
      "remainder [ 0.24679033  0.07468089 -0.803985    0.17584232  0.6263726   0.18355583\n",
      "  0.63202516]\n",
      "whole_part [ 3.  1. -2.  7.  1.  1.  5.]\n"
     ]
    }
   ],
   "source": [
    "arr = np.random.randn(7)*5\n",
    "remainder, whole_part = np.modf(arr)\n",
    "print(\"remainder\", remainder)\n",
    "print(\"whole_part\", whole_part)"
   ]
  },
  {
   "cell_type": "code",
   "execution_count": 9,
   "metadata": {
    "ExecuteTime": {
     "end_time": "2018-09-23T20:00:49.854805Z",
     "start_time": "2018-09-23T20:00:49.849812Z"
    }
   },
   "outputs": [
    {
     "data": {
      "text/plain": [
       "array([ 3.24679033,  1.07468089, -2.803985  ,  7.17584232,  1.6263726 ,\n",
       "        1.18355583,  5.63202516])"
      ]
     },
     "execution_count": 9,
     "metadata": {},
     "output_type": "execute_result"
    }
   ],
   "source": [
    "arr"
   ]
  },
  {
   "cell_type": "code",
   "execution_count": 13,
   "metadata": {
    "ExecuteTime": {
     "end_time": "2018-09-23T20:02:10.757986Z",
     "start_time": "2018-09-23T20:02:10.753347Z"
    }
   },
   "outputs": [
    {
     "data": {
      "text/plain": [
       "array([1.34234318, 1.01816903,        nan, 1.63669676, 1.12928878,\n",
       "       1.04303093, 1.54051576])"
      ]
     },
     "execution_count": 13,
     "metadata": {},
     "output_type": "execute_result"
    }
   ],
   "source": [
    "np.sqrt(arr)\n",
    "np.sqrt(arr, arr)\n",
    "arr"
   ]
  },
  {
   "cell_type": "code",
   "execution_count": 19,
   "metadata": {
    "ExecuteTime": {
     "end_time": "2018-09-23T20:07:08.198054Z",
     "start_time": "2018-09-23T20:07:08.192004Z"
    }
   },
   "outputs": [
    {
     "name": "stdout",
     "output_type": "stream",
     "text": [
      "arr [-0.67305659 -5.39614538  2.84734019 -7.50943459 -6.39927217 -0.27928372\n",
      "  4.40100849]\n",
      "abs [0.67305659 5.39614538 2.84734019 7.50943459 6.39927217 0.27928372\n",
      " 4.40100849]\n"
     ]
    }
   ],
   "source": [
    "arr = np.random.randn(7)*5\n",
    "print(\"arr\",arr)\n",
    "print(\"abs\", np.abs(arr))"
   ]
  },
  {
   "cell_type": "code",
   "execution_count": 28,
   "metadata": {
    "ExecuteTime": {
     "end_time": "2018-09-23T20:10:28.049027Z",
     "start_time": "2018-09-23T20:10:28.042654Z"
    }
   },
   "outputs": [
    {
     "name": "stdout",
     "output_type": "stream",
     "text": [
      "arr [ 0.1383849  -2.96540081  1.98312341 -1.1458404   1.20604277]\n",
      "sign [ 1. -1.  1. -1.  1.]\n",
      "ceil [ 1. -2.  2. -1.  2.]\n",
      "floor [ 0. -3.  1. -2.  1.]\n",
      "rint [ 0. -3.  2. -1.  1.]\n"
     ]
    }
   ],
   "source": [
    "arr = np.random.randn(5)*5\n",
    "print('arr', arr)\n",
    "print('sign', np.sign(arr))\n",
    "print('ceil', np.ceil(arr))\n",
    "print('floor', np.floor(arr))\n",
    "print('rint', np.rint(arr))"
   ]
  },
  {
   "cell_type": "code",
   "execution_count": 32,
   "metadata": {
    "ExecuteTime": {
     "end_time": "2018-09-23T20:12:44.241607Z",
     "start_time": "2018-09-23T20:12:36.528757Z"
    }
   },
   "outputs": [
    {
     "name": "stdout",
     "output_type": "stream",
     "text": [
      "4.76 µs ± 59.2 ns per loop (mean ± std. dev. of 7 runs, 100000 loops each)\n",
      "4.75 µs ± 46.2 ns per loop (mean ± std. dev. of 7 runs, 100000 loops each)\n"
     ]
    }
   ],
   "source": [
    "arr = np.random.randn(10000)*5\n",
    "%timeit arr - arr\n",
    "%timeit np.subtract(arr, arr)"
   ]
  },
  {
   "cell_type": "code",
   "execution_count": 33,
   "metadata": {
    "ExecuteTime": {
     "end_time": "2018-09-23T20:13:07.694297Z",
     "start_time": "2018-09-23T20:13:00.897127Z"
    }
   },
   "outputs": [
    {
     "name": "stdout",
     "output_type": "stream",
     "text": [
      "4.19 µs ± 45.2 ns per loop (mean ± std. dev. of 7 runs, 100000 loops each)\n",
      "4.17 µs ± 61.6 ns per loop (mean ± std. dev. of 7 runs, 100000 loops each)\n"
     ]
    }
   ],
   "source": [
    "arr = np.random.randn(10000)*5\n",
    "%timeit arr + arr\n",
    "%timeit np.add(arr, arr)"
   ]
  },
  {
   "cell_type": "code",
   "execution_count": 34,
   "metadata": {
    "ExecuteTime": {
     "end_time": "2018-09-23T20:13:22.940004Z",
     "start_time": "2018-09-23T20:13:15.145582Z"
    }
   },
   "outputs": [
    {
     "name": "stdout",
     "output_type": "stream",
     "text": [
      "4.82 µs ± 54.2 ns per loop (mean ± std. dev. of 7 runs, 100000 loops each)\n",
      "4.79 µs ± 75.8 ns per loop (mean ± std. dev. of 7 runs, 100000 loops each)\n"
     ]
    }
   ],
   "source": [
    "arr = np.random.randn(10000)*5\n",
    "%timeit arr * arr\n",
    "%timeit np.multiply(arr, arr)"
   ]
  },
  {
   "cell_type": "code",
   "execution_count": 36,
   "metadata": {
    "ExecuteTime": {
     "end_time": "2018-09-23T20:14:18.146799Z",
     "start_time": "2018-09-23T20:14:04.506805Z"
    }
   },
   "outputs": [
    {
     "name": "stdout",
     "output_type": "stream",
     "text": [
      "8.35 µs ± 86.7 ns per loop (mean ± std. dev. of 7 runs, 100000 loops each)\n",
      "8.41 µs ± 68 ns per loop (mean ± std. dev. of 7 runs, 100000 loops each)\n"
     ]
    }
   ],
   "source": [
    "arr = np.random.randn(10000)*5\n",
    "%timeit arr / arr\n",
    "%timeit np.divide(arr, arr)"
   ]
  },
  {
   "cell_type": "code",
   "execution_count": 37,
   "metadata": {
    "ExecuteTime": {
     "end_time": "2018-09-23T20:14:38.461664Z",
     "start_time": "2018-09-23T20:14:28.643439Z"
    }
   },
   "outputs": [
    {
     "name": "stderr",
     "output_type": "stream",
     "text": [
      "D:\\ProgramData\\Anaconda3\\lib\\site-packages\\ipykernel_launcher.py:1: RuntimeWarning: invalid value encountered in power\n",
      "  \"\"\"Entry point for launching an IPython kernel.\n"
     ]
    },
    {
     "name": "stdout",
     "output_type": "stream",
     "text": [
      "604 µs ± 7.19 µs per loop (mean ± std. dev. of 7 runs, 1000 loops each)\n"
     ]
    },
    {
     "name": "stderr",
     "output_type": "stream",
     "text": [
      "D:\\ProgramData\\Anaconda3\\lib\\site-packages\\ipykernel_launcher.py:1: RuntimeWarning: invalid value encountered in power\n",
      "  \"\"\"Entry point for launching an IPython kernel.\n"
     ]
    },
    {
     "name": "stdout",
     "output_type": "stream",
     "text": [
      "606 µs ± 7 µs per loop (mean ± std. dev. of 7 runs, 1000 loops each)\n"
     ]
    }
   ],
   "source": [
    "arr = np.random.randn(10000)*5\n",
    "%timeit arr**arr\n",
    "%timeit np.power(arr, arr)"
   ]
  },
  {
   "cell_type": "markdown",
   "metadata": {},
   "source": [
    "# Array-Oriented Programming with Arrays"
   ]
  },
  {
   "cell_type": "code",
   "execution_count": 40,
   "metadata": {
    "ExecuteTime": {
     "end_time": "2018-09-23T20:18:39.234630Z",
     "start_time": "2018-09-23T20:18:39.226887Z"
    }
   },
   "outputs": [
    {
     "data": {
      "text/plain": [
       "(array([[0, 1, 2, 3, 4, 5, 6, 7, 8, 9],\n",
       "        [0, 1, 2, 3, 4, 5, 6, 7, 8, 9],\n",
       "        [0, 1, 2, 3, 4, 5, 6, 7, 8, 9],\n",
       "        [0, 1, 2, 3, 4, 5, 6, 7, 8, 9],\n",
       "        [0, 1, 2, 3, 4, 5, 6, 7, 8, 9],\n",
       "        [0, 1, 2, 3, 4, 5, 6, 7, 8, 9],\n",
       "        [0, 1, 2, 3, 4, 5, 6, 7, 8, 9],\n",
       "        [0, 1, 2, 3, 4, 5, 6, 7, 8, 9],\n",
       "        [0, 1, 2, 3, 4, 5, 6, 7, 8, 9],\n",
       "        [0, 1, 2, 3, 4, 5, 6, 7, 8, 9]]),\n",
       " array([[0, 0, 0, 0, 0, 0, 0, 0, 0, 0],\n",
       "        [1, 1, 1, 1, 1, 1, 1, 1, 1, 1],\n",
       "        [2, 2, 2, 2, 2, 2, 2, 2, 2, 2],\n",
       "        [3, 3, 3, 3, 3, 3, 3, 3, 3, 3],\n",
       "        [4, 4, 4, 4, 4, 4, 4, 4, 4, 4],\n",
       "        [5, 5, 5, 5, 5, 5, 5, 5, 5, 5],\n",
       "        [6, 6, 6, 6, 6, 6, 6, 6, 6, 6],\n",
       "        [7, 7, 7, 7, 7, 7, 7, 7, 7, 7],\n",
       "        [8, 8, 8, 8, 8, 8, 8, 8, 8, 8],\n",
       "        [9, 9, 9, 9, 9, 9, 9, 9, 9, 9]]))"
      ]
     },
     "execution_count": 40,
     "metadata": {},
     "output_type": "execute_result"
    }
   ],
   "source": [
    "points = np.arange(0, 10)\n",
    "xs, ys = np.meshgrid(points, points)\n",
    "xs,ys"
   ]
  },
  {
   "cell_type": "code",
   "execution_count": 55,
   "metadata": {
    "ExecuteTime": {
     "end_time": "2018-09-23T20:28:20.052317Z",
     "start_time": "2018-09-23T20:28:19.842999Z"
    }
   },
   "outputs": [
    {
     "data": {
      "image/png": "[encoded data removed]",
      "text/plain": [
       "<matplotlib.figure.Figure at 0x228c4b81e80>"
      ]
     },
     "metadata": {
      "needs_background": "light"
     },
     "output_type": "display_data"
    }
   ],
   "source": [
    "z = np.sqrt(xs **2 + ys**2)\n",
    "import matplotlib.pylab as plt\n",
    "from mpl_toolkits.mplot3d import Axes3D\n",
    "fig = plt.figure()\n",
    "ax = plt.axes(projection='3d')\n",
    "ax.contour(xs, ys, z, 50)\n",
    "ax.set_xlabel('x')\n",
    "ax.set_ylabel('y')\n",
    "ax.set_zlabel('z');"
   ]
  },
  {
   "cell_type": "markdown",
   "metadata": {},
   "source": [
    "### Expressing Conditional Logic as Array Operations"
   ]
  },
  {
   "cell_type": "code",
   "execution_count": 64,
   "metadata": {
    "ExecuteTime": {
     "end_time": "2018-09-23T20:39:57.490117Z",
     "start_time": "2018-09-23T20:39:41.760750Z"
    }
   },
   "outputs": [
    {
     "name": "stdout",
     "output_type": "stream",
     "text": [
      "1.94 µs ± 11.7 ns per loop (mean ± std. dev. of 7 runs, 1000000 loops each)\n"
     ]
    },
    {
     "data": {
      "text/plain": [
       "array([1.1, 2.2, 1.3, 2.4, 1.5])"
      ]
     },
     "execution_count": 64,
     "metadata": {},
     "output_type": "execute_result"
    }
   ],
   "source": [
    "xarr = np.array([1.1, 1.2, 1.3, 1.4, 1.5])\n",
    "yarr = np.array([2.1, 2.2, 2.3, 2.4, 2.5])\n",
    "cond = np.array([True, False, True, False, True])\n",
    "\n",
    "%timeit result = [(x if c else y) for x, y, c in zip(xarr, yarr, cond)]\n",
    "result"
   ]
  },
  {
   "cell_type": "code",
   "execution_count": 65,
   "metadata": {
    "ExecuteTime": {
     "end_time": "2018-09-23T20:40:05.175007Z",
     "start_time": "2018-09-23T20:39:57.503247Z"
    }
   },
   "outputs": [
    {
     "name": "stdout",
     "output_type": "stream",
     "text": [
      "941 ns ± 9.54 ns per loop (mean ± std. dev. of 7 runs, 1000000 loops each)\n"
     ]
    },
    {
     "data": {
      "text/plain": [
       "array([1.1, 2.2, 1.3, 2.4, 1.5])"
      ]
     },
     "execution_count": 65,
     "metadata": {},
     "output_type": "execute_result"
    }
   ],
   "source": [
    "%timeit result = np.where(cond, xarr, yarr)\n",
    "result"
   ]
  },
  {
   "cell_type": "code",
   "execution_count": 69,
   "metadata": {
    "ExecuteTime": {
     "end_time": "2018-09-23T20:41:54.990822Z",
     "start_time": "2018-09-23T20:41:54.984803Z"
    }
   },
   "outputs": [
    {
     "data": {
      "text/plain": [
       "array([[-0.20477001, -0.00319055,  2.        ,  2.        ],\n",
       "       [-0.12461762,  2.        , -1.4608691 ,  2.        ],\n",
       "       [-2.23599539,  2.        , -0.82340903, -1.46602183],\n",
       "       [ 2.        ,  2.        , -0.27919363,  2.        ]])"
      ]
     },
     "execution_count": 69,
     "metadata": {},
     "output_type": "execute_result"
    }
   ],
   "source": [
    "arr = np.random.randn(4,4)\n",
    "\n",
    "np.where(arr >= 0, 2, arr)"
   ]
  },
  {
   "cell_type": "markdown",
   "metadata": {
    "ExecuteTime": {
     "end_time": "2018-09-23T20:42:24.221922Z",
     "start_time": "2018-09-23T20:42:24.218931Z"
    }
   },
   "source": [
    "### Mathematical and Statistical Methods"
   ]
  },
  {
   "cell_type": "code",
   "execution_count": 78,
   "metadata": {
    "ExecuteTime": {
     "end_time": "2018-09-23T20:47:28.099525Z",
     "start_time": "2018-09-23T20:47:28.091545Z"
    }
   },
   "outputs": [
    {
     "name": "stdout",
     "output_type": "stream",
     "text": [
      "mean -0.0038773857082861716\n",
      "var 1.005257638712555\n",
      "sum -242.3366067678857\n"
     ]
    }
   ],
   "source": [
    "arr = np.random.randn(250,250)\n",
    "print('mean',arr.mean())\n",
    "print('var', arr.var())\n",
    "print('sum', arr.sum())"
   ]
  },
  {
   "cell_type": "code",
   "execution_count": 86,
   "metadata": {
    "ExecuteTime": {
     "end_time": "2018-09-23T20:51:00.528914Z",
     "start_time": "2018-09-23T20:51:00.520925Z"
    }
   },
   "outputs": [
    {
     "name": "stdout",
     "output_type": "stream",
     "text": [
      "arr [[-0.88848327  1.96368895 -1.04468427 -1.23554059]\n",
      " [ 0.68052841  1.96484702  0.72481923  1.16716448]\n",
      " [-0.50885083 -0.37081794  0.46353472  0.02409358]]\n",
      "mean [-0.23893523  1.18590601  0.04788989 -0.01476084]\n",
      "sum [-1.20501917  4.53735914 -0.39204047]\n"
     ]
    },
    {
     "data": {
      "text/plain": [
       "<function numpy.core.fromnumeric.mean(a, axis=None, dtype=None, out=None, keepdims=<class 'numpy._globals._NoValue'>)>"
      ]
     },
     "execution_count": 86,
     "metadata": {},
     "output_type": "execute_result"
    }
   ],
   "source": [
    "arr = np.random.randn(3,4)\n",
    "print('arr', arr)\n",
    "print('mean',arr.mean(axis=0))\n",
    "print('sum', arr.sum(axis=1))\n",
    "np.mean"
   ]
  },
  {
   "cell_type": "code",
   "execution_count": 89,
   "metadata": {
    "ExecuteTime": {
     "end_time": "2018-09-23T20:52:41.822219Z",
     "start_time": "2018-09-23T20:52:41.817231Z"
    }
   },
   "outputs": [
    {
     "name": "stdout",
     "output_type": "stream",
     "text": [
      "arr [[1 2 3]\n",
      " [4 5 6]\n",
      " [7 8 9]]\n",
      "axis1 [[ 1  2  3]\n",
      " [ 5  7  9]\n",
      " [12 15 18]]\n",
      "axis1 [[ 1  3  6]\n",
      " [ 4  9 15]\n",
      " [ 7 15 24]]\n"
     ]
    }
   ],
   "source": [
    "arr = np.arange(1,10).reshape(3,3)\n",
    "print('arr',arr)\n",
    "print('axis1', arr.cumsum(axis=0))\n",
    "print('axis1', arr.cumsum(axis=1))"
   ]
  },
  {
   "cell_type": "code",
   "execution_count": 92,
   "metadata": {
    "ExecuteTime": {
     "end_time": "2018-09-23T20:54:25.818334Z",
     "start_time": "2018-09-23T20:54:25.812276Z"
    }
   },
   "outputs": [
    {
     "name": "stdout",
     "output_type": "stream",
     "text": [
      "arr [[ 1.44458917  0.01839355  1.07064261  1.5313145 ]\n",
      " [-0.24089904 -2.14434725  1.62637669  0.26922139]\n",
      " [-0.13020543  0.4133155  -1.04692436 -1.93743149]]\n",
      "all 5\n",
      "0 [1 1 2 2]\n",
      "1 [1 1 3]\n"
     ]
    }
   ],
   "source": [
    "arr = np.random.randn(3,4)\n",
    "print('arr', arr)\n",
    "print('all',arr.argmin())\n",
    "print('0',arr.argmin(axis=0))\n",
    "print('1', arr.argmin(axis=1))"
   ]
  },
  {
   "cell_type": "markdown",
   "metadata": {},
   "source": [
    "### Method for Boolean Arrays"
   ]
  },
  {
   "cell_type": "code",
   "execution_count": 94,
   "metadata": {
    "ExecuteTime": {
     "end_time": "2018-09-23T21:06:09.064441Z",
     "start_time": "2018-09-23T21:06:09.057461Z"
    }
   },
   "outputs": [
    {
     "data": {
      "text/plain": [
       "52"
      ]
     },
     "execution_count": 94,
     "metadata": {},
     "output_type": "execute_result"
    }
   ],
   "source": [
    "arr = np.random.randn(100)\n",
    "(arr > 0).sum()"
   ]
  },
  {
   "cell_type": "code",
   "execution_count": 96,
   "metadata": {
    "ExecuteTime": {
     "end_time": "2018-09-23T21:06:50.285431Z",
     "start_time": "2018-09-23T21:06:50.282433Z"
    }
   },
   "outputs": [
    {
     "name": "stdout",
     "output_type": "stream",
     "text": [
      "True\n",
      "False\n"
     ]
    }
   ],
   "source": [
    "bools = np.array([False, False, True, False])\n",
    "\n",
    "print(bools.any())\n",
    "print(bools.all())"
   ]
  },
  {
   "cell_type": "markdown",
   "metadata": {},
   "source": [
    "### Sorting"
   ]
  },
  {
   "cell_type": "code",
   "execution_count": 117,
   "metadata": {
    "ExecuteTime": {
     "end_time": "2018-09-23T21:12:35.689562Z",
     "start_time": "2018-09-23T21:12:35.682543Z"
    }
   },
   "outputs": [
    {
     "data": {
      "text/plain": [
       "array([[-1.86973439e+00, -9.11105205e-01, -2.64407922e-01,\n",
       "         9.44196278e-01,  1.93442067e+00],\n",
       "       [-1.04440621e+00, -1.18547209e-03,  1.51991260e-01,\n",
       "         2.65894154e-01,  9.32511399e-01],\n",
       "       [-1.00775875e+00, -2.89817896e-02,  8.55630721e-02,\n",
       "         1.17987911e+00,  1.76535435e+00],\n",
       "       [-1.06132316e+00, -7.08678709e-01,  1.62486644e-01,\n",
       "         8.34465800e-01,  9.30568645e-01],\n",
       "       [-2.09462459e+00, -1.10719742e+00, -5.32294798e-01,\n",
       "         3.43719561e-01,  8.21206781e-01]])"
      ]
     },
     "execution_count": 117,
     "metadata": {},
     "output_type": "execute_result"
    }
   ],
   "source": [
    "arr = np.random.randn(5,5)\n",
    "arr.sort(1)\n",
    "arr"
   ]
  },
  {
   "cell_type": "code",
   "execution_count": 109,
   "metadata": {
    "ExecuteTime": {
     "end_time": "2018-09-23T21:09:26.728451Z",
     "start_time": "2018-09-23T21:09:26.722468Z"
    }
   },
   "outputs": [
    {
     "data": {
      "text/plain": [
       "[1, 3, 4, 9]"
      ]
     },
     "execution_count": 109,
     "metadata": {},
     "output_type": "execute_result"
    }
   ],
   "source": [
    "lists = [1,9,3,4]\n",
    "lists.sort()\n",
    "sorted(lists)"
   ]
  },
  {
   "cell_type": "code",
   "execution_count": 123,
   "metadata": {
    "ExecuteTime": {
     "end_time": "2018-09-23T21:16:44.798673Z",
     "start_time": "2018-09-23T21:16:44.792554Z"
    }
   },
   "outputs": [
    {
     "data": {
      "text/plain": [
       "0.13458359832624908"
      ]
     },
     "execution_count": 123,
     "metadata": {},
     "output_type": "execute_result"
    }
   ],
   "source": [
    "larger_arr = np.random.randn(1000)\n",
    "larger_arr.sort()\n",
    "larger_arr[int(0.55*len(larger_arr))]"
   ]
  },
  {
   "cell_type": "markdown",
   "metadata": {},
   "source": [
    "### Unique and Other Set Logic"
   ]
  },
  {
   "cell_type": "code",
   "execution_count": 125,
   "metadata": {
    "ExecuteTime": {
     "end_time": "2018-09-23T21:17:57.113066Z",
     "start_time": "2018-09-23T21:17:57.107118Z"
    }
   },
   "outputs": [
    {
     "data": {
      "text/plain": [
       "array(['Bob', 'Joe', 'Will'], dtype='<U4')"
      ]
     },
     "execution_count": 125,
     "metadata": {},
     "output_type": "execute_result"
    }
   ],
   "source": [
    "names = np.array(['Bob', 'Joe', 'Will', 'Bob', 'Will', 'Joe', 'Joe'])\n",
    "np.unique(names)"
   ]
  },
  {
   "cell_type": "code",
   "execution_count": 145,
   "metadata": {
    "ExecuteTime": {
     "end_time": "2018-09-23T21:27:58.090146Z",
     "start_time": "2018-09-23T21:27:58.084162Z"
    }
   },
   "outputs": [
    {
     "name": "stdout",
     "output_type": "stream",
     "text": [
      "arr [[0 0 2]\n",
      " [0 0 2]\n",
      " [2 2 4]]\n",
      "unique [0 2 4]\n",
      "[[0 0 2]\n",
      " [2 2 4]]\n",
      "[[0 2]\n",
      " [0 2]\n",
      " [2 4]]\n"
     ]
    }
   ],
   "source": [
    "larger_arr = np.array([[0,0,2], [0,0,2], [2,2,4]])\n",
    "print('arr', larger_arr)\n",
    "print('unique', np.unique(larger_arr))\n",
    "print(np.unique(larger_arr,axis = 0) )\n",
    "print(np.unique(larger_arr,axis = 1) )"
   ]
  },
  {
   "cell_type": "markdown",
   "metadata": {},
   "source": [
    "# File Input and Output with Array"
   ]
  },
  {
   "cell_type": "code",
   "execution_count": 153,
   "metadata": {
    "ExecuteTime": {
     "end_time": "2018-09-23T21:36:20.647798Z",
     "start_time": "2018-09-23T21:36:19.130927Z"
    }
   },
   "outputs": [],
   "source": [
    "arr = np.arange(100000000)\n",
    "np.save('some_array', arr)\n",
    "np.savez_compressed('comp_array')"
   ]
  },
  {
   "cell_type": "code",
   "execution_count": 150,
   "metadata": {
    "ExecuteTime": {
     "end_time": "2018-09-23T21:34:38.809971Z",
     "start_time": "2018-09-23T21:34:38.802972Z"
    }
   },
   "outputs": [
    {
     "data": {
      "text/plain": [
       "array([0, 1, 2, 3, 4, 5, 6, 7, 8, 9])"
      ]
     },
     "execution_count": 150,
     "metadata": {},
     "output_type": "execute_result"
    }
   ],
   "source": [
    "y = np.load('some_array.npy')\n",
    "y"
   ]
  },
  {
   "cell_type": "markdown",
   "metadata": {},
   "source": [
    "# Linear Algebra"
   ]
  },
  {
   "cell_type": "code",
   "execution_count": 157,
   "metadata": {
    "ExecuteTime": {
     "end_time": "2018-09-24T08:45:46.969123Z",
     "start_time": "2018-09-24T08:45:46.965110Z"
    }
   },
   "outputs": [
    {
     "name": "stdout",
     "output_type": "stream",
     "text": [
      "[[1 2 3]\n",
      " [4 5 6]]\n",
      "[[ 6 23]\n",
      " [-1  7]\n",
      " [ 8  9]]\n"
     ]
    }
   ],
   "source": [
    "x = np.array([[1, 2, 3], [4, 5,6]])\n",
    "y = np.array([[6, 23], [-1, 7], [8, 9]])\n",
    "print(x)\n",
    "print(y)"
   ]
  },
  {
   "cell_type": "code",
   "execution_count": 164,
   "metadata": {
    "ExecuteTime": {
     "end_time": "2018-09-24T08:49:07.418569Z",
     "start_time": "2018-09-24T08:49:07.412586Z"
    }
   },
   "outputs": [
    {
     "data": {
      "text/plain": [
       "array([ 6., 15.])"
      ]
     },
     "execution_count": 164,
     "metadata": {},
     "output_type": "execute_result"
    }
   ],
   "source": [
    "x.dot(np.ones(3))"
   ]
  },
  {
   "cell_type": "code",
   "execution_count": 165,
   "metadata": {
    "ExecuteTime": {
     "end_time": "2018-09-24T08:49:34.730362Z",
     "start_time": "2018-09-24T08:49:34.724347Z"
    }
   },
   "outputs": [
    {
     "data": {
      "text/plain": [
       "array([5., 7., 9.])"
      ]
     },
     "execution_count": 165,
     "metadata": {},
     "output_type": "execute_result"
    }
   ],
   "source": [
    "np.ones(2).dot(x)"
   ]
  },
  {
   "cell_type": "code",
   "execution_count": 163,
   "metadata": {
    "ExecuteTime": {
     "end_time": "2018-09-24T08:48:27.560918Z",
     "start_time": "2018-09-24T08:48:27.555924Z"
    }
   },
   "outputs": [
    {
     "data": {
      "text/plain": [
       "array([[ 28,  64],\n",
       "       [ 67, 181]])"
      ]
     },
     "execution_count": 163,
     "metadata": {},
     "output_type": "execute_result"
    }
   ],
   "source": [
    "np.dot(x, y)"
   ]
  },
  {
   "cell_type": "code",
   "execution_count": 166,
   "metadata": {
    "ExecuteTime": {
     "end_time": "2018-09-24T08:50:13.219766Z",
     "start_time": "2018-09-24T08:50:13.213782Z"
    }
   },
   "outputs": [
    {
     "data": {
      "text/plain": [
       "array([ 6., 15.])"
      ]
     },
     "execution_count": 166,
     "metadata": {},
     "output_type": "execute_result"
    }
   ],
   "source": [
    "x @ np.ones(3)"
   ]
  },
  {
   "cell_type": "code",
   "execution_count": 169,
   "metadata": {
    "ExecuteTime": {
     "end_time": "2018-09-24T09:03:13.117411Z",
     "start_time": "2018-09-24T09:03:13.113881Z"
    }
   },
   "outputs": [],
   "source": [
    "from numpy.linalg import inv, qr"
   ]
  },
  {
   "cell_type": "code",
   "execution_count": 170,
   "metadata": {
    "ExecuteTime": {
     "end_time": "2018-09-24T09:03:37.445435Z",
     "start_time": "2018-09-24T09:03:37.429445Z"
    }
   },
   "outputs": [],
   "source": [
    "X = np.random.randn(5,5)\n",
    "mat = X.T.dot(X)"
   ]
  },
  {
   "cell_type": "code",
   "execution_count": 173,
   "metadata": {
    "ExecuteTime": {
     "end_time": "2018-09-24T09:04:09.503477Z",
     "start_time": "2018-09-24T09:04:09.498515Z"
    }
   },
   "outputs": [
    {
     "data": {
      "text/plain": [
       "4.79141252156494"
      ]
     },
     "execution_count": 173,
     "metadata": {},
     "output_type": "execute_result"
    }
   ],
   "source": [
    "np.linalg.det(mat)"
   ]
  },
  {
   "cell_type": "code",
   "execution_count": 174,
   "metadata": {
    "ExecuteTime": {
     "end_time": "2018-09-24T09:44:31.802193Z",
     "start_time": "2018-09-24T09:44:31.796196Z"
    }
   },
   "outputs": [
    {
     "data": {
      "text/plain": [
       "array([[ 1.00000000e+00, -2.61927125e-16,  3.00743829e-16,\n",
       "        -2.43351404e-16, -3.69203015e-17],\n",
       "       [-2.89811608e-17,  1.00000000e+00, -2.77552976e-16,\n",
       "        -1.26878889e-16, -1.29675004e-16],\n",
       "       [-1.22276391e-17,  1.41518741e-16,  1.00000000e+00,\n",
       "        -1.51593641e-16,  6.14341236e-16],\n",
       "       [-9.73120857e-17, -2.80152795e-16, -2.28055505e-16,\n",
       "         1.00000000e+00,  2.67390990e-16],\n",
       "       [-9.75898252e-18, -2.91243491e-15, -4.28662849e-16,\n",
       "        -4.01709898e-16,  1.00000000e+00]])"
      ]
     },
     "execution_count": 174,
     "metadata": {},
     "output_type": "execute_result"
    }
   ],
   "source": [
    "mat.dot(inv(mat))"
   ]
  },
  {
   "cell_type": "code",
   "execution_count": 176,
   "metadata": {
    "ExecuteTime": {
     "end_time": "2018-09-24T09:44:58.859522Z",
     "start_time": "2018-09-24T09:44:58.853565Z"
    }
   },
   "outputs": [
    {
     "name": "stdout",
     "output_type": "stream",
     "text": [
      "[[-0.89131899  0.02012012  0.40878061 -0.17964924 -0.07596186]\n",
      " [ 0.00199218 -0.37889552 -0.1685504  -0.05170489 -0.90848862]\n",
      " [-0.26025018  0.70294494 -0.6383596  -0.00868692 -0.17481367]\n",
      " [ 0.3011992   0.2894521   0.23925808 -0.86892363 -0.11499484]\n",
      " [-0.2170147  -0.52737013 -0.58287372 -0.45820193  0.35368712]]\n",
      "[[-5.31747444 -0.00917455 -3.7756659   2.53209717 -2.34426373]\n",
      " [ 0.         -0.9329382   3.94737542  0.3145306  -0.67297576]\n",
      " [ 0.          0.         -5.04150794  1.20702122 -2.46400691]\n",
      " [ 0.          0.          0.         -0.86586488 -0.56815705]\n",
      " [ 0.          0.          0.          0.          0.22125582]]\n"
     ]
    }
   ],
   "source": [
    "q,r = qr(mat)\n",
    "print(q)\n",
    "print(r)"
   ]
  },
  {
   "cell_type": "code",
   "execution_count": 183,
   "metadata": {
    "ExecuteTime": {
     "end_time": "2018-09-24T09:47:41.283834Z",
     "start_time": "2018-09-24T09:47:41.277886Z"
    }
   },
   "outputs": [
    {
     "data": {
      "text/plain": [
       "array([[ 0.78675785,  0.        ,  0.        ],\n",
       "       [ 0.        ,  0.39153238,  0.        ],\n",
       "       [ 0.        ,  0.        , -0.93714014]])"
      ]
     },
     "execution_count": 183,
     "metadata": {},
     "output_type": "execute_result"
    }
   ],
   "source": [
    "np.diag(mat)\n",
    "np.diag(np.random.randn(3))"
   ]
  },
  {
   "cell_type": "code",
   "execution_count": 181,
   "metadata": {
    "ExecuteTime": {
     "end_time": "2018-09-24T09:47:12.558434Z",
     "start_time": "2018-09-24T09:47:12.552449Z"
    }
   },
   "outputs": [
    {
     "data": {
      "text/plain": [
       "array([[ 4.73956593, -0.01059337,  1.38387365, -1.60161905,  1.15397014],\n",
       "       [-0.01059337,  0.35346783, -0.65341651, -0.27280429,  0.49399476],\n",
       "       [ 1.38387365, -0.65341651,  6.97570026, -1.20087292,  1.67620959],\n",
       "       [-1.60161905, -0.27280429, -1.20087292,  1.89486722, -1.02217635],\n",
       "       [ 1.15397014,  0.49399476,  1.67620959, -1.02217635,  2.63843787]])"
      ]
     },
     "execution_count": 181,
     "metadata": {},
     "output_type": "execute_result"
    }
   ],
   "source": [
    "mat"
   ]
  },
  {
   "cell_type": "markdown",
   "metadata": {},
   "source": [
    "# Pseudorandom Number Generation"
   ]
  },
  {
   "cell_type": "code",
   "execution_count": 185,
   "metadata": {
    "ExecuteTime": {
     "end_time": "2018-09-24T09:52:29.681767Z",
     "start_time": "2018-09-24T09:52:29.676780Z"
    }
   },
   "outputs": [
    {
     "data": {
      "text/plain": [
       "array([], shape=(0, 0), dtype=float64)"
      ]
     },
     "execution_count": 185,
     "metadata": {},
     "output_type": "execute_result"
    }
   ],
   "source": [
    "samples = np.random.normal(size=(0,0))\n",
    "samples"
   ]
  },
  {
   "cell_type": "code",
   "execution_count": 189,
   "metadata": {
    "ExecuteTime": {
     "end_time": "2018-09-24T09:59:24.380216Z",
     "start_time": "2018-09-24T09:58:12.399072Z"
    }
   },
   "outputs": [
    {
     "name": "stdout",
     "output_type": "stream",
     "text": [
      "8.98 s ± 70.5 ms per loop (mean ± std. dev. of 7 runs, 1 loop each)\n"
     ]
    }
   ],
   "source": [
    "from random import normalvariate\n",
    "N = 10000000\n",
    "%timeit [normalvariate(0,1) for _ in range(N)]"
   ]
  },
  {
   "cell_type": "code",
   "execution_count": 191,
   "metadata": {
    "ExecuteTime": {
     "end_time": "2018-09-24T09:59:35.213583Z",
     "start_time": "2018-09-24T09:59:32.573990Z"
    }
   },
   "outputs": [
    {
     "name": "stdout",
     "output_type": "stream",
     "text": [
      "330 ms ± 6.18 ms per loop (mean ± std. dev. of 7 runs, 1 loop each)\n"
     ]
    }
   ],
   "source": [
    "%timeit np.random.randn(N)"
   ]
  },
  {
   "cell_type": "code",
   "execution_count": 192,
   "metadata": {
    "ExecuteTime": {
     "end_time": "2018-09-24T09:59:45.375592Z",
     "start_time": "2018-09-24T09:59:42.486438Z"
    }
   },
   "outputs": [
    {
     "name": "stdout",
     "output_type": "stream",
     "text": [
      "360 ms ± 4.59 ms per loop (mean ± std. dev. of 7 runs, 1 loop each)\n"
     ]
    }
   ],
   "source": [
    "%timeit np.random.normal(size=N)"
   ]
  },
  {
   "cell_type": "code",
   "execution_count": 193,
   "metadata": {
    "ExecuteTime": {
     "end_time": "2018-09-24T10:01:44.109952Z",
     "start_time": "2018-09-24T10:01:44.100968Z"
    }
   },
   "outputs": [
    {
     "data": {
      "text/plain": [
       "array([4, 2, 1, 3, 0])"
      ]
     },
     "execution_count": 193,
     "metadata": {},
     "output_type": "execute_result"
    }
   ],
   "source": [
    "np.random.permutation(5)\n",
    "np.random.permutation(np.ran)"
   ]
  },
  {
   "cell_type": "markdown",
   "metadata": {
    "ExecuteTime": {
     "end_time": "2018-09-24T10:02:50.116319Z",
     "start_time": "2018-09-24T10:02:50.111982Z"
    }
   },
   "source": [
    "# Example: Random Walks"
   ]
  },
  {
   "cell_type": "code",
   "execution_count": 5,
   "metadata": {
    "ExecuteTime": {
     "end_time": "2018-09-24T10:29:49.644077Z",
     "start_time": "2018-09-24T10:29:48.286694Z"
    }
   },
   "outputs": [],
   "source": [
    "import random\n",
    "import matplotlib.pyplot as plt"
   ]
  },
  {
   "cell_type": "code",
   "execution_count": 237,
   "metadata": {
    "ExecuteTime": {
     "end_time": "2018-09-24T10:16:59.317161Z",
     "start_time": "2018-09-24T10:16:59.311177Z"
    }
   },
   "outputs": [
    {
     "name": "stdout",
     "output_type": "stream",
     "text": [
      "Wall time: 1.99 ms\n"
     ]
    }
   ],
   "source": [
    "%%time\n",
    "position = 0\n",
    "walk = [position]\n",
    "steps = 1000\n",
    "for x in range(steps):\n",
    "    step = 1 if random.randint(0,1) else -1\n",
    "    position += step\n",
    "    walk.append(position)\n"
   ]
  },
  {
   "cell_type": "code",
   "execution_count": 240,
   "metadata": {
    "ExecuteTime": {
     "end_time": "2018-09-24T10:17:12.028545Z",
     "start_time": "2018-09-24T10:17:12.023541Z"
    }
   },
   "outputs": [
    {
     "name": "stdout",
     "output_type": "stream",
     "text": [
      "Wall time: 0 ns\n"
     ]
    }
   ],
   "source": [
    "%%time\n",
    "steps = 1000\n",
    "x = np.random.randint(0,2,size=steps)\n",
    "step = np.where(x>0, 1, -1)\n",
    "walks = np.cumsum(step)"
   ]
  },
  {
   "cell_type": "code",
   "execution_count": 242,
   "metadata": {
    "ExecuteTime": {
     "end_time": "2018-09-24T10:17:26.163120Z",
     "start_time": "2018-09-24T10:17:26.157641Z"
    }
   },
   "outputs": [
    {
     "data": {
      "text/plain": [
       "88"
      ]
     },
     "execution_count": 242,
     "metadata": {},
     "output_type": "execute_result"
    }
   ],
   "source": [
    "(np.abs(walks)>10).argmax()"
   ]
  },
  {
   "cell_type": "markdown",
   "metadata": {
    "ExecuteTime": {
     "end_time": "2018-09-24T10:16:30.940291Z",
     "start_time": "2018-09-24T10:16:30.935329Z"
    }
   },
   "source": [
    "## Simulating Many Random Walks at Once"
   ]
  },
  {
   "cell_type": "code",
   "execution_count": 21,
   "metadata": {
    "ExecuteTime": {
     "end_time": "2018-09-24T10:33:01.518531Z",
     "start_time": "2018-09-24T10:33:01.513520Z"
    }
   },
   "outputs": [],
   "source": [
    "nwalks = 10\n",
    "nsteps = 500\n",
    "draws = np.random.randint(0,2, size = (nwalks, nsteps))\n",
    "steps = np.where(draws>0, 1,-1)\n",
    "walks = np.cumsum(steps,axis=1)"
   ]
  },
  {
   "cell_type": "code",
   "execution_count": 35,
   "metadata": {
    "ExecuteTime": {
     "end_time": "2018-09-24T10:38:50.945203Z",
     "start_time": "2018-09-24T10:38:50.678948Z"
    }
   },
   "outputs": [
    {
     "data": {
      "image/png": "[encoded data removed]",
      "text/plain": [
       "<matplotlib.figure.Figure at 0x146a63b5ba8>"
      ]
     },
     "metadata": {
      "needs_background": "light"
     },
     "output_type": "display_data"
    }
   ],
   "source": [
    "plt.figure(figsize=(21,9))\n",
    "plt.plot(walks.T)\n",
    "plt.vlines(299,ymin=-40,ymax=40)\n",
    "plt.hlines([30,-30], xmin=0, xmax=500)\n",
    "plt.show()"
   ]
  },
  {
   "cell_type": "code",
   "execution_count": 23,
   "metadata": {
    "ExecuteTime": {
     "end_time": "2018-09-24T10:34:39.330143Z",
     "start_time": "2018-09-24T10:34:39.327162Z"
    }
   },
   "outputs": [],
   "source": [
    "hits30 = (np.abs(walks)>=30).any(1)"
   ]
  },
  {
   "cell_type": "code",
   "execution_count": 26,
   "metadata": {
    "ExecuteTime": {
     "end_time": "2018-09-24T10:35:34.139685Z",
     "start_time": "2018-09-24T10:35:34.134699Z"
    }
   },
   "outputs": [
    {
     "data": {
      "text/plain": [
       "4"
      ]
     },
     "execution_count": 26,
     "metadata": {},
     "output_type": "execute_result"
    }
   ],
   "source": [
    "hits30.sum()"
   ]
  },
  {
   "cell_type": "code",
   "execution_count": 27,
   "metadata": {
    "ExecuteTime": {
     "end_time": "2018-09-24T10:37:05.661871Z",
     "start_time": "2018-09-24T10:37:05.653737Z"
    }
   },
   "outputs": [],
   "source": [
    "crossing_times = (np.abs(walks[hits30]) >= 30).argmax(1)"
   ]
  },
  {
   "cell_type": "code",
   "execution_count": 36,
   "metadata": {
    "ExecuteTime": {
     "end_time": "2018-09-24T10:39:26.259679Z",
     "start_time": "2018-09-24T10:39:26.254661Z"
    }
   },
   "outputs": [
    {
     "data": {
      "text/plain": [
       "array([291, 373, 303, 229], dtype=int64)"
      ]
     },
     "execution_count": 36,
     "metadata": {},
     "output_type": "execute_result"
    }
   ],
   "source": [
    "crossing_times"
   ]
  },
  {
   "cell_type": "code",
   "execution_count": 32,
   "metadata": {
    "ExecuteTime": {
     "end_time": "2018-09-24T10:37:51.687902Z",
     "start_time": "2018-09-24T10:37:51.566162Z"
    }
   },
   "outputs": [
    {
     "data": {
      "text/plain": [
       "<matplotlib.collections.LineCollection at 0x146a5e2b0f0>"
      ]
     },
     "execution_count": 32,
     "metadata": {},
     "output_type": "execute_result"
    },
    {
     "data": {
      "image/png": "[encoded data removed]",
      "text/plain": [
       "<matplotlib.figure.Figure at 0x146a5f7c7f0>"
      ]
     },
     "metadata": {
      "needs_background": "light"
     },
     "output_type": "display_data"
    }
   ],
   "source": []
  },
  {
   "cell_type": "code",
   "execution_count": null,
   "metadata": {},
   "outputs": [],
   "source": []
  }
 ],
 "metadata": {
  "kernelspec": {
   "display_name": "Python 3",
   "language": "python",
   "name": "python3"
  },
  "language_info": {
   "codemirror_mode": {
    "name": "ipython",
    "version": 3
   },
   "file_extension": ".py",
   "mimetype": "text/x-python",
   "name": "python",
   "nbconvert_exporter": "python",
   "pygments_lexer": "ipython3",
   "version": "3.6.6"
  },
  "latex_envs": {
   "LaTeX_envs_menu_present": true,
   "autoclose": false,
   "autocomplete": true,
   "bibliofile": "biblio.bib",
   "cite_by": "apalike",
   "current_citInitial": 1,
   "eqLabelWithNumbers": true,
   "eqNumInitial": 1,
   "hotkeys": {
    "equation": "Ctrl-E",
    "itemize": "Ctrl-I"
   },
   "labels_anchors": false,
   "latex_user_defs": false,
   "report_style_numbering": false,
   "user_envs_cfg": false
  },
  "toc": {
   "base_numbering": 1,
   "nav_menu": {},
   "number_sections": true,
   "sideBar": true,
   "skip_h1_title": false,
   "title_cell": "Table of Contents",
   "title_sidebar": "Contents",
   "toc_cell": true,
   "toc_position": {},
   "toc_section_display": true,
   "toc_window_display": true
  },
  "varInspector": {
   "cols": {
    "lenName": 16,
    "lenType": 16,
    "lenVar": 40
   },
   "kernels_config": {
    "python": {
     "delete_cmd_postfix": "",
     "delete_cmd_prefix": "del ",
     "library": "var_list.py",
     "varRefreshCmd": "print(var_dic_list())"
    },
    "r": {
     "delete_cmd_postfix": ") ",
     "delete_cmd_prefix": "rm(",
     "library": "var_list.r",
     "varRefreshCmd": "cat(var_dic_list()) "
    }
   },
   "oldHeight": 478.375,
   "position": {
    "height": "350px",
    "left": "1507px",
    "right": "20px",
    "top": "132px",
    "width": "416.719px"
   },
   "types_to_exclude": [
    "module",
    "function",
    "builtin_function_or_method",
    "instance",
    "_Feature"
   ],
   "varInspector_section_display": "none",
   "window_display": false
  }
 },
 "nbformat": 4,
 "nbformat_minor": 2
}
