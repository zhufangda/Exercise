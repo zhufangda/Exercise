{
 "cells": [
  {
   "cell_type": "markdown",
   "metadata": {
    "toc": true
   },
   "source": [
    "<h1>Table of Contents<span class=\"tocSkip\"></span></h1>\n",
    "<div class=\"toc\"><ul class=\"toc-item\"><li><span><a href=\"#The-Numpy-ndarray:-A-Multidimesional-Array-Object\" data-toc-modified-id=\"The-Numpy-ndarray:-A-Multidimesional-Array-Object-1\"><span class=\"toc-item-num\">1&nbsp;&nbsp;</span>The Numpy ndarray: A Multidimesional Array Object</a></span><ul class=\"toc-item\"><li><span><a href=\"#Creating-ndarrays\" data-toc-modified-id=\"Creating-ndarrays-1.1\"><span class=\"toc-item-num\">1.1&nbsp;&nbsp;</span>Creating ndarrays</a></span></li><li><span><a href=\"#Data-Types-for-ndarrays\" data-toc-modified-id=\"Data-Types-for-ndarrays-1.2\"><span class=\"toc-item-num\">1.2&nbsp;&nbsp;</span>Data Types for ndarrays</a></span></li><li><span><a href=\"#Arithmetic-with-Numpy-Arrays\" data-toc-modified-id=\"Arithmetic-with-Numpy-Arrays-1.3\"><span class=\"toc-item-num\">1.3&nbsp;&nbsp;</span>Arithmetic with Numpy Arrays</a></span></li><li><span><a href=\"#Basic-Indexing-and-Slicing\" data-toc-modified-id=\"Basic-Indexing-and-Slicing-1.4\"><span class=\"toc-item-num\">1.4&nbsp;&nbsp;</span>Basic Indexing and Slicing</a></span><ul class=\"toc-item\"><li><span><a href=\"#Indexing-with-slices\" data-toc-modified-id=\"Indexing-with-slices-1.4.1\"><span class=\"toc-item-num\">1.4.1&nbsp;&nbsp;</span>Indexing with slices</a></span></li></ul></li><li><span><a href=\"#Boolean-Indexing\" data-toc-modified-id=\"Boolean-Indexing-1.5\"><span class=\"toc-item-num\">1.5&nbsp;&nbsp;</span>Boolean Indexing</a></span></li><li><span><a href=\"#Fancy-Indexing\" data-toc-modified-id=\"Fancy-Indexing-1.6\"><span class=\"toc-item-num\">1.6&nbsp;&nbsp;</span>Fancy Indexing</a></span></li><li><span><a href=\"#Transposing-Arays-and-Swapping-Axes\" data-toc-modified-id=\"Transposing-Arays-and-Swapping-Axes-1.7\"><span class=\"toc-item-num\">1.7&nbsp;&nbsp;</span>Transposing Arays and Swapping Axes</a></span></li></ul></li></ul></div>"
   ]
  },
  {
   "cell_type": "code",
   "execution_count": 4,
   "metadata": {
    "ExecuteTime": {
     "end_time": "2018-09-22T13:30:55.390303Z",
     "start_time": "2018-09-22T13:30:53.579361Z"
    }
   },
   "outputs": [
    {
     "name": "stdout",
     "output_type": "stream",
     "text": [
      "21.9 ms ± 251 µs per loop (mean ± std. dev. of 7 runs, 10 loops each)\n"
     ]
    }
   ],
   "source": [
    "import numpy as np\n",
    "my_arr = np.arange(1000000)\n",
    "my_list = list(range(1000000))\n",
    "%timeit for _ in range(10): my_arr2 = my_arr * 2"
   ]
  },
  {
   "cell_type": "code",
   "execution_count": 5,
   "metadata": {
    "ExecuteTime": {
     "end_time": "2018-09-22T13:31:04.988585Z",
     "start_time": "2018-09-22T13:30:57.612049Z"
    }
   },
   "outputs": [
    {
     "name": "stdout",
     "output_type": "stream",
     "text": [
      "907 ms ± 10.2 ms per loop (mean ± std. dev. of 7 runs, 1 loop each)\n"
     ]
    }
   ],
   "source": [
    "%timeit for _ in range(10): my_list2 = [x*2 for x in my_list]"
   ]
  },
  {
   "cell_type": "markdown",
   "metadata": {},
   "source": [
    "# The Numpy ndarray: A Multidimesional Array Object"
   ]
  },
  {
   "cell_type": "code",
   "execution_count": 6,
   "metadata": {
    "ExecuteTime": {
     "end_time": "2018-09-22T13:33:01.399463Z",
     "start_time": "2018-09-22T13:33:01.371098Z"
    }
   },
   "outputs": [
    {
     "data": {
      "text/plain": [
       "array([[ 0.02325098, -0.43251407,  0.1863689 ],\n",
       "       [ 0.36754831,  0.72814399, -0.27099182]])"
      ]
     },
     "execution_count": 6,
     "metadata": {},
     "output_type": "execute_result"
    }
   ],
   "source": [
    "import numpy as np\n",
    "data = np.random.randn(2, 3)\n",
    "data"
   ]
  },
  {
   "cell_type": "code",
   "execution_count": 7,
   "metadata": {
    "ExecuteTime": {
     "end_time": "2018-09-22T13:33:13.240371Z",
     "start_time": "2018-09-22T13:33:13.234380Z"
    }
   },
   "outputs": [
    {
     "data": {
      "text/plain": [
       "array([[ 0.23250982, -4.32514074,  1.86368899],\n",
       "       [ 3.67548311,  7.28143992, -2.70991819]])"
      ]
     },
     "execution_count": 7,
     "metadata": {},
     "output_type": "execute_result"
    }
   ],
   "source": [
    "data * 10"
   ]
  },
  {
   "cell_type": "code",
   "execution_count": 8,
   "metadata": {
    "ExecuteTime": {
     "end_time": "2018-09-22T13:33:25.984427Z",
     "start_time": "2018-09-22T13:33:25.979339Z"
    }
   },
   "outputs": [
    {
     "data": {
      "text/plain": [
       "array([[ 0.04650196, -0.86502815,  0.3727378 ],\n",
       "       [ 0.73509662,  1.45628798, -0.54198364]])"
      ]
     },
     "execution_count": 8,
     "metadata": {},
     "output_type": "execute_result"
    }
   ],
   "source": [
    "data + data"
   ]
  },
  {
   "cell_type": "markdown",
   "metadata": {},
   "source": [
    "## Creating ndarrays"
   ]
  },
  {
   "cell_type": "code",
   "execution_count": 15,
   "metadata": {
    "ExecuteTime": {
     "end_time": "2018-09-22T13:42:46.211459Z",
     "start_time": "2018-09-22T13:42:31.723779Z"
    }
   },
   "outputs": [
    {
     "name": "stdout",
     "output_type": "stream",
     "text": [
      "999 ns ± 5.06 ns per loop (mean ± std. dev. of 7 runs, 1000000 loops each)\n",
      "785 ns ± 7.31 ns per loop (mean ± std. dev. of 7 runs, 1000000 loops each)\n"
     ]
    },
    {
     "data": {
      "text/plain": [
       "dtype('float64')"
      ]
     },
     "execution_count": 15,
     "metadata": {},
     "output_type": "execute_result"
    }
   ],
   "source": [
    "data1 = [6, 7.5, 8, 0, 1]\n",
    "%timeit arr1 = np.array(data1)\n",
    "data2 = [6.0, 7.5, 8.0, 0.0, 1.0]\n",
    "%timeit arr2 = np.array(data2)\n",
    "arr1.dtype"
   ]
  },
  {
   "cell_type": "code",
   "execution_count": 23,
   "metadata": {
    "ExecuteTime": {
     "end_time": "2018-09-22T13:45:50.074538Z",
     "start_time": "2018-09-22T13:45:50.069125Z"
    }
   },
   "outputs": [
    {
     "name": "stdout",
     "output_type": "stream",
     "text": [
      "2 (3, 4)\n"
     ]
    },
    {
     "data": {
      "text/plain": [
       "array([['1', '2', '3', '4'],\n",
       "       ['5', '6', '7', '8'],\n",
       "       ['2', '5', '8', '6']], dtype='<U11')"
      ]
     },
     "execution_count": 23,
     "metadata": {},
     "output_type": "execute_result"
    }
   ],
   "source": [
    "data2 = [[1, 2, \"3\", 4],[5,6,7,8], [2,5,8,6]]\n",
    "arr2 = np.array(data2)\n",
    "print(arr2.ndim, arr2.shape)\n",
    "arr2"
   ]
  },
  {
   "cell_type": "code",
   "execution_count": 30,
   "metadata": {
    "ExecuteTime": {
     "end_time": "2018-09-22T13:48:14.306494Z",
     "start_time": "2018-09-22T13:48:14.300509Z"
    }
   },
   "outputs": [
    {
     "data": {
      "text/plain": [
       "array([0., 0., 0., 0., 0., 0., 0., 0., 0., 0.])"
      ]
     },
     "execution_count": 30,
     "metadata": {},
     "output_type": "execute_result"
    }
   ],
   "source": [
    "np.zeros((10))"
   ]
  },
  {
   "cell_type": "code",
   "execution_count": 31,
   "metadata": {
    "ExecuteTime": {
     "end_time": "2018-09-22T13:48:33.426449Z",
     "start_time": "2018-09-22T13:48:33.421413Z"
    }
   },
   "outputs": [
    {
     "data": {
      "text/plain": [
       "array([[0., 0., 0., 0., 0., 0.],\n",
       "       [0., 0., 0., 0., 0., 0.],\n",
       "       [0., 0., 0., 0., 0., 0.]])"
      ]
     },
     "execution_count": 31,
     "metadata": {},
     "output_type": "execute_result"
    }
   ],
   "source": [
    "np.zeros((3,6))"
   ]
  },
  {
   "cell_type": "code",
   "execution_count": 36,
   "metadata": {
    "ExecuteTime": {
     "end_time": "2018-09-22T13:50:11.281768Z",
     "start_time": "2018-09-22T13:50:04.892543Z"
    }
   },
   "outputs": [
    {
     "name": "stdout",
     "output_type": "stream",
     "text": [
      "491 ns ± 5.95 ns per loop (mean ± std. dev. of 7 runs, 1000000 loops each)\n",
      "2.95 µs ± 51.3 ns per loop (mean ± std. dev. of 7 runs, 100000 loops each)\n"
     ]
    }
   ],
   "source": [
    "%timeit np.empty((100,100))\n",
    "%timeit np.zeros((100,100))\n",
    "# Empty is more faster"
   ]
  },
  {
   "cell_type": "code",
   "execution_count": 40,
   "metadata": {
    "ExecuteTime": {
     "end_time": "2018-09-22T13:52:39.321484Z",
     "start_time": "2018-09-22T13:52:32.214134Z"
    }
   },
   "outputs": [
    {
     "name": "stdout",
     "output_type": "stream",
     "text": [
      "215 ns ± 2.55 ns per loop (mean ± std. dev. of 7 runs, 1000000 loops each)\n",
      "661 ns ± 5.73 ns per loop (mean ± std. dev. of 7 runs, 1000000 loops each)\n"
     ]
    }
   ],
   "source": [
    "%timeit range(100)\n",
    "%timeit np.arange(100)\n",
    "# 如果用于循环， range效率更高"
   ]
  },
  {
   "cell_type": "markdown",
   "metadata": {},
   "source": [
    "## Data Types for ndarrays"
   ]
  },
  {
   "cell_type": "code",
   "execution_count": 45,
   "metadata": {
    "ExecuteTime": {
     "end_time": "2018-09-22T14:05:04.377799Z",
     "start_time": "2018-09-22T14:05:04.372641Z"
    }
   },
   "outputs": [
    {
     "name": "stdout",
     "output_type": "stream",
     "text": [
      "float64 int32\n"
     ]
    }
   ],
   "source": [
    "arr1 = np.array([1, 2, 3], dtype = np.float64)\n",
    "arr2 = np.array([1, 2, 3], dtype = np.int32)\n",
    "print(arr1.dtype, arr2.dtype)"
   ]
  },
  {
   "cell_type": "code",
   "execution_count": 49,
   "metadata": {
    "ExecuteTime": {
     "end_time": "2018-09-22T14:07:01.146610Z",
     "start_time": "2018-09-22T14:07:01.140592Z"
    }
   },
   "outputs": [
    {
     "data": {
      "text/plain": [
       "array([1., 2., 3., 4., 5.], dtype=float32)"
      ]
     },
     "execution_count": 49,
     "metadata": {},
     "output_type": "execute_result"
    }
   ],
   "source": [
    "arr = np.array([1, 2, 3, 4, 5])\n",
    "arr.dtype\n",
    "float_arr = arr.astype(np.float32)\n",
    "float_arr"
   ]
  },
  {
   "cell_type": "markdown",
   "metadata": {},
   "source": [
    "## Arithmetic with Numpy Arrays"
   ]
  },
  {
   "cell_type": "code",
   "execution_count": 56,
   "metadata": {
    "ExecuteTime": {
     "end_time": "2018-09-22T14:12:20.995556Z",
     "start_time": "2018-09-22T14:12:04.989247Z"
    }
   },
   "outputs": [
    {
     "name": "stdout",
     "output_type": "stream",
     "text": [
      "[[ 1.  4.  9.]\n",
      " [16. 25. 36.]]\n",
      "[[0. 0. 0.]\n",
      " [0. 0. 0.]]\n",
      "1.14 µs ± 10.3 ns per loop (mean ± std. dev. of 7 runs, 1000000 loops each)\n",
      "831 ns ± 6.2 ns per loop (mean ± std. dev. of 7 runs, 1000000 loops each)\n"
     ]
    }
   ],
   "source": [
    "arr = np.array([[1., 2., 3.], [4., 5., 6.]])\n",
    "print(arr * arr)\n",
    "print(arr - arr)\n",
    "%timeit 1/arr\n",
    "%timeit 1./arr"
   ]
  },
  {
   "cell_type": "code",
   "execution_count": 57,
   "metadata": {
    "ExecuteTime": {
     "end_time": "2018-09-22T14:12:46.626632Z",
     "start_time": "2018-09-22T14:12:46.620603Z"
    }
   },
   "outputs": [
    {
     "data": {
      "text/plain": [
       "array([[1.000e+00, 3.200e+01, 2.430e+02],\n",
       "       [1.024e+03, 3.125e+03, 7.776e+03]])"
      ]
     },
     "execution_count": 57,
     "metadata": {},
     "output_type": "execute_result"
    }
   ],
   "source": [
    "arr ** 5"
   ]
  },
  {
   "cell_type": "code",
   "execution_count": 62,
   "metadata": {
    "ExecuteTime": {
     "end_time": "2018-09-22T14:13:52.396009Z",
     "start_time": "2018-09-22T14:13:52.389017Z"
    }
   },
   "outputs": [
    {
     "data": {
      "text/plain": [
       "array([[False,  True, False],\n",
       "       [ True, False,  True]])"
      ]
     },
     "execution_count": 62,
     "metadata": {},
     "output_type": "execute_result"
    }
   ],
   "source": [
    "arr2 = np.array([[0., 4., 1.],[7., 2., 12.]])\n",
    "arr2 > arr"
   ]
  },
  {
   "cell_type": "markdown",
   "metadata": {},
   "source": [
    "## Basic Indexing and Slicing"
   ]
  },
  {
   "cell_type": "code",
   "execution_count": 66,
   "metadata": {
    "ExecuteTime": {
     "end_time": "2018-09-22T14:33:07.971535Z",
     "start_time": "2018-09-22T14:33:07.965438Z"
    }
   },
   "outputs": [
    {
     "name": "stdout",
     "output_type": "stream",
     "text": [
      "arr [0 1 2 3 4 5 6 7 8 9]\n",
      "arr [  0   1 102 102 102 102   6   7   8   9]\n"
     ]
    }
   ],
   "source": [
    "arr = np.arange(10)\n",
    "print(\"arr\", arr)\n",
    "arr[2:6] = 102\n",
    "print(\"arr\", arr)"
   ]
  },
  {
   "cell_type": "code",
   "execution_count": 70,
   "metadata": {
    "ExecuteTime": {
     "end_time": "2018-09-22T14:34:27.787486Z",
     "start_time": "2018-09-22T14:34:27.781465Z"
    }
   },
   "outputs": [
    {
     "data": {
      "text/plain": [
       "array([  0,   1, 102, 102, 102, 102,  25,   7,   8,   9])"
      ]
     },
     "execution_count": 70,
     "metadata": {},
     "output_type": "execute_result"
    }
   ],
   "source": [
    "arr_slice = arr[5:8]\n",
    "arr_slice[1] = 2"
   ]
  },
  {
   "cell_type": "code",
   "execution_count": 71,
   "metadata": {
    "ExecuteTime": {
     "end_time": "2018-09-22T14:35:50.267542Z",
     "start_time": "2018-09-22T14:35:50.261863Z"
    }
   },
   "outputs": [
    {
     "data": {
      "text/plain": [
       "array([7, 8, 9])"
      ]
     },
     "execution_count": 71,
     "metadata": {},
     "output_type": "execute_result"
    }
   ],
   "source": [
    "arr2d = np.array([[1, 2, 3], [4, 5, 6], [7, 8, 9]])\n",
    "arr2d[2]"
   ]
  },
  {
   "cell_type": "code",
   "execution_count": 75,
   "metadata": {
    "ExecuteTime": {
     "end_time": "2018-09-22T14:58:59.004268Z",
     "start_time": "2018-09-22T14:58:58.998232Z"
    }
   },
   "outputs": [
    {
     "data": {
      "text/plain": [
       "array([[[ 1,  2,  3],\n",
       "        [ 4,  5,  6]],\n",
       "\n",
       "       [[ 7,  8,  9],\n",
       "        [10, 11, 12]]])"
      ]
     },
     "execution_count": 75,
     "metadata": {},
     "output_type": "execute_result"
    }
   ],
   "source": [
    "arr3d = np.array([[[1, 2, 3], [4, 5, 6]], [[7, 8, 9], [10, 11, 12]]])\n",
    "arr3d"
   ]
  },
  {
   "cell_type": "code",
   "execution_count": 78,
   "metadata": {
    "ExecuteTime": {
     "end_time": "2018-09-22T15:00:02.610429Z",
     "start_time": "2018-09-22T15:00:02.605417Z"
    }
   },
   "outputs": [
    {
     "data": {
      "text/plain": [
       "array([[[42, 42, 42],\n",
       "        [42, 42, 42]],\n",
       "\n",
       "       [[ 7,  8,  9],\n",
       "        [10, 11, 12]]])"
      ]
     },
     "execution_count": 78,
     "metadata": {},
     "output_type": "execute_result"
    }
   ],
   "source": [
    "arr3d[0] = 42\n",
    "arr3d"
   ]
  },
  {
   "cell_type": "markdown",
   "metadata": {},
   "source": [
    "### Indexing with slices"
   ]
  },
  {
   "cell_type": "code",
   "execution_count": 80,
   "metadata": {
    "ExecuteTime": {
     "end_time": "2018-09-22T15:05:24.860884Z",
     "start_time": "2018-09-22T15:05:24.855871Z"
    }
   },
   "outputs": [
    {
     "data": {
      "text/plain": [
       "array([ 1,  2,  3,  4, 64])"
      ]
     },
     "execution_count": 80,
     "metadata": {},
     "output_type": "execute_result"
    }
   ],
   "source": [
    "arr = np.array([0, 1, 2, 3, 4, 64, 64, 64, 8, 9])\n",
    "arr[1:6]"
   ]
  },
  {
   "cell_type": "code",
   "execution_count": 90,
   "metadata": {
    "ExecuteTime": {
     "end_time": "2018-09-22T15:11:52.949170Z",
     "start_time": "2018-09-22T15:11:52.943193Z"
    }
   },
   "outputs": [
    {
     "data": {
      "text/plain": [
       "array([[ 1,  2,  3],\n",
       "       [ 3,  4,  5],\n",
       "       [ 6,  7,  8],\n",
       "       [ 9, 10, 11]])"
      ]
     },
     "execution_count": 90,
     "metadata": {},
     "output_type": "execute_result"
    }
   ],
   "source": [
    "arr2d = np.array([[1,2,3], [3,4,5], [6,7,8], [9,10,11]])\n",
    "arr2d"
   ]
  },
  {
   "cell_type": "code",
   "execution_count": 96,
   "metadata": {
    "ExecuteTime": {
     "end_time": "2018-09-22T15:18:03.772193Z",
     "start_time": "2018-09-22T15:18:03.766537Z"
    }
   },
   "outputs": [
    {
     "data": {
      "text/plain": [
       "array([[ 9, 10, 11]])"
      ]
     },
     "execution_count": 96,
     "metadata": {},
     "output_type": "execute_result"
    }
   ],
   "source": [
    "arr2d[3:, :]"
   ]
  },
  {
   "cell_type": "code",
   "execution_count": 107,
   "metadata": {
    "ExecuteTime": {
     "end_time": "2018-09-22T15:26:53.859541Z",
     "start_time": "2018-09-22T15:26:53.854521Z"
    }
   },
   "outputs": [
    {
     "data": {
      "text/plain": [
       "array([1, 2])"
      ]
     },
     "execution_count": 107,
     "metadata": {},
     "output_type": "execute_result"
    }
   ],
   "source": [
    "x = np.array([1, 2])\n",
    "x.T"
   ]
  },
  {
   "cell_type": "markdown",
   "metadata": {},
   "source": [
    "## Boolean Indexing"
   ]
  },
  {
   "cell_type": "code",
   "execution_count": 136,
   "metadata": {
    "ExecuteTime": {
     "end_time": "2018-09-22T20:32:56.797626Z",
     "start_time": "2018-09-22T20:32:56.791631Z"
    }
   },
   "outputs": [
    {
     "name": "stdout",
     "output_type": "stream",
     "text": [
      "['Bob' 'Joe' 'Will' 'Bob' 'Will' 'Joe' 'Joe']\n",
      "[[ 1.614442    1.13947949  0.68326433 -2.55914869]\n",
      " [-0.4807243  -0.29288407 -0.6061266   0.56134764]\n",
      " [ 0.7457706  -0.67538601 -0.72560915  0.44244156]\n",
      " [ 0.89939637 -0.21818426 -0.89141747 -0.3439064 ]\n",
      " [ 0.55551838 -1.82490214  0.94666401 -0.2004022 ]\n",
      " [-3.24289153 -0.96683512 -1.24123062  2.40016807]\n",
      " [-0.21289151 -0.29819749 -0.53063639  0.00528255]]\n"
     ]
    }
   ],
   "source": [
    "names = np.array(['Bob', 'Joe', 'Will', 'Bob', 'Will', 'Joe', 'Joe'])\n",
    "data = np.random.randn(7,4)\n",
    "print(names)\n",
    "print(data)"
   ]
  },
  {
   "cell_type": "code",
   "execution_count": 137,
   "metadata": {
    "ExecuteTime": {
     "end_time": "2018-09-22T20:32:57.061894Z",
     "start_time": "2018-09-22T20:32:57.055910Z"
    }
   },
   "outputs": [
    {
     "data": {
      "text/plain": [
       "array([[ 1.614442  ,  1.13947949,  0.68326433, -2.55914869],\n",
       "       [ 0.89939637, -0.21818426, -0.89141747, -0.3439064 ]])"
      ]
     },
     "execution_count": 137,
     "metadata": {},
     "output_type": "execute_result"
    }
   ],
   "source": [
    "data[names == 'Bob']"
   ]
  },
  {
   "cell_type": "code",
   "execution_count": 138,
   "metadata": {
    "ExecuteTime": {
     "end_time": "2018-09-22T20:33:04.827326Z",
     "start_time": "2018-09-22T20:33:04.821344Z"
    }
   },
   "outputs": [
    {
     "data": {
      "text/plain": [
       "array([[ 1.13947949,  0.68326433, -2.55914869],\n",
       "       [-0.21818426, -0.89141747, -0.3439064 ]])"
      ]
     },
     "execution_count": 138,
     "metadata": {},
     "output_type": "execute_result"
    }
   ],
   "source": [
    "data[names == 'Bob', 1:]"
   ]
  },
  {
   "cell_type": "code",
   "execution_count": 139,
   "metadata": {
    "ExecuteTime": {
     "end_time": "2018-09-22T20:33:25.987695Z",
     "start_time": "2018-09-22T20:33:25.981717Z"
    }
   },
   "outputs": [
    {
     "data": {
      "text/plain": [
       "array([[-0.4807243 , -0.29288407, -0.6061266 ,  0.56134764],\n",
       "       [ 0.7457706 , -0.67538601, -0.72560915,  0.44244156],\n",
       "       [ 0.55551838, -1.82490214,  0.94666401, -0.2004022 ],\n",
       "       [-3.24289153, -0.96683512, -1.24123062,  2.40016807],\n",
       "       [-0.21289151, -0.29819749, -0.53063639,  0.00528255]])"
      ]
     },
     "execution_count": 139,
     "metadata": {},
     "output_type": "execute_result"
    }
   ],
   "source": [
    "data[names != 'Bob']"
   ]
  },
  {
   "cell_type": "code",
   "execution_count": 141,
   "metadata": {
    "ExecuteTime": {
     "end_time": "2018-09-22T20:34:03.843687Z",
     "start_time": "2018-09-22T20:34:03.837703Z"
    }
   },
   "outputs": [
    {
     "data": {
      "text/plain": [
       "array([[ 1.614442  ,  1.13947949,  0.68326433, -2.55914869],\n",
       "       [ 0.7457706 , -0.67538601, -0.72560915,  0.44244156],\n",
       "       [ 0.89939637, -0.21818426, -0.89141747, -0.3439064 ],\n",
       "       [ 0.55551838, -1.82490214,  0.94666401, -0.2004022 ]])"
      ]
     },
     "execution_count": 141,
     "metadata": {},
     "output_type": "execute_result"
    }
   ],
   "source": [
    "mask = (names == 'Bob') | (names == 'Will')\n",
    "data[mask]"
   ]
  },
  {
   "cell_type": "markdown",
   "metadata": {},
   "source": [
    "## Fancy Indexing"
   ]
  },
  {
   "cell_type": "code",
   "execution_count": 156,
   "metadata": {
    "ExecuteTime": {
     "end_time": "2018-09-22T21:03:18.515375Z",
     "start_time": "2018-09-22T21:03:18.509366Z"
    }
   },
   "outputs": [
    {
     "data": {
      "text/plain": [
       "array([[4., 4., 4., 4.],\n",
       "       [3., 3., 3., 3.],\n",
       "       [0., 0., 0., 0.],\n",
       "       [6., 6., 6., 6.]])"
      ]
     },
     "execution_count": 156,
     "metadata": {},
     "output_type": "execute_result"
    }
   ],
   "source": [
    "arr = np.empty((8, 4))\n",
    "for i in range(8):\n",
    "    arr[i] = i\n",
    "arr[[4, 3, 0, 6]]"
   ]
  },
  {
   "cell_type": "code",
   "execution_count": 157,
   "metadata": {
    "ExecuteTime": {
     "end_time": "2018-09-22T21:03:18.795605Z",
     "start_time": "2018-09-22T21:03:18.789607Z"
    }
   },
   "outputs": [
    {
     "data": {
      "text/plain": [
       "array([[ 0,  1,  2,  3],\n",
       "       [ 4,  5,  6,  7],\n",
       "       [ 8,  9, 10, 11],\n",
       "       [12, 13, 14, 15],\n",
       "       [16, 17, 18, 19],\n",
       "       [20, 21, 22, 23],\n",
       "       [24, 25, 26, 27],\n",
       "       [28, 29, 30, 31]])"
      ]
     },
     "execution_count": 157,
     "metadata": {},
     "output_type": "execute_result"
    }
   ],
   "source": [
    "arr = np.arange(32).reshape((8,4))\n",
    "arr"
   ]
  },
  {
   "cell_type": "code",
   "execution_count": 161,
   "metadata": {
    "ExecuteTime": {
     "end_time": "2018-09-22T21:03:54.773112Z",
     "start_time": "2018-09-22T21:03:54.768717Z"
    }
   },
   "outputs": [
    {
     "data": {
      "text/plain": [
       "array([[ 4,  5,  6,  7],\n",
       "       [20, 21, 22, 23],\n",
       "       [28, 29, 30, 31],\n",
       "       [ 8,  9, 10, 11]])"
      ]
     },
     "execution_count": 161,
     "metadata": {},
     "output_type": "execute_result"
    }
   ],
   "source": [
    "arr[[1, 5, 7, 2], [0, 3, 1, 2]]\n",
    "arr[[1,5,7,2]]"
   ]
  },
  {
   "cell_type": "code",
   "execution_count": 163,
   "metadata": {
    "ExecuteTime": {
     "end_time": "2018-09-22T21:04:18.341864Z",
     "start_time": "2018-09-22T21:04:18.335881Z"
    }
   },
   "outputs": [
    {
     "data": {
      "text/plain": [
       "array([[ 4,  6,  5,  6],\n",
       "       [20, 22, 21, 22],\n",
       "       [28, 30, 29, 30],\n",
       "       [ 8, 10,  9, 10]])"
      ]
     },
     "execution_count": 163,
     "metadata": {},
     "output_type": "execute_result"
    }
   ],
   "source": [
    "arr[[1, 5, 7, 2]][:, [0,2,1,2]]"
   ]
  },
  {
   "cell_type": "code",
   "execution_count": 149,
   "metadata": {
    "ExecuteTime": {
     "end_time": "2018-09-22T21:00:59.989917Z",
     "start_time": "2018-09-22T21:00:59.984919Z"
    }
   },
   "outputs": [
    {
     "data": {
      "text/plain": [
       "array([[[  0,   1,   2,   3,   4],\n",
       "        [  5,   6,   7,   8,   9],\n",
       "        [ 10,  11,  12,  13,  14],\n",
       "        [ 15,  16,  17,  18,  19],\n",
       "        [ 20,  21,  22,  23,  24]],\n",
       "\n",
       "       [[ 25,  26,  27,  28,  29],\n",
       "        [ 30,  31,  32,  33,  34],\n",
       "        [ 35,  36,  37,  38,  39],\n",
       "        [ 40,  41,  42,  43,  44],\n",
       "        [ 45,  46,  47,  48,  49]],\n",
       "\n",
       "       [[ 50,  51,  52,  53,  54],\n",
       "        [ 55,  56,  57,  58,  59],\n",
       "        [ 60,  61,  62,  63,  64],\n",
       "        [ 65,  66,  67,  68,  69],\n",
       "        [ 70,  71,  72,  73,  74]],\n",
       "\n",
       "       [[ 75,  76,  77,  78,  79],\n",
       "        [ 80,  81,  82,  83,  84],\n",
       "        [ 85,  86,  87,  88,  89],\n",
       "        [ 90,  91,  92,  93,  94],\n",
       "        [ 95,  96,  97,  98,  99]],\n",
       "\n",
       "       [[100, 101, 102, 103, 104],\n",
       "        [105, 106, 107, 108, 109],\n",
       "        [110, 111, 112, 113, 114],\n",
       "        [115, 116, 117, 118, 119],\n",
       "        [120, 121, 122, 123, 124]]])"
      ]
     },
     "execution_count": 149,
     "metadata": {},
     "output_type": "execute_result"
    }
   ],
   "source": [
    "arr = np.arange(125).reshape((5,5,5))\n",
    "arr"
   ]
  },
  {
   "cell_type": "code",
   "execution_count": 152,
   "metadata": {
    "ExecuteTime": {
     "end_time": "2018-09-22T21:01:26.021409Z",
     "start_time": "2018-09-22T21:01:26.015389Z"
    }
   },
   "outputs": [
    {
     "data": {
      "text/plain": [
       "array([[ 25,  26,  27,  28,  29],\n",
       "       [115, 116, 117, 118, 119],\n",
       "       [ 55,  56,  57,  58,  59],\n",
       "       [ 85,  86,  87,  88,  89]])"
      ]
     },
     "execution_count": 152,
     "metadata": {},
     "output_type": "execute_result"
    }
   ],
   "source": [
    "arr[[1, 4, 2, 3], [0, 3, 1, 2]]"
   ]
  },
  {
   "cell_type": "code",
   "execution_count": 154,
   "metadata": {
    "ExecuteTime": {
     "end_time": "2018-09-22T21:01:50.140155Z",
     "start_time": "2018-09-22T21:01:50.135169Z"
    }
   },
   "outputs": [
    {
     "data": {
      "text/plain": [
       "array([115, 116, 117, 118, 119])"
      ]
     },
     "execution_count": 154,
     "metadata": {},
     "output_type": "execute_result"
    }
   ],
   "source": [
    "arr[4,3]"
   ]
  },
  {
   "cell_type": "markdown",
   "metadata": {},
   "source": [
    "## Transposing Arays and Swapping Axes"
   ]
  },
  {
   "cell_type": "code",
   "execution_count": 165,
   "metadata": {
    "ExecuteTime": {
     "end_time": "2018-09-22T21:05:26.725090Z",
     "start_time": "2018-09-22T21:05:26.719000Z"
    }
   },
   "outputs": [
    {
     "data": {
      "text/plain": [
       "array([[ 0,  1,  2,  3,  4],\n",
       "       [ 5,  6,  7,  8,  9],\n",
       "       [10, 11, 12, 13, 14]])"
      ]
     },
     "execution_count": 165,
     "metadata": {},
     "output_type": "execute_result"
    }
   ],
   "source": [
    "arr = np.arange(15).reshape((3,5))\n",
    "arr"
   ]
  },
  {
   "cell_type": "code",
   "execution_count": 168,
   "metadata": {
    "ExecuteTime": {
     "end_time": "2018-09-22T21:05:56.612678Z",
     "start_time": "2018-09-22T21:05:56.606642Z"
    }
   },
   "outputs": [
    {
     "data": {
      "text/plain": [
       "array([[  0,   1,   2,   3,   4],\n",
       "       [125, 125, 125, 125, 125],\n",
       "       [ 10,  11,  12,  13,  14]])"
      ]
     },
     "execution_count": 168,
     "metadata": {},
     "output_type": "execute_result"
    }
   ],
   "source": [
    "arr2 = arr.T\n",
    "arr2[:, 1] = 125\n",
    "arr2\n",
    "arr"
   ]
  },
  {
   "cell_type": "code",
   "execution_count": 169,
   "metadata": {
    "ExecuteTime": {
     "end_time": "2018-09-22T21:26:34.862019Z",
     "start_time": "2018-09-22T21:26:34.856497Z"
    }
   },
   "outputs": [
    {
     "ename": "SyntaxError",
     "evalue": "invalid syntax (<ipython-input-169-40896abc50c0>, line 1)",
     "output_type": "error",
     "traceback": [
      "\u001b[1;36m  File \u001b[1;32m\"<ipython-input-169-40896abc50c0>\"\u001b[1;36m, line \u001b[1;32m1\u001b[0m\n\u001b[1;33m    arr =\u001b[0m\n\u001b[1;37m         ^\u001b[0m\n\u001b[1;31mSyntaxError\u001b[0m\u001b[1;31m:\u001b[0m invalid syntax\n"
     ]
    }
   ],
   "source": []
  },
  {
   "cell_type": "code",
   "execution_count": null,
   "metadata": {},
   "outputs": [],
   "source": []
  }
 ],
 "metadata": {
  "kernelspec": {
   "display_name": "Python 3",
   "language": "python",
   "name": "python3"
  },
  "language_info": {
   "codemirror_mode": {
    "name": "ipython",
    "version": 3
   },
   "file_extension": ".py",
   "mimetype": "text/x-python",
   "name": "python",
   "nbconvert_exporter": "python",
   "pygments_lexer": "ipython3",
   "version": "3.6.6"
  },
  "latex_envs": {
   "LaTeX_envs_menu_present": true,
   "autoclose": false,
   "autocomplete": true,
   "bibliofile": "biblio.bib",
   "cite_by": "apalike",
   "current_citInitial": 1,
   "eqLabelWithNumbers": true,
   "eqNumInitial": 1,
   "hotkeys": {
    "equation": "Ctrl-E",
    "itemize": "Ctrl-I"
   },
   "labels_anchors": false,
   "latex_user_defs": false,
   "report_style_numbering": false,
   "user_envs_cfg": false
  },
  "toc": {
   "base_numbering": 1,
   "nav_menu": {},
   "number_sections": true,
   "sideBar": true,
   "skip_h1_title": false,
   "title_cell": "Table of Contents",
   "title_sidebar": "Contents",
   "toc_cell": true,
   "toc_position": {},
   "toc_section_display": true,
   "toc_window_display": true
  },
  "varInspector": {
   "cols": {
    "lenName": 16,
    "lenType": 16,
    "lenVar": 40
   },
   "kernels_config": {
    "python": {
     "delete_cmd_postfix": "",
     "delete_cmd_prefix": "del ",
     "library": "var_list.py",
     "varRefreshCmd": "print(var_dic_list())"
    },
    "r": {
     "delete_cmd_postfix": ") ",
     "delete_cmd_prefix": "rm(",
     "library": "var_list.r",
     "varRefreshCmd": "cat(var_dic_list()) "
    }
   },
   "types_to_exclude": [
    "module",
    "function",
    "builtin_function_or_method",
    "instance",
    "_Feature"
   ],
   "window_display": false
  }
 },
 "nbformat": 4,
 "nbformat_minor": 2
}
