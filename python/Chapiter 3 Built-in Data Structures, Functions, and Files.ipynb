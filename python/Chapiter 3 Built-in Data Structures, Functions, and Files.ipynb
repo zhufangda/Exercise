{
 "cells": [
  {
   "cell_type": "markdown",
   "metadata": {},
   "source": [
    "# Data Structures and Sequences\n",
    "## Tuple"
   ]
  },
  {
   "cell_type": "code",
   "execution_count": 1,
   "metadata": {
    "ExecuteTime": {
     "end_time": "2018-09-20T13:56:13.069361Z",
     "start_time": "2018-09-20T13:56:13.066369Z"
    }
   },
   "outputs": [],
   "source": [
    "tup = 4, 5, 6"
   ]
  },
  {
   "cell_type": "code",
   "execution_count": 2,
   "metadata": {
    "ExecuteTime": {
     "end_time": "2018-09-20T13:56:14.167682Z",
     "start_time": "2018-09-20T13:56:14.164656Z"
    }
   },
   "outputs": [],
   "source": [
    "nested_tup = (4, 5, 6), 7, 8"
   ]
  },
  {
   "cell_type": "code",
   "execution_count": 3,
   "metadata": {
    "ExecuteTime": {
     "end_time": "2018-09-20T13:56:14.527857Z",
     "start_time": "2018-09-20T13:56:14.516890Z"
    }
   },
   "outputs": [
    {
     "data": {
      "text/plain": [
       "('s', 't', 'r', 'i', 'n', 'g', 's')"
      ]
     },
     "execution_count": 3,
     "metadata": {},
     "output_type": "execute_result"
    }
   ],
   "source": [
    "tuple([4, 0, 2])\n",
    "tuple(\"strings\")"
   ]
  },
  {
   "cell_type": "code",
   "execution_count": 4,
   "metadata": {
    "ExecuteTime": {
     "end_time": "2018-09-20T13:56:14.791428Z",
     "start_time": "2018-09-20T13:56:14.787439Z"
    }
   },
   "outputs": [
    {
     "name": "stdout",
     "output_type": "stream",
     "text": [
      "a:4 b:5 c:6\n"
     ]
    }
   ],
   "source": [
    "tup = (4, 5, 6)\n",
    "a, b, c = tup\n",
    "print(\"a:{} b:{} c:{}\".format(a, b, c))"
   ]
  },
  {
   "cell_type": "code",
   "execution_count": 5,
   "metadata": {
    "ExecuteTime": {
     "end_time": "2018-09-20T13:56:15.072782Z",
     "start_time": "2018-09-20T13:56:15.067796Z"
    }
   },
   "outputs": [
    {
     "name": "stdout",
     "output_type": "stream",
     "text": [
      "a=1, b=2, c=3\n",
      "a=4, b=5, c=6\n",
      "a=6, b=7, c=8\n"
     ]
    }
   ],
   "source": [
    "seq = [(1, 2, 3), (4, 5, 6), (6, 7, 8)]\n",
    "for a, b, c in seq:\n",
    "    print('a={}, b={}, c={}'.format(a, b, c))"
   ]
  },
  {
   "cell_type": "code",
   "execution_count": 6,
   "metadata": {
    "ExecuteTime": {
     "end_time": "2018-09-20T13:56:15.321314Z",
     "start_time": "2018-09-20T13:56:15.316303Z"
    }
   },
   "outputs": [
    {
     "name": "stdout",
     "output_type": "stream",
     "text": [
      "rest = [3, 4, 5] a = 1 b = 2\n"
     ]
    }
   ],
   "source": [
    "values = 1, 2, 3, 4, 5\n",
    "a, b, *rest = values\n",
    "print((\"rest = {} a = {} b = {}\".format(rest, a, b)))"
   ]
  },
  {
   "cell_type": "code",
   "execution_count": 7,
   "metadata": {
    "ExecuteTime": {
     "end_time": "2018-09-20T13:56:15.576247Z",
     "start_time": "2018-09-20T13:56:15.571259Z"
    }
   },
   "outputs": [
    {
     "data": {
      "text/plain": [
       "1"
      ]
     },
     "execution_count": 7,
     "metadata": {},
     "output_type": "execute_result"
    }
   ],
   "source": [
    "rest.count(3)"
   ]
  },
  {
   "cell_type": "markdown",
   "metadata": {},
   "source": [
    "## List"
   ]
  },
  {
   "cell_type": "code",
   "execution_count": 8,
   "metadata": {
    "ExecuteTime": {
     "end_time": "2018-09-20T13:56:16.070863Z",
     "start_time": "2018-09-20T13:56:16.065852Z"
    }
   },
   "outputs": [
    {
     "data": {
      "text/plain": [
       "['foo', 'bar', 'baz']"
      ]
     },
     "execution_count": 8,
     "metadata": {},
     "output_type": "execute_result"
    }
   ],
   "source": [
    "a_list = [2, 3, 7, None]\n",
    "tup = ('foo', 'bar', 'baz')\n",
    "b_list = list(tup)\n",
    "b_list"
   ]
  },
  {
   "cell_type": "code",
   "execution_count": 9,
   "metadata": {
    "ExecuteTime": {
     "end_time": "2018-09-20T13:56:16.402992Z",
     "start_time": "2018-09-20T13:56:16.399005Z"
    }
   },
   "outputs": [],
   "source": [
    "b_list[1] = \"peekaboo\""
   ]
  },
  {
   "cell_type": "code",
   "execution_count": 10,
   "metadata": {
    "ExecuteTime": {
     "end_time": "2018-09-20T13:56:16.650361Z",
     "start_time": "2018-09-20T13:56:16.645376Z"
    }
   },
   "outputs": [
    {
     "data": {
      "text/plain": [
       "[0, 1, 2, 3, 4, 5, 6, 7, 8, 9]"
      ]
     },
     "execution_count": 10,
     "metadata": {},
     "output_type": "execute_result"
    }
   ],
   "source": [
    "gen = range(10)\n",
    "list(gen)"
   ]
  },
  {
   "cell_type": "code",
   "execution_count": null,
   "metadata": {
    "ExecuteTime": {
     "end_time": "2018-09-20T13:59:16.401031Z",
     "start_time": "2018-09-20T13:56:17.142Z"
    }
   },
   "outputs": [],
   "source": [
    "list1 = list(range(20))\n",
    "list2 =list(range(50))\n",
    "%timeit list1.extend(list2)\n",
    "%timeit list1 + list2"
   ]
  },
  {
   "cell_type": "code",
   "execution_count": null,
   "metadata": {
    "ExecuteTime": {
     "end_time": "2018-09-20T13:59:16.404958Z",
     "start_time": "2018-09-20T13:56:17.461Z"
    }
   },
   "outputs": [],
   "source": [
    "a = [7, 2, 6, 1, 3]\n",
    "a.sort()\n",
    "a"
   ]
  },
  {
   "cell_type": "code",
   "execution_count": 12,
   "metadata": {
    "ExecuteTime": {
     "end_time": "2018-09-20T13:59:22.460448Z",
     "start_time": "2018-09-20T13:59:22.454445Z"
    }
   },
   "outputs": [
    {
     "data": {
      "text/plain": [
       "['He', 'saw', 'six', 'small', 'foxed']"
      ]
     },
     "execution_count": 12,
     "metadata": {},
     "output_type": "execute_result"
    }
   ],
   "source": [
    "b = ['saw', 'small', 'He', 'foxed', 'six']\n",
    "b.sort(key=len)\n",
    "b"
   ]
  },
  {
   "cell_type": "code",
   "execution_count": 17,
   "metadata": {
    "ExecuteTime": {
     "end_time": "2018-09-20T14:03:45.137289Z",
     "start_time": "2018-09-20T14:03:45.133300Z"
    }
   },
   "outputs": [],
   "source": [
    "import bisect"
   ]
  },
  {
   "cell_type": "code",
   "execution_count": 19,
   "metadata": {
    "ExecuteTime": {
     "end_time": "2018-09-20T14:04:18.175320Z",
     "start_time": "2018-09-20T14:04:18.171323Z"
    }
   },
   "outputs": [],
   "source": [
    "c = [1, 2, 2, 2 ,3 ,4 ,7]\n",
    "bisect.bisect(c, 2)\n",
    "bisect.insort(c,2)"
   ]
  },
  {
   "cell_type": "markdown",
   "metadata": {
    "ExecuteTime": {
     "end_time": "2018-09-20T14:04:20.258908Z",
     "start_time": "2018-09-20T14:04:20.252919Z"
    }
   },
   "source": [
    "## Slicing"
   ]
  },
  {
   "cell_type": "code",
   "execution_count": 24,
   "metadata": {
    "ExecuteTime": {
     "end_time": "2018-09-20T14:07:01.879512Z",
     "start_time": "2018-09-20T14:07:01.876527Z"
    }
   },
   "outputs": [],
   "source": [
    "seq = [7, 2, 3, 5, 6, 0, 1]\n",
    "seq[1:5] = [26,12,5]"
   ]
  },
  {
   "cell_type": "code",
   "execution_count": 36,
   "metadata": {
    "ExecuteTime": {
     "end_time": "2018-09-20T14:15:01.433889Z",
     "start_time": "2018-09-20T14:15:01.428901Z"
    }
   },
   "outputs": [
    {
     "data": {
      "text/plain": [
       "['o', '!']"
      ]
     },
     "execution_count": 36,
     "metadata": {},
     "output_type": "execute_result"
    }
   ],
   "source": [
    "seq = list(\"Hello!\")\n",
    "seq[-2:]"
   ]
  },
  {
   "cell_type": "markdown",
   "metadata": {},
   "source": [
    "## Build-in Sequence Functions\n",
    "### enumerate"
   ]
  },
  {
   "cell_type": "code",
   "execution_count": 53,
   "metadata": {
    "ExecuteTime": {
     "end_time": "2018-09-20T14:26:17.738272Z",
     "start_time": "2018-09-20T14:26:15.759532Z"
    }
   },
   "outputs": [
    {
     "name": "stdout",
     "output_type": "stream",
     "text": [
      " "
     ]
    }
   ],
   "source": [
    "%%prun\n",
    "i = 0\n",
    "sum = 0\n",
    "for value in range(10000000):\n",
    "    sum = sum + value\n",
    "    i = i+1"
   ]
  },
  {
   "cell_type": "code",
   "execution_count": 54,
   "metadata": {
    "ExecuteTime": {
     "end_time": "2018-09-20T14:26:19.572913Z",
     "start_time": "2018-09-20T14:26:17.873910Z"
    }
   },
   "outputs": [
    {
     "name": "stdout",
     "output_type": "stream",
     "text": [
      " "
     ]
    }
   ],
   "source": [
    "%%prun\n",
    "sum = 0\n",
    "for index,value in enumerate(range(10000000)):\n",
    "    sum = sum + value"
   ]
  },
  {
   "cell_type": "code",
   "execution_count": 57,
   "metadata": {
    "ExecuteTime": {
     "end_time": "2018-09-20T14:32:40.523464Z",
     "start_time": "2018-09-20T14:32:40.517480Z"
    }
   },
   "outputs": [
    {
     "data": {
      "text/plain": [
       "{'foo': 0, 'bar': 1, 'baz': 2}"
      ]
     },
     "execution_count": 57,
     "metadata": {},
     "output_type": "execute_result"
    }
   ],
   "source": [
    "some_list = ['foo', 'bar', 'baz']\n",
    "mapping = {}\n",
    "for i,v in enumerate(some_list):\n",
    "    mapping[v] = i\n",
    "mapping"
   ]
  },
  {
   "cell_type": "code",
   "execution_count": 58,
   "metadata": {
    "ExecuteTime": {
     "end_time": "2018-09-20T14:33:47.434987Z",
     "start_time": "2018-09-20T14:33:47.429977Z"
    }
   },
   "outputs": [
    {
     "data": {
      "text/plain": [
       "[0, 1, 2, 2, 3, 6, 7]"
      ]
     },
     "execution_count": 58,
     "metadata": {},
     "output_type": "execute_result"
    }
   ],
   "source": [
    "sorted([7, 1, 2, 6, 0, 3, 2])"
   ]
  },
  {
   "cell_type": "code",
   "execution_count": 63,
   "metadata": {
    "ExecuteTime": {
     "end_time": "2018-09-20T14:35:36.028012Z",
     "start_time": "2018-09-20T14:35:36.022028Z"
    }
   },
   "outputs": [
    {
     "data": {
      "text/plain": [
       "[('foo', 'one'), ('bar', 'two'), ('baz', 'three')]"
      ]
     },
     "execution_count": 63,
     "metadata": {},
     "output_type": "execute_result"
    }
   ],
   "source": [
    "seq1 = ['foo', 'bar', 'baz']\n",
    "seq2 = ['one', 'two', 'three']\n",
    "zipped = zip(seq1, seq2)\n",
    "list(zipped)"
   ]
  },
  {
   "cell_type": "code",
   "execution_count": 64,
   "metadata": {
    "ExecuteTime": {
     "end_time": "2018-09-20T14:36:51.019442Z",
     "start_time": "2018-09-20T14:36:51.013428Z"
    }
   },
   "outputs": [
    {
     "data": {
      "text/plain": [
       "[('foo', 'one', True), ('bar', 'two', False)]"
      ]
     },
     "execution_count": 64,
     "metadata": {},
     "output_type": "execute_result"
    }
   ],
   "source": [
    "seq3 = [True, False]\n",
    "list(zip(seq1,seq2, seq3))"
   ]
  },
  {
   "cell_type": "code",
   "execution_count": 66,
   "metadata": {
    "ExecuteTime": {
     "end_time": "2018-09-20T14:38:05.324742Z",
     "start_time": "2018-09-20T14:38:05.320729Z"
    }
   },
   "outputs": [
    {
     "name": "stdout",
     "output_type": "stream",
     "text": [
      "0 : foo one\n",
      "1 : bar two\n",
      "2 : baz three\n"
     ]
    }
   ],
   "source": [
    "for i, (a, b) in enumerate(zip(seq1, seq2)):\n",
    "    print('{} : {} {}'.format(i, a, b))"
   ]
  },
  {
   "cell_type": "code",
   "execution_count": 76,
   "metadata": {
    "ExecuteTime": {
     "end_time": "2018-09-20T14:42:06.348397Z",
     "start_time": "2018-09-20T14:42:06.342404Z"
    }
   },
   "outputs": [
    {
     "data": {
      "text/plain": [
       "('Ryan', 'Clements', 'Curt')"
      ]
     },
     "execution_count": 76,
     "metadata": {},
     "output_type": "execute_result"
    }
   ],
   "source": [
    "pitchers = [('Nolan', 'Ryan'), ('Roger', 'Clements'), ('Schilling', 'Curt')]\n",
    "first_name, last_name = list(zip(*pitchers))"
   ]
  },
  {
   "cell_type": "markdown",
   "metadata": {},
   "source": [
    "## Dict"
   ]
  },
  {
   "cell_type": "code",
   "execution_count": 86,
   "metadata": {
    "ExecuteTime": {
     "end_time": "2018-09-20T14:57:15.803924Z",
     "start_time": "2018-09-20T14:57:15.799934Z"
    }
   },
   "outputs": [],
   "source": [
    "empty_dict = {}\n",
    "d1 = {'a' : 'some value', 'b' : [1, 2, 3, 4]}\n",
    "d1['b'] = [1, 2, 3, 4]\n",
    "d1[7] = 'an integer'\n",
    "d1[5] = 'some value'\n",
    "d1['dummy'] = 'another value'"
   ]
  },
  {
   "cell_type": "code",
   "execution_count": 89,
   "metadata": {
    "ExecuteTime": {
     "end_time": "2018-09-20T14:57:41.788374Z",
     "start_time": "2018-09-20T14:57:41.785383Z"
    }
   },
   "outputs": [],
   "source": [
    "del d1[5]"
   ]
  },
  {
   "cell_type": "code",
   "execution_count": 90,
   "metadata": {
    "ExecuteTime": {
     "end_time": "2018-09-20T14:57:46.277819Z",
     "start_time": "2018-09-20T14:57:46.271836Z"
    }
   },
   "outputs": [
    {
     "data": {
      "text/plain": [
       "{'a': 'some value',\n",
       " 'b': [1, 2, 3, 4],\n",
       " 7: 'an integer',\n",
       " 'dummy': 'another value'}"
      ]
     },
     "execution_count": 90,
     "metadata": {},
     "output_type": "execute_result"
    }
   ],
   "source": [
    "d1"
   ]
  },
  {
   "cell_type": "code",
   "execution_count": 93,
   "metadata": {
    "ExecuteTime": {
     "end_time": "2018-09-20T15:00:45.155320Z",
     "start_time": "2018-09-20T15:00:45.152321Z"
    }
   },
   "outputs": [],
   "source": [
    "list(d1.keys())\n",
    "\n",
    "d1.update({'b':'foo', 'c':12})"
   ]
  },
  {
   "cell_type": "code",
   "execution_count": 94,
   "metadata": {
    "ExecuteTime": {
     "end_time": "2018-09-20T20:17:04.740737Z",
     "start_time": "2018-09-20T20:17:04.735751Z"
    }
   },
   "outputs": [],
   "source": [
    "mapping = dict(zip(range(4), reversed(range(46))))"
   ]
  },
  {
   "cell_type": "code",
   "execution_count": 95,
   "metadata": {
    "ExecuteTime": {
     "end_time": "2018-09-20T20:17:11.406006Z",
     "start_time": "2018-09-20T20:17:11.401038Z"
    }
   },
   "outputs": [
    {
     "data": {
      "text/plain": [
       "{0: 45, 1: 44, 2: 43, 3: 42}"
      ]
     },
     "execution_count": 95,
     "metadata": {},
     "output_type": "execute_result"
    }
   ],
   "source": [
    "mapping"
   ]
  },
  {
   "cell_type": "markdown",
   "metadata": {
    "ExecuteTime": {
     "end_time": "2018-09-20T20:18:54.990392Z",
     "start_time": "2018-09-20T20:18:54.976429Z"
    }
   },
   "source": [
    "### Default values"
   ]
  },
  {
   "cell_type": "code",
   "execution_count": 121,
   "metadata": {
    "ExecuteTime": {
     "end_time": "2018-09-20T20:32:32.649574Z",
     "start_time": "2018-09-20T20:32:32.640594Z"
    }
   },
   "outputs": [],
   "source": [
    "a = \"\"\"The first edition of this book was published in 2012, during a time when open source\n",
    "data analysis libraries for Python (such as pandas) were very new and developing rap‐\n",
    "idly. In this updated and expanded second edition, I have overhauled the chapters to\n",
    "account both for incompatible changes and deprecations as well as new features that\n",
    "have occurred in the last five years. I’ve also added fresh content to introduce tools\n",
    "that either did not exist in 2012 or had not matured enough to make the first cut.\n",
    "Finally, I have tried to avoid writing about new or cutting-edge open source projects\n",
    "that may not have had a chance to mature. I would like readers of this edition to find\n",
    "that the content is still almost as relevant in 2020 or 2021 as it is in 2017.\n",
    "The major updates in this second edition include:\n",
    "• All code, including the Python tutorial, updated for Python 3.6 (the first edition\n",
    "used Python 2.7)\n",
    "• Updated Python installation instructions for the Anaconda Python Distribution\n",
    "and other needed Python packages\n",
    "• Updates for the latest versions of the pandas library in 2017\n",
    "• A new chapter on some more advanced pandas tools, and some other usage tips\n",
    "• A brief introduction to using statsmodels and scikit-learn\n",
    "I also reorganized a significant portion of the content from the first edition to make\n",
    "the book more accessible to newcomers.\n",
    "xiConventions Used in This Book\n",
    "The following typographical conventions are used in this book:\n",
    "Italic\n",
    "Indicates new terms, URLs, email addresses, filenames, and file extensions.\n",
    "Constant width\n",
    "Used for program listings, as well as within paragraphs to refer to program ele‐\n",
    "ments such as variable or function names, databases, data types, environment\n",
    "variables, statements, and keywords.\n",
    "Constant width bold\n",
    "Shows commands or other text that should be typed literally by the user.\n",
    "Constant width italic\n",
    "Shows text that should be replaced with user-supplied values or by values deter‐\n",
    "mined by\"\"\"\n",
    "words = a.replace(\"\\n\", \" \").split(\" \")\n",
    "words = words + words + words + words + words + words + words + words + words"
   ]
  },
  {
   "cell_type": "code",
   "execution_count": 125,
   "metadata": {
    "ExecuteTime": {
     "end_time": "2018-09-20T20:32:51.381689Z",
     "start_time": "2018-09-20T20:32:51.375680Z"
    }
   },
   "outputs": [
    {
     "name": "stdout",
     "output_type": "stream",
     "text": [
      " "
     ]
    }
   ],
   "source": [
    "%%prun\n",
    "by_letter = {}\n",
    "\n",
    "for word in words:\n",
    "    by_letter.setdefault(word[0], []).append(word)"
   ]
  },
  {
   "cell_type": "code",
   "execution_count": 123,
   "metadata": {
    "ExecuteTime": {
     "end_time": "2018-09-20T20:32:33.580274Z",
     "start_time": "2018-09-20T20:32:33.576286Z"
    }
   },
   "outputs": [],
   "source": [
    "from collections import defaultdict"
   ]
  },
  {
   "cell_type": "code",
   "execution_count": 126,
   "metadata": {
    "ExecuteTime": {
     "end_time": "2018-09-20T20:32:55.029415Z",
     "start_time": "2018-09-20T20:32:55.023432Z"
    }
   },
   "outputs": [
    {
     "name": "stdout",
     "output_type": "stream",
     "text": [
      " "
     ]
    }
   ],
   "source": [
    "%%prun\n",
    "by_letter = defaultdict(list)\n",
    "\n",
    "for word in words:\n",
    "    by_letter[word[0]].append(word)\n"
   ]
  },
  {
   "cell_type": "markdown",
   "metadata": {},
   "source": [
    "### Valide dict key types"
   ]
  },
  {
   "cell_type": "code",
   "execution_count": 131,
   "metadata": {
    "ExecuteTime": {
     "end_time": "2018-09-20T20:35:45.717283Z",
     "start_time": "2018-09-20T20:35:45.713253Z"
    }
   },
   "outputs": [
    {
     "name": "stdout",
     "output_type": "stream",
     "text": [
      "-3744888371751534129\n",
      "35212948888493069\n"
     ]
    }
   ],
   "source": [
    "print(hash(\"I like you\"))\n",
    "print(hash(('I' ,'like', 'you')))"
   ]
  },
  {
   "cell_type": "markdown",
   "metadata": {},
   "source": [
    "## Set"
   ]
  },
  {
   "cell_type": "code",
   "execution_count": 132,
   "metadata": {
    "ExecuteTime": {
     "end_time": "2018-09-20T20:37:15.528527Z",
     "start_time": "2018-09-20T20:37:15.522545Z"
    }
   },
   "outputs": [
    {
     "data": {
      "text/plain": [
       "{2, 3, 4, 5, 8, 9}"
      ]
     },
     "execution_count": 132,
     "metadata": {},
     "output_type": "execute_result"
    }
   ],
   "source": [
    "set([2,2,3,3,5,8,4,9])"
   ]
  },
  {
   "cell_type": "code",
   "execution_count": 133,
   "metadata": {
    "ExecuteTime": {
     "end_time": "2018-09-20T20:37:31.655509Z",
     "start_time": "2018-09-20T20:37:31.651509Z"
    }
   },
   "outputs": [
    {
     "data": {
      "text/plain": [
       "{1, 2, 5, 6, 8, 9}"
      ]
     },
     "execution_count": 133,
     "metadata": {},
     "output_type": "execute_result"
    }
   ],
   "source": [
    "{1, 2, 5, 8,9,6,5,2,5}"
   ]
  },
  {
   "cell_type": "code",
   "execution_count": 141,
   "metadata": {
    "ExecuteTime": {
     "end_time": "2018-09-20T20:42:57.207246Z",
     "start_time": "2018-09-20T20:42:57.202266Z"
    }
   },
   "outputs": [
    {
     "name": "stdout",
     "output_type": "stream",
     "text": [
      "a | b:{1, 2, 3, 4, 5, 6, 7} a & b :{3, 4, 5}\n"
     ]
    }
   ],
   "source": [
    "a = {1, 2, 3, 4, 5}\n",
    "b = {3, 4, 5, 6, 7}\n",
    "print(\"a | b:{} a & b :{}\".format(a|b, a&b))"
   ]
  },
  {
   "cell_type": "code",
   "execution_count": 142,
   "metadata": {
    "ExecuteTime": {
     "end_time": "2018-09-20T20:42:57.670007Z",
     "start_time": "2018-09-20T20:42:57.666019Z"
    }
   },
   "outputs": [
    {
     "name": "stdout",
     "output_type": "stream",
     "text": [
      "{1, 2, 3, 4, 5} {1, 2, 3, 4}\n"
     ]
    }
   ],
   "source": [
    "c = a.copy()\n",
    "c.remove(5)\n",
    "print(a,c)"
   ]
  },
  {
   "cell_type": "markdown",
   "metadata": {},
   "source": [
    "## List, Set and Dict Comprehensions"
   ]
  },
  {
   "cell_type": "code",
   "execution_count": 143,
   "metadata": {
    "ExecuteTime": {
     "end_time": "2018-09-20T20:45:32.375941Z",
     "start_time": "2018-09-20T20:45:32.369959Z"
    }
   },
   "outputs": [
    {
     "data": {
      "text/plain": [
       "['BAT', 'CAR', 'DOVE', 'PYTHON']"
      ]
     },
     "execution_count": 143,
     "metadata": {},
     "output_type": "execute_result"
    }
   ],
   "source": [
    "strings = ['a', 'as', 'bat', 'car' ,'dove', 'python']\n",
    "[x.upper() for x in strings if len(x) >2]"
   ]
  },
  {
   "cell_type": "code",
   "execution_count": 146,
   "metadata": {
    "ExecuteTime": {
     "end_time": "2018-09-20T20:48:13.041270Z",
     "start_time": "2018-09-20T20:48:01.882400Z"
    }
   },
   "outputs": [
    {
     "name": "stdout",
     "output_type": "stream",
     "text": [
      "732 ns ± 4.31 ns per loop (mean ± std. dev. of 7 runs, 1000000 loops each)\n",
      "643 ns ± 6.56 ns per loop (mean ± std. dev. of 7 runs, 1000000 loops each)\n"
     ]
    }
   ],
   "source": [
    "%timeit unique_length = {len(x) for x in strings}\n",
    "%timeit set(map(len, strings))"
   ]
  },
  {
   "cell_type": "code",
   "execution_count": 148,
   "metadata": {
    "ExecuteTime": {
     "end_time": "2018-09-20T20:49:50.199275Z",
     "start_time": "2018-09-20T20:49:50.194302Z"
    }
   },
   "outputs": [
    {
     "data": {
      "text/plain": [
       "{'a': 0, 'as': 1, 'bat': 2, 'car': 3, 'dove': 4, 'python': 5}"
      ]
     },
     "execution_count": 148,
     "metadata": {},
     "output_type": "execute_result"
    }
   ],
   "source": [
    "loc_mapping = {val:index for index,val in enumerate(strings)}\n",
    "loc_mapping"
   ]
  },
  {
   "cell_type": "code",
   "execution_count": 153,
   "metadata": {
    "ExecuteTime": {
     "end_time": "2018-09-20T20:57:25.762214Z",
     "start_time": "2018-09-20T20:57:25.754234Z"
    }
   },
   "outputs": [
    {
     "data": {
      "text/plain": [
       "['Maria', 'Natalia']"
      ]
     },
     "execution_count": 153,
     "metadata": {},
     "output_type": "execute_result"
    }
   ],
   "source": [
    "all_data = [['John', 'Emily', 'Michael', 'Mary', 'Steven'],\n",
    "            ['Maria', 'Juan', 'Javier', 'Natalia', 'Pilar']]"
   ]
  },
  {
   "cell_type": "code",
   "execution_count": 155,
   "metadata": {
    "ExecuteTime": {
     "end_time": "2018-09-20T20:57:52.385673Z",
     "start_time": "2018-09-20T20:57:52.380687Z"
    }
   },
   "outputs": [
    {
     "name": "stdout",
     "output_type": "stream",
     "text": [
      " "
     ]
    }
   ],
   "source": [
    "%%prun\n",
    "names_of_interest = []\n",
    "for names in all_data:\n",
    "    enough_es = [name for name in names if name.count('a') >= 2]\n",
    "    names_of_interest.extend(enough_es)\n",
    "names_of_interest"
   ]
  },
  {
   "cell_type": "code",
   "execution_count": 159,
   "metadata": {
    "ExecuteTime": {
     "end_time": "2018-09-20T20:59:10.351457Z",
     "start_time": "2018-09-20T20:59:10.347428Z"
    }
   },
   "outputs": [
    {
     "data": {
      "text/plain": [
       "['Steven']"
      ]
     },
     "execution_count": 159,
     "metadata": {},
     "output_type": "execute_result"
    }
   ],
   "source": [
    "result = [name for names in all_data for name in names if name.count('e') >=2]\n",
    "result"
   ]
  },
  {
   "cell_type": "code",
   "execution_count": 163,
   "metadata": {
    "ExecuteTime": {
     "end_time": "2018-09-20T21:03:15.760070Z",
     "start_time": "2018-09-20T21:03:15.755077Z"
    }
   },
   "outputs": [
    {
     "data": {
      "text/plain": [
       "[[1, 2, 3], [4, 5, 6], [7, 8, 9]]"
      ]
     },
     "execution_count": 163,
     "metadata": {},
     "output_type": "execute_result"
    }
   ],
   "source": [
    "some_tuples = [(1,2,3), (4,5,6), (7,8,9)]\n",
    "res = [[x for x in tup] for tup in some_tuples]\n",
    "res"
   ]
  },
  {
   "cell_type": "markdown",
   "metadata": {},
   "source": [
    "# Function"
   ]
  },
  {
   "cell_type": "code",
   "execution_count": 164,
   "metadata": {
    "ExecuteTime": {
     "end_time": "2018-09-20T21:06:44.928253Z",
     "start_time": "2018-09-20T21:06:44.923266Z"
    }
   },
   "outputs": [],
   "source": [
    "def my_function(x, y, z = 1.5):\n",
    "    if z > 1:\n",
    "        return z* (x + y)\n",
    "    else:\n",
    "        return z / (x+y)"
   ]
  },
  {
   "cell_type": "markdown",
   "metadata": {},
   "source": [
    "## Namespaces, Scope, and Local Functions"
   ]
  },
  {
   "cell_type": "code",
   "execution_count": 4,
   "metadata": {
    "ExecuteTime": {
     "end_time": "2018-09-21T14:28:24.503965Z",
     "start_time": "2018-09-21T14:28:24.500940Z"
    }
   },
   "outputs": [],
   "source": [
    "def func():\n",
    "    global a\n",
    "    a= []\n",
    "    for i in range(5):\n",
    "        a.append(i)"
   ]
  },
  {
   "cell_type": "code",
   "execution_count": 7,
   "metadata": {
    "ExecuteTime": {
     "end_time": "2018-09-21T14:28:32.553054Z",
     "start_time": "2018-09-21T14:28:32.543082Z"
    }
   },
   "outputs": [
    {
     "data": {
      "text/plain": [
       "[0, 1, 2, 3, 4]"
      ]
     },
     "execution_count": 7,
     "metadata": {},
     "output_type": "execute_result"
    }
   ],
   "source": [
    "func()\n",
    "a"
   ]
  },
  {
   "cell_type": "markdown",
   "metadata": {},
   "source": [
    "## Returning Multiple Values"
   ]
  },
  {
   "cell_type": "code",
   "execution_count": 12,
   "metadata": {
    "ExecuteTime": {
     "end_time": "2018-09-21T14:30:38.642580Z",
     "start_time": "2018-09-21T14:30:38.637584Z"
    }
   },
   "outputs": [
    {
     "name": "stdout",
     "output_type": "stream",
     "text": [
      "5 6 7\n"
     ]
    }
   ],
   "source": [
    "def f():\n",
    "    a = 5\n",
    "    b = 6\n",
    "    c = 7\n",
    "    return a, b, c\n",
    "a, b, c = f()\n",
    "print(a, b, c)"
   ]
  },
  {
   "cell_type": "markdown",
   "metadata": {},
   "source": [
    "## Functions Are Objects"
   ]
  },
  {
   "cell_type": "code",
   "execution_count": 13,
   "metadata": {
    "ExecuteTime": {
     "end_time": "2018-09-21T14:32:55.273945Z",
     "start_time": "2018-09-21T14:32:55.269954Z"
    }
   },
   "outputs": [],
   "source": [
    "states = [' Alabama ', 'Georgia!', 'Georgia', 'georgia', 'FlOrIda', 'south carolina##', 'West virginia?']"
   ]
  },
  {
   "cell_type": "code",
   "execution_count": 14,
   "metadata": {
    "ExecuteTime": {
     "end_time": "2018-09-21T14:35:17.284099Z",
     "start_time": "2018-09-21T14:35:17.278124Z"
    }
   },
   "outputs": [
    {
     "data": {
      "text/plain": [
       "['Alabama',\n",
       " 'Georgia',\n",
       " 'Georgia',\n",
       " 'Georgia',\n",
       " 'Florida',\n",
       " 'South Carolina',\n",
       " 'West Virginia']"
      ]
     },
     "execution_count": 14,
     "metadata": {},
     "output_type": "execute_result"
    }
   ],
   "source": [
    "import re\n",
    "\n",
    "def clean_strings(strings):\n",
    "    result = []\n",
    "    for value in strings:\n",
    "        value = value.strip()\n",
    "        value = re.sub('[!#?]', '', value)\n",
    "        value = value.title()\n",
    "        result.append(value)\n",
    "    return result\n",
    "clean_strings(states)"
   ]
  },
  {
   "cell_type": "code",
   "execution_count": 18,
   "metadata": {
    "ExecuteTime": {
     "end_time": "2018-09-21T14:39:08.974242Z",
     "start_time": "2018-09-21T14:39:08.968256Z"
    }
   },
   "outputs": [
    {
     "data": {
      "text/plain": [
       "['Alabama',\n",
       " 'Georgia',\n",
       " 'Georgia',\n",
       " 'Georgia',\n",
       " 'Florida',\n",
       " 'South Carolina',\n",
       " 'West Virginia']"
      ]
     },
     "execution_count": 18,
     "metadata": {},
     "output_type": "execute_result"
    }
   ],
   "source": [
    "def remove_ponctuation(value):\n",
    "    return re.sub(\"[!#?]\", '', value)\n",
    "clean_ops = [str.strip, remove_ponctuation, str.title]\n",
    "\n",
    "def clean_strings(strings, ops):\n",
    "    result = []\n",
    "    for value in strings:\n",
    "        for function in ops:\n",
    "            value = function(value)\n",
    "        result.append(value)\n",
    "    return result\n",
    "\n",
    "clean_strings(states, clean_ops)"
   ]
  },
  {
   "cell_type": "markdown",
   "metadata": {
    "ExecuteTime": {
     "end_time": "2018-09-21T14:40:08.587746Z",
     "start_time": "2018-09-21T14:40:08.583758Z"
    }
   },
   "source": [
    "## Anonymous（Lambda) Functions"
   ]
  },
  {
   "cell_type": "code",
   "execution_count": 25,
   "metadata": {
    "ExecuteTime": {
     "end_time": "2018-09-21T14:48:00.157130Z",
     "start_time": "2018-09-21T14:48:00.150140Z"
    }
   },
   "outputs": [
    {
     "data": {
      "text/plain": [
       "['aaaa', 'foo', 'abab', 'bar', 'card']"
      ]
     },
     "execution_count": 25,
     "metadata": {},
     "output_type": "execute_result"
    }
   ],
   "source": [
    "def apply_to_list(some_list, f):\n",
    "    return [f(x) for x in some_list]\n",
    "\n",
    "ints = [0, 4, 1, 5, 6]\n",
    "apply_to_list(ints, lambda x: x*2)\n",
    "\n",
    "strings = ['foo', 'card', 'bar', 'aaaa', 'abab']\n",
    "strings.sort(key=lambda x : len(set(list(x))))\n",
    "strings"
   ]
  },
  {
   "cell_type": "markdown",
   "metadata": {},
   "source": [
    "## Curing: Partial Argument Application"
   ]
  },
  {
   "cell_type": "code",
   "execution_count": 27,
   "metadata": {
    "ExecuteTime": {
     "end_time": "2018-09-21T14:49:45.899810Z",
     "start_time": "2018-09-21T14:49:45.895821Z"
    }
   },
   "outputs": [],
   "source": [
    "def add_number(x, y):\n",
    "    return x + y\n",
    "\n",
    "add_five = lambda y: add_number(5, y)"
   ]
  },
  {
   "cell_type": "code",
   "execution_count": 31,
   "metadata": {
    "ExecuteTime": {
     "end_time": "2018-09-21T14:54:28.624970Z",
     "start_time": "2018-09-21T14:54:28.621952Z"
    }
   },
   "outputs": [],
   "source": [
    "from functools import partial\n",
    "add_five = partial(add_number, 6, 5)"
   ]
  },
  {
   "cell_type": "code",
   "execution_count": 33,
   "metadata": {
    "ExecuteTime": {
     "end_time": "2018-09-21T14:54:33.284250Z",
     "start_time": "2018-09-21T14:54:33.279287Z"
    }
   },
   "outputs": [
    {
     "data": {
      "text/plain": [
       "11"
      ]
     },
     "execution_count": 33,
     "metadata": {},
     "output_type": "execute_result"
    }
   ],
   "source": [
    "add_five()"
   ]
  },
  {
   "cell_type": "markdown",
   "metadata": {
    "ExecuteTime": {
     "end_time": "2018-09-21T14:54:46.092991Z",
     "start_time": "2018-09-21T14:54:46.089002Z"
    }
   },
   "source": [
    "## Générator"
   ]
  },
  {
   "cell_type": "code",
   "execution_count": 47,
   "metadata": {
    "ExecuteTime": {
     "end_time": "2018-09-21T15:03:06.428316Z",
     "start_time": "2018-09-21T15:03:06.423328Z"
    }
   },
   "outputs": [],
   "source": [
    "def squares(n=10):\n",
    "    print('Generationg squrares from 1 to {}'.format(n**2))\n",
    "    for i in range(1, n+1):\n",
    "        print('flag', i**2)\n",
    "        yield i ** 2"
   ]
  },
  {
   "cell_type": "code",
   "execution_count": 48,
   "metadata": {
    "ExecuteTime": {
     "end_time": "2018-09-21T15:03:07.031531Z",
     "start_time": "2018-09-21T15:03:07.025547Z"
    }
   },
   "outputs": [
    {
     "data": {
      "text/plain": [
       "<generator object squares at 0x000001C3EB93F6D0>"
      ]
     },
     "execution_count": 48,
     "metadata": {},
     "output_type": "execute_result"
    }
   ],
   "source": [
    "gen = squares()\n",
    "gen"
   ]
  },
  {
   "cell_type": "code",
   "execution_count": 49,
   "metadata": {
    "ExecuteTime": {
     "end_time": "2018-09-21T15:03:07.637534Z",
     "start_time": "2018-09-21T15:03:07.632548Z"
    }
   },
   "outputs": [
    {
     "name": "stdout",
     "output_type": "stream",
     "text": [
      "Generationg squrares from 1 to 100\n",
      "flag 1\n",
      "loop 1 flag 4\n",
      "loop 4 flag 9\n",
      "loop 9 flag 16\n",
      "loop 16 flag 25\n",
      "loop 25 flag 36\n",
      "loop 36 flag 49\n",
      "loop 49 flag 64\n",
      "loop 64 flag 81\n",
      "loop 81 flag 100\n",
      "loop 100 "
     ]
    }
   ],
   "source": [
    "for x in gen:\n",
    "    print(\"loop\", x, end=\" \")"
   ]
  },
  {
   "cell_type": "markdown",
   "metadata": {},
   "source": [
    "### Generator expressions"
   ]
  },
  {
   "cell_type": "code",
   "execution_count": 50,
   "metadata": {
    "ExecuteTime": {
     "end_time": "2018-09-21T15:05:14.195357Z",
     "start_time": "2018-09-21T15:05:14.192332Z"
    }
   },
   "outputs": [],
   "source": [
    "gen = (x**2 for x in range(100))\n"
   ]
  },
  {
   "cell_type": "code",
   "execution_count": 51,
   "metadata": {
    "ExecuteTime": {
     "end_time": "2018-09-21T15:05:17.014601Z",
     "start_time": "2018-09-21T15:05:17.009650Z"
    }
   },
   "outputs": [
    {
     "data": {
      "text/plain": [
       "<generator object <genexpr> at 0x000001C3EB93F938>"
      ]
     },
     "execution_count": 51,
     "metadata": {},
     "output_type": "execute_result"
    }
   ],
   "source": [
    "gen"
   ]
  },
  {
   "cell_type": "markdown",
   "metadata": {},
   "source": [
    "### Itertools module"
   ]
  },
  {
   "cell_type": "code",
   "execution_count": 52,
   "metadata": {
    "ExecuteTime": {
     "end_time": "2018-09-21T15:10:05.869930Z",
     "start_time": "2018-09-21T15:10:05.864932Z"
    }
   },
   "outputs": [
    {
     "name": "stdout",
     "output_type": "stream",
     "text": [
      "A ['Alan', 'Adam']\n",
      "W ['Wes', 'Will']\n",
      "A ['Albert']\n",
      "S ['Steven']\n"
     ]
    }
   ],
   "source": [
    "import itertools\n",
    "first_letter = lambda x:x[0]\n",
    "names = ['Alan', 'Adam', 'Wes', 'Will', 'Albert', 'Steven']\n",
    "for letter, names in itertools.groupby(names, first_letter):\n",
    "    print(letter, list(names))"
   ]
  },
  {
   "cell_type": "code",
   "execution_count": 57,
   "metadata": {
    "ExecuteTime": {
     "end_time": "2018-09-21T15:12:33.292805Z",
     "start_time": "2018-09-21T15:12:33.287817Z"
    }
   },
   "outputs": [
    {
     "name": "stdout",
     "output_type": "stream",
     "text": [
      "4 ['Alan', 'Adam']\n",
      "3 ['Wes']\n",
      "4 ['Will']\n",
      "6 ['Albert', 'Steven']\n"
     ]
    }
   ],
   "source": [
    "names = ['Alan', 'Adam', 'Wes', 'Will', 'Albert', 'Steven']\n",
    "for length, names in itertools.groupby(names, len):\n",
    "    print(length, list(names))"
   ]
  },
  {
   "cell_type": "code",
   "execution_count": 59,
   "metadata": {
    "ExecuteTime": {
     "end_time": "2018-09-21T15:14:28.174110Z",
     "start_time": "2018-09-21T15:14:28.168126Z"
    }
   },
   "outputs": [
    {
     "name": "stdout",
     "output_type": "stream",
     "text": [
      "('Alan', 'Alan')\n",
      "('Alan', 'Adam')\n",
      "('Alan', 'Wes')\n",
      "('Alan', 'Will')\n",
      "('Alan', 'Albert')\n",
      "('Alan', 'Steven')\n",
      "('Alan', 'Adam')\n",
      "('Alan', 'Wes')\n",
      "('Alan', 'Will')\n",
      "('Alan', 'Albert')\n",
      "('Alan', 'Steven')\n",
      "('Adam', 'Wes')\n",
      "('Adam', 'Will')\n",
      "('Adam', 'Albert')\n",
      "('Adam', 'Steven')\n",
      "('Wes', 'Will')\n",
      "('Wes', 'Albert')\n",
      "('Wes', 'Steven')\n",
      "('Will', 'Albert')\n",
      "('Will', 'Steven')\n",
      "('Albert', 'Steven')\n"
     ]
    }
   ],
   "source": [
    "names = ['Alan', 'Alan','Adam', 'Wes', 'Will', 'Albert', 'Steven']\n",
    "for name in itertools.combinations(names, 2):\n",
    "    print(name)"
   ]
  },
  {
   "cell_type": "code",
   "execution_count": 61,
   "metadata": {
    "ExecuteTime": {
     "end_time": "2018-09-21T15:16:24.301057Z",
     "start_time": "2018-09-21T15:16:24.297057Z"
    }
   },
   "outputs": [
    {
     "name": "stdout",
     "output_type": "stream",
     "text": [
      "('Alan', 'Alan')\n",
      "('Alan', 'Adam')\n",
      "('Alan', 'Wes')\n",
      "('Alan', 'Will')\n",
      "('Alan', 'Albert')\n",
      "('Alan', 'Steven')\n",
      "('Alan', 'Adam')\n",
      "('Alan', 'Wes')\n",
      "('Alan', 'Will')\n",
      "('Alan', 'Albert')\n",
      "('Alan', 'Steven')\n",
      "('Adam', 'Wes')\n",
      "('Adam', 'Will')\n",
      "('Adam', 'Albert')\n",
      "('Adam', 'Steven')\n",
      "('Wes', 'Will')\n",
      "('Wes', 'Albert')\n",
      "('Wes', 'Steven')\n",
      "('Will', 'Albert')\n",
      "('Will', 'Steven')\n",
      "('Albert', 'Steven')\n"
     ]
    }
   ],
   "source": [
    "for name in itertools.combinations(names, 2):\n",
    "    print(name)"
   ]
  },
  {
   "cell_type": "code",
   "execution_count": 64,
   "metadata": {
    "ExecuteTime": {
     "end_time": "2018-09-21T15:18:44.304607Z",
     "start_time": "2018-09-21T15:18:44.296592Z"
    }
   },
   "outputs": [
    {
     "name": "stdout",
     "output_type": "stream",
     "text": [
      "('Alan', 'Adam', 'Wes')\n",
      "('Alan', 'Adam', 'Will')\n",
      "('Alan', 'Adam', 'Albert')\n",
      "('Alan', 'Adam', 'Steven')\n",
      "('Alan', 'Wes', 'Adam')\n",
      "('Alan', 'Wes', 'Will')\n",
      "('Alan', 'Wes', 'Albert')\n",
      "('Alan', 'Wes', 'Steven')\n",
      "('Alan', 'Will', 'Adam')\n",
      "('Alan', 'Will', 'Wes')\n",
      "('Alan', 'Will', 'Albert')\n",
      "('Alan', 'Will', 'Steven')\n",
      "('Alan', 'Albert', 'Adam')\n",
      "('Alan', 'Albert', 'Wes')\n",
      "('Alan', 'Albert', 'Will')\n",
      "('Alan', 'Albert', 'Steven')\n",
      "('Alan', 'Steven', 'Adam')\n",
      "('Alan', 'Steven', 'Wes')\n",
      "('Alan', 'Steven', 'Will')\n",
      "('Alan', 'Steven', 'Albert')\n",
      "('Adam', 'Alan', 'Wes')\n",
      "('Adam', 'Alan', 'Will')\n",
      "('Adam', 'Alan', 'Albert')\n",
      "('Adam', 'Alan', 'Steven')\n",
      "('Adam', 'Wes', 'Alan')\n",
      "('Adam', 'Wes', 'Will')\n",
      "('Adam', 'Wes', 'Albert')\n",
      "('Adam', 'Wes', 'Steven')\n",
      "('Adam', 'Will', 'Alan')\n",
      "('Adam', 'Will', 'Wes')\n",
      "('Adam', 'Will', 'Albert')\n",
      "('Adam', 'Will', 'Steven')\n",
      "('Adam', 'Albert', 'Alan')\n",
      "('Adam', 'Albert', 'Wes')\n",
      "('Adam', 'Albert', 'Will')\n",
      "('Adam', 'Albert', 'Steven')\n",
      "('Adam', 'Steven', 'Alan')\n",
      "('Adam', 'Steven', 'Wes')\n",
      "('Adam', 'Steven', 'Will')\n",
      "('Adam', 'Steven', 'Albert')\n",
      "('Wes', 'Alan', 'Adam')\n",
      "('Wes', 'Alan', 'Will')\n",
      "('Wes', 'Alan', 'Albert')\n",
      "('Wes', 'Alan', 'Steven')\n",
      "('Wes', 'Adam', 'Alan')\n",
      "('Wes', 'Adam', 'Will')\n",
      "('Wes', 'Adam', 'Albert')\n",
      "('Wes', 'Adam', 'Steven')\n",
      "('Wes', 'Will', 'Alan')\n",
      "('Wes', 'Will', 'Adam')\n",
      "('Wes', 'Will', 'Albert')\n",
      "('Wes', 'Will', 'Steven')\n",
      "('Wes', 'Albert', 'Alan')\n",
      "('Wes', 'Albert', 'Adam')\n",
      "('Wes', 'Albert', 'Will')\n",
      "('Wes', 'Albert', 'Steven')\n",
      "('Wes', 'Steven', 'Alan')\n",
      "('Wes', 'Steven', 'Adam')\n",
      "('Wes', 'Steven', 'Will')\n",
      "('Wes', 'Steven', 'Albert')\n",
      "('Will', 'Alan', 'Adam')\n",
      "('Will', 'Alan', 'Wes')\n",
      "('Will', 'Alan', 'Albert')\n",
      "('Will', 'Alan', 'Steven')\n",
      "('Will', 'Adam', 'Alan')\n",
      "('Will', 'Adam', 'Wes')\n",
      "('Will', 'Adam', 'Albert')\n",
      "('Will', 'Adam', 'Steven')\n",
      "('Will', 'Wes', 'Alan')\n",
      "('Will', 'Wes', 'Adam')\n",
      "('Will', 'Wes', 'Albert')\n",
      "('Will', 'Wes', 'Steven')\n",
      "('Will', 'Albert', 'Alan')\n",
      "('Will', 'Albert', 'Adam')\n",
      "('Will', 'Albert', 'Wes')\n",
      "('Will', 'Albert', 'Steven')\n",
      "('Will', 'Steven', 'Alan')\n",
      "('Will', 'Steven', 'Adam')\n",
      "('Will', 'Steven', 'Wes')\n",
      "('Will', 'Steven', 'Albert')\n",
      "('Albert', 'Alan', 'Adam')\n",
      "('Albert', 'Alan', 'Wes')\n",
      "('Albert', 'Alan', 'Will')\n",
      "('Albert', 'Alan', 'Steven')\n",
      "('Albert', 'Adam', 'Alan')\n",
      "('Albert', 'Adam', 'Wes')\n",
      "('Albert', 'Adam', 'Will')\n",
      "('Albert', 'Adam', 'Steven')\n",
      "('Albert', 'Wes', 'Alan')\n",
      "('Albert', 'Wes', 'Adam')\n",
      "('Albert', 'Wes', 'Will')\n",
      "('Albert', 'Wes', 'Steven')\n",
      "('Albert', 'Will', 'Alan')\n",
      "('Albert', 'Will', 'Adam')\n",
      "('Albert', 'Will', 'Wes')\n",
      "('Albert', 'Will', 'Steven')\n",
      "('Albert', 'Steven', 'Alan')\n",
      "('Albert', 'Steven', 'Adam')\n",
      "('Albert', 'Steven', 'Wes')\n",
      "('Albert', 'Steven', 'Will')\n",
      "('Steven', 'Alan', 'Adam')\n",
      "('Steven', 'Alan', 'Wes')\n",
      "('Steven', 'Alan', 'Will')\n",
      "('Steven', 'Alan', 'Albert')\n",
      "('Steven', 'Adam', 'Alan')\n",
      "('Steven', 'Adam', 'Wes')\n",
      "('Steven', 'Adam', 'Will')\n",
      "('Steven', 'Adam', 'Albert')\n",
      "('Steven', 'Wes', 'Alan')\n",
      "('Steven', 'Wes', 'Adam')\n",
      "('Steven', 'Wes', 'Will')\n",
      "('Steven', 'Wes', 'Albert')\n",
      "('Steven', 'Will', 'Alan')\n",
      "('Steven', 'Will', 'Adam')\n",
      "('Steven', 'Will', 'Wes')\n",
      "('Steven', 'Will', 'Albert')\n",
      "('Steven', 'Albert', 'Alan')\n",
      "('Steven', 'Albert', 'Adam')\n",
      "('Steven', 'Albert', 'Wes')\n",
      "('Steven', 'Albert', 'Will')\n"
     ]
    }
   ],
   "source": [
    "names = ['Alan','Adam', 'Wes', 'Will', 'Albert', 'Steven']\n",
    "for name in itertools.permutations(names, 3):\n",
    "    print(name)"
   ]
  },
  {
   "cell_type": "code",
   "execution_count": 68,
   "metadata": {
    "ExecuteTime": {
     "end_time": "2018-09-21T15:23:15.434994Z",
     "start_time": "2018-09-21T15:23:15.426038Z"
    }
   },
   "outputs": [
    {
     "name": "stdout",
     "output_type": "stream",
     "text": [
      "('Alan', 'Alan', 'Alan')\n",
      "('Alan', 'Alan', 'Adam')\n",
      "('Alan', 'Alan', 'Wes')\n",
      "('Alan', 'Alan', 'Will')\n",
      "('Alan', 'Alan', 'Albert')\n",
      "('Alan', 'Alan', 'Steven')\n",
      "('Alan', 'Adam', 'Alan')\n",
      "('Alan', 'Adam', 'Adam')\n",
      "('Alan', 'Adam', 'Wes')\n",
      "('Alan', 'Adam', 'Will')\n",
      "('Alan', 'Adam', 'Albert')\n",
      "('Alan', 'Adam', 'Steven')\n",
      "('Alan', 'Wes', 'Alan')\n",
      "('Alan', 'Wes', 'Adam')\n",
      "('Alan', 'Wes', 'Wes')\n",
      "('Alan', 'Wes', 'Will')\n",
      "('Alan', 'Wes', 'Albert')\n",
      "('Alan', 'Wes', 'Steven')\n",
      "('Alan', 'Will', 'Alan')\n",
      "('Alan', 'Will', 'Adam')\n",
      "('Alan', 'Will', 'Wes')\n",
      "('Alan', 'Will', 'Will')\n",
      "('Alan', 'Will', 'Albert')\n",
      "('Alan', 'Will', 'Steven')\n",
      "('Alan', 'Albert', 'Alan')\n",
      "('Alan', 'Albert', 'Adam')\n",
      "('Alan', 'Albert', 'Wes')\n",
      "('Alan', 'Albert', 'Will')\n",
      "('Alan', 'Albert', 'Albert')\n",
      "('Alan', 'Albert', 'Steven')\n",
      "('Alan', 'Steven', 'Alan')\n",
      "('Alan', 'Steven', 'Adam')\n",
      "('Alan', 'Steven', 'Wes')\n",
      "('Alan', 'Steven', 'Will')\n",
      "('Alan', 'Steven', 'Albert')\n",
      "('Alan', 'Steven', 'Steven')\n",
      "('Adam', 'Alan', 'Alan')\n",
      "('Adam', 'Alan', 'Adam')\n",
      "('Adam', 'Alan', 'Wes')\n",
      "('Adam', 'Alan', 'Will')\n",
      "('Adam', 'Alan', 'Albert')\n",
      "('Adam', 'Alan', 'Steven')\n",
      "('Adam', 'Adam', 'Alan')\n",
      "('Adam', 'Adam', 'Adam')\n",
      "('Adam', 'Adam', 'Wes')\n",
      "('Adam', 'Adam', 'Will')\n",
      "('Adam', 'Adam', 'Albert')\n",
      "('Adam', 'Adam', 'Steven')\n",
      "('Adam', 'Wes', 'Alan')\n",
      "('Adam', 'Wes', 'Adam')\n",
      "('Adam', 'Wes', 'Wes')\n",
      "('Adam', 'Wes', 'Will')\n",
      "('Adam', 'Wes', 'Albert')\n",
      "('Adam', 'Wes', 'Steven')\n",
      "('Adam', 'Will', 'Alan')\n",
      "('Adam', 'Will', 'Adam')\n",
      "('Adam', 'Will', 'Wes')\n",
      "('Adam', 'Will', 'Will')\n",
      "('Adam', 'Will', 'Albert')\n",
      "('Adam', 'Will', 'Steven')\n",
      "('Adam', 'Albert', 'Alan')\n",
      "('Adam', 'Albert', 'Adam')\n",
      "('Adam', 'Albert', 'Wes')\n",
      "('Adam', 'Albert', 'Will')\n",
      "('Adam', 'Albert', 'Albert')\n",
      "('Adam', 'Albert', 'Steven')\n",
      "('Adam', 'Steven', 'Alan')\n",
      "('Adam', 'Steven', 'Adam')\n",
      "('Adam', 'Steven', 'Wes')\n",
      "('Adam', 'Steven', 'Will')\n",
      "('Adam', 'Steven', 'Albert')\n",
      "('Adam', 'Steven', 'Steven')\n",
      "('Wes', 'Alan', 'Alan')\n",
      "('Wes', 'Alan', 'Adam')\n",
      "('Wes', 'Alan', 'Wes')\n",
      "('Wes', 'Alan', 'Will')\n",
      "('Wes', 'Alan', 'Albert')\n",
      "('Wes', 'Alan', 'Steven')\n",
      "('Wes', 'Adam', 'Alan')\n",
      "('Wes', 'Adam', 'Adam')\n",
      "('Wes', 'Adam', 'Wes')\n",
      "('Wes', 'Adam', 'Will')\n",
      "('Wes', 'Adam', 'Albert')\n",
      "('Wes', 'Adam', 'Steven')\n",
      "('Wes', 'Wes', 'Alan')\n",
      "('Wes', 'Wes', 'Adam')\n",
      "('Wes', 'Wes', 'Wes')\n",
      "('Wes', 'Wes', 'Will')\n",
      "('Wes', 'Wes', 'Albert')\n",
      "('Wes', 'Wes', 'Steven')\n",
      "('Wes', 'Will', 'Alan')\n",
      "('Wes', 'Will', 'Adam')\n",
      "('Wes', 'Will', 'Wes')\n",
      "('Wes', 'Will', 'Will')\n",
      "('Wes', 'Will', 'Albert')\n",
      "('Wes', 'Will', 'Steven')\n",
      "('Wes', 'Albert', 'Alan')\n",
      "('Wes', 'Albert', 'Adam')\n",
      "('Wes', 'Albert', 'Wes')\n",
      "('Wes', 'Albert', 'Will')\n",
      "('Wes', 'Albert', 'Albert')\n",
      "('Wes', 'Albert', 'Steven')\n",
      "('Wes', 'Steven', 'Alan')\n",
      "('Wes', 'Steven', 'Adam')\n",
      "('Wes', 'Steven', 'Wes')\n",
      "('Wes', 'Steven', 'Will')\n",
      "('Wes', 'Steven', 'Albert')\n",
      "('Wes', 'Steven', 'Steven')\n",
      "('Will', 'Alan', 'Alan')\n",
      "('Will', 'Alan', 'Adam')\n",
      "('Will', 'Alan', 'Wes')\n",
      "('Will', 'Alan', 'Will')\n",
      "('Will', 'Alan', 'Albert')\n",
      "('Will', 'Alan', 'Steven')\n",
      "('Will', 'Adam', 'Alan')\n",
      "('Will', 'Adam', 'Adam')\n",
      "('Will', 'Adam', 'Wes')\n",
      "('Will', 'Adam', 'Will')\n",
      "('Will', 'Adam', 'Albert')\n",
      "('Will', 'Adam', 'Steven')\n",
      "('Will', 'Wes', 'Alan')\n",
      "('Will', 'Wes', 'Adam')\n",
      "('Will', 'Wes', 'Wes')\n",
      "('Will', 'Wes', 'Will')\n",
      "('Will', 'Wes', 'Albert')\n",
      "('Will', 'Wes', 'Steven')\n",
      "('Will', 'Will', 'Alan')\n",
      "('Will', 'Will', 'Adam')\n",
      "('Will', 'Will', 'Wes')\n",
      "('Will', 'Will', 'Will')\n",
      "('Will', 'Will', 'Albert')\n",
      "('Will', 'Will', 'Steven')\n",
      "('Will', 'Albert', 'Alan')\n",
      "('Will', 'Albert', 'Adam')\n",
      "('Will', 'Albert', 'Wes')\n",
      "('Will', 'Albert', 'Will')\n",
      "('Will', 'Albert', 'Albert')\n",
      "('Will', 'Albert', 'Steven')\n",
      "('Will', 'Steven', 'Alan')\n",
      "('Will', 'Steven', 'Adam')\n",
      "('Will', 'Steven', 'Wes')\n",
      "('Will', 'Steven', 'Will')\n",
      "('Will', 'Steven', 'Albert')\n",
      "('Will', 'Steven', 'Steven')\n",
      "('Albert', 'Alan', 'Alan')\n",
      "('Albert', 'Alan', 'Adam')\n",
      "('Albert', 'Alan', 'Wes')\n",
      "('Albert', 'Alan', 'Will')\n",
      "('Albert', 'Alan', 'Albert')\n",
      "('Albert', 'Alan', 'Steven')\n",
      "('Albert', 'Adam', 'Alan')\n",
      "('Albert', 'Adam', 'Adam')\n",
      "('Albert', 'Adam', 'Wes')\n",
      "('Albert', 'Adam', 'Will')\n",
      "('Albert', 'Adam', 'Albert')\n",
      "('Albert', 'Adam', 'Steven')\n",
      "('Albert', 'Wes', 'Alan')\n",
      "('Albert', 'Wes', 'Adam')\n",
      "('Albert', 'Wes', 'Wes')\n",
      "('Albert', 'Wes', 'Will')\n",
      "('Albert', 'Wes', 'Albert')\n",
      "('Albert', 'Wes', 'Steven')\n",
      "('Albert', 'Will', 'Alan')\n",
      "('Albert', 'Will', 'Adam')\n",
      "('Albert', 'Will', 'Wes')\n",
      "('Albert', 'Will', 'Will')\n",
      "('Albert', 'Will', 'Albert')\n",
      "('Albert', 'Will', 'Steven')\n",
      "('Albert', 'Albert', 'Alan')\n",
      "('Albert', 'Albert', 'Adam')\n",
      "('Albert', 'Albert', 'Wes')\n",
      "('Albert', 'Albert', 'Will')\n",
      "('Albert', 'Albert', 'Albert')\n",
      "('Albert', 'Albert', 'Steven')\n",
      "('Albert', 'Steven', 'Alan')\n",
      "('Albert', 'Steven', 'Adam')\n",
      "('Albert', 'Steven', 'Wes')\n",
      "('Albert', 'Steven', 'Will')\n",
      "('Albert', 'Steven', 'Albert')\n",
      "('Albert', 'Steven', 'Steven')\n",
      "('Steven', 'Alan', 'Alan')\n",
      "('Steven', 'Alan', 'Adam')\n",
      "('Steven', 'Alan', 'Wes')\n",
      "('Steven', 'Alan', 'Will')\n",
      "('Steven', 'Alan', 'Albert')\n",
      "('Steven', 'Alan', 'Steven')\n",
      "('Steven', 'Adam', 'Alan')\n",
      "('Steven', 'Adam', 'Adam')\n",
      "('Steven', 'Adam', 'Wes')\n",
      "('Steven', 'Adam', 'Will')\n",
      "('Steven', 'Adam', 'Albert')\n",
      "('Steven', 'Adam', 'Steven')\n",
      "('Steven', 'Wes', 'Alan')\n",
      "('Steven', 'Wes', 'Adam')\n",
      "('Steven', 'Wes', 'Wes')\n",
      "('Steven', 'Wes', 'Will')\n",
      "('Steven', 'Wes', 'Albert')\n",
      "('Steven', 'Wes', 'Steven')\n",
      "('Steven', 'Will', 'Alan')\n",
      "('Steven', 'Will', 'Adam')\n",
      "('Steven', 'Will', 'Wes')\n",
      "('Steven', 'Will', 'Will')\n",
      "('Steven', 'Will', 'Albert')\n",
      "('Steven', 'Will', 'Steven')\n",
      "('Steven', 'Albert', 'Alan')\n",
      "('Steven', 'Albert', 'Adam')\n",
      "('Steven', 'Albert', 'Wes')\n",
      "('Steven', 'Albert', 'Will')\n",
      "('Steven', 'Albert', 'Albert')\n",
      "('Steven', 'Albert', 'Steven')\n",
      "('Steven', 'Steven', 'Alan')\n",
      "('Steven', 'Steven', 'Adam')\n",
      "('Steven', 'Steven', 'Wes')\n",
      "('Steven', 'Steven', 'Will')\n",
      "('Steven', 'Steven', 'Albert')\n",
      "('Steven', 'Steven', 'Steven')\n"
     ]
    }
   ],
   "source": [
    "names = ['Alan','Adam', 'Wes', 'Will', 'Albert', 'Steven']\n",
    "for name in itertools.product(names, repeat=3):\n",
    "    print(name)"
   ]
  },
  {
   "cell_type": "markdown",
   "metadata": {},
   "source": [
    "# Errors and Exception Handling"
   ]
  },
  {
   "cell_type": "code",
   "execution_count": 69,
   "metadata": {
    "ExecuteTime": {
     "end_time": "2018-09-21T15:32:49.703340Z",
     "start_time": "2018-09-21T15:32:49.699325Z"
    }
   },
   "outputs": [],
   "source": [
    "def attempt_float(x):\n",
    "    try:\n",
    "        return float(x)\n",
    "    except ValueError:\n",
    "        return x"
   ]
  },
  {
   "cell_type": "code",
   "execution_count": 74,
   "metadata": {
    "ExecuteTime": {
     "end_time": "2018-09-21T15:37:26.767777Z",
     "start_time": "2018-09-21T15:37:26.762753Z"
    }
   },
   "outputs": [
    {
     "name": "stdout",
     "output_type": "stream",
     "text": [
      "Failed\n"
     ]
    }
   ],
   "source": [
    "try:\n",
    "    f = open(\"path1\", 'r')\n",
    "except:\n",
    "    print('Failed')\n",
    "else:\n",
    "    print('Succeeded')\n",
    "finally:\n",
    "    f.close()"
   ]
  },
  {
   "cell_type": "markdown",
   "metadata": {},
   "source": [
    "# Files and the Operating System"
   ]
  },
  {
   "cell_type": "code",
   "execution_count": 79,
   "metadata": {
    "ExecuteTime": {
     "end_time": "2018-09-21T15:41:39.634129Z",
     "start_time": "2018-09-21T15:41:39.629143Z"
    }
   },
   "outputs": [],
   "source": [
    "path = \"dataset/pydata-book-2nd-edition/examples/segismundo.txt\"\n",
    "with open(path) as f:\n",
    "    lines = [x.rstrip() for x in f]\n",
    "    x.strip()\n"
   ]
  },
  {
   "cell_type": "markdown",
   "metadata": {},
   "source": [
    "### Bytes and Unicode with Files"
   ]
  },
  {
   "cell_type": "code",
   "execution_count": null,
   "metadata": {},
   "outputs": [],
   "source": []
  }
 ],
 "metadata": {
  "kernelspec": {
   "display_name": "Python 3",
   "language": "python",
   "name": "python3"
  },
  "language_info": {
   "codemirror_mode": {
    "name": "ipython",
    "version": 3
   },
   "file_extension": ".py",
   "mimetype": "text/x-python",
   "name": "python",
   "nbconvert_exporter": "python",
   "pygments_lexer": "ipython3",
   "version": "3.6.6"
  },
  "latex_envs": {
   "LaTeX_envs_menu_present": true,
   "autoclose": false,
   "autocomplete": true,
   "bibliofile": "biblio.bib",
   "cite_by": "apalike",
   "current_citInitial": 1,
   "eqLabelWithNumbers": true,
   "eqNumInitial": 1,
   "hotkeys": {
    "equation": "Ctrl-E",
    "itemize": "Ctrl-I"
   },
   "labels_anchors": false,
   "latex_user_defs": false,
   "report_style_numbering": false,
   "user_envs_cfg": false
  },
  "toc": {
   "base_numbering": 1,
   "nav_menu": {},
   "number_sections": true,
   "sideBar": true,
   "skip_h1_title": false,
   "title_cell": "Table of Contents",
   "title_sidebar": "Contents",
   "toc_cell": false,
   "toc_position": {
    "height": "calc(100% - 180px)",
    "left": "10px",
    "top": "150px",
    "width": "341.333px"
   },
   "toc_section_display": true,
   "toc_window_display": true
  },
  "varInspector": {
   "cols": {
    "lenName": 16,
    "lenType": 16,
    "lenVar": 40
   },
   "kernels_config": {
    "python": {
     "delete_cmd_postfix": "",
     "delete_cmd_prefix": "del ",
     "library": "var_list.py",
     "varRefreshCmd": "print(var_dic_list())"
    },
    "r": {
     "delete_cmd_postfix": ") ",
     "delete_cmd_prefix": "rm(",
     "library": "var_list.r",
     "varRefreshCmd": "cat(var_dic_list()) "
    }
   },
   "types_to_exclude": [
    "module",
    "function",
    "builtin_function_or_method",
    "instance",
    "_Feature"
   ],
   "window_display": false
  }
 },
 "nbformat": 4,
 "nbformat_minor": 2
}
